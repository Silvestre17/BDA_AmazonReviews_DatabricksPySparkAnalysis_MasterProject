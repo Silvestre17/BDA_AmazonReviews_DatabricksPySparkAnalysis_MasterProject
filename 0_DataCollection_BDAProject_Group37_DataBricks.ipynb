{
 "cells": [
  {
   "cell_type": "code",
   "execution_count": 0,
   "metadata": {
    "application/vnd.databricks.v1+cell": {
     "cellMetadata": {
      "byteLimit": 2048000,
      "rowLimit": 10000
     },
     "inputWidgets": {},
     "nuid": "25685255-bfb4-4de4-820b-ed00d5ebcf6b",
     "showTitle": false,
     "tableResultSettingsMap": {},
     "title": ""
    },
    "jupyter": {
     "source_hidden": true
    }
   },
   "outputs": [
    {
     "output_type": "display_data",
     "data": {
      "text/html": [
       "<center><br> <img src=\"https://upload.wikimedia.org/wikipedia/commons/0/06/Amazon_2024.svg\" style=\"width: 200px;\"></center><br>"
      ]
     },
     "metadata": {
      "application/vnd.databricks.v1+output": {
       "addedWidgets": {},
       "arguments": {},
       "data": "<center><br> <img src=\"https://upload.wikimedia.org/wikipedia/commons/0/06/Amazon_2024.svg\" style=\"width: 200px;\"></center><br>",
       "datasetInfos": [],
       "metadata": {},
       "removedWidgets": [],
       "textData": null,
       "type": "htmlSandbox"
      }
     },
     "output_type": "display_data"
    }
   ],
   "source": [
    "displayHTML('''<center><br> <img src=\"https://upload.wikimedia.org/wikipedia/commons/0/06/Amazon_2024.svg\" style=\"width: 200px;\"></center><br>''')"
   ]
  },
  {
   "cell_type": "code",
   "execution_count": 0,
   "metadata": {
    "application/vnd.databricks.v1+cell": {
     "cellMetadata": {
      "byteLimit": 2048000,
      "rowLimit": 10000
     },
     "inputWidgets": {},
     "nuid": "066cdedf-87f3-4d78-ba4b-d8ff1a190596",
     "showTitle": false,
     "tableResultSettingsMap": {},
     "title": ""
    },
    "jupyter": {
     "source_hidden": true
    }
   },
   "outputs": [
    {
     "output_type": "display_data",
     "data": {
      "text/html": [
       "\n",
       "<div style=\"display: flex; align-items: center; justify-content: center; flex-wrap: wrap;\">\n",
       "    <div style=\"flex: 1; max-width: 400px; display: flex; justify-content: center;\">\n",
       "        <img src=\"https://i.ibb.co/JBPWVYR/Logo-Nova-IMS-Black.png\" style=\"max-width: 50%; height: auto; margin-top: 50px; margin-bottom: 50px;margin-left: 6rem;\">\n",
       "    </div>\n",
       "    <div style=\"flex: 2; text-align: center; margin-top: 20px;margin-left: 8rem;\">\n",
       "        <div style=\"font-size: 28px; font-weight: bold; line-height: 1.2;\">\n",
       "            <span style=\"color: #d9345b;\">BDA Project |</span> <span style=\"color: #2a2a83;\">Sentiment Analysis on Amazon Reviews of Electronics</span>\n",
       "        </div>\n",
       "        <div style=\"font-size: 17px; font-weight: bold; margin-top: 10px;\">\n",
       "            Spring Semester | 2024 - 2025\n",
       "        </div>\n",
       "        <div style=\"font-size: 17px; font-weight: bold;\">\n",
       "            Master in Data Science and Advanced Analytics\n",
       "        </div>\n",
       "        <div style=\"margin-top: 20px;\">\n",
       "            <div>André Silvestre, 20240502</div>\n",
       "            <div>Filipa Pereira, 20240509</div>\n",
       "            <div>João Henriques, 20240499</div>\n",
       "            <div>Umeima Mahomed, 20240543</div>\n",
       "        </div>\n",
       "        <div style=\"margin-top: 20px; font-weight: bold;\">\n",
       "            Group 37\n",
       "        </div>\n",
       "    </div>\n",
       "</div>\n"
      ]
     },
     "metadata": {
      "application/vnd.databricks.v1+output": {
       "addedWidgets": {},
       "arguments": {},
       "data": "\n<div style=\"display: flex; align-items: center; justify-content: center; flex-wrap: wrap;\">\n    <div style=\"flex: 1; max-width: 400px; display: flex; justify-content: center;\">\n        <img src=\"https://i.ibb.co/JBPWVYR/Logo-Nova-IMS-Black.png\" style=\"max-width: 50%; height: auto; margin-top: 50px; margin-bottom: 50px;margin-left: 6rem;\">\n    </div>\n    <div style=\"flex: 2; text-align: center; margin-top: 20px;margin-left: 8rem;\">\n        <div style=\"font-size: 28px; font-weight: bold; line-height: 1.2;\">\n            <span style=\"color: #d9345b;\">BDA Project |</span> <span style=\"color: #2a2a83;\">Sentiment Analysis on Amazon Reviews of Electronics</span>\n        </div>\n        <div style=\"font-size: 17px; font-weight: bold; margin-top: 10px;\">\n            Spring Semester | 2024 - 2025\n        </div>\n        <div style=\"font-size: 17px; font-weight: bold;\">\n            Master in Data Science and Advanced Analytics\n        </div>\n        <div style=\"margin-top: 20px;\">\n            <div>André Silvestre, 20240502</div>\n            <div>Filipa Pereira, 20240509</div>\n            <div>João Henriques, 20240499</div>\n            <div>Umeima Mahomed, 20240543</div>\n        </div>\n        <div style=\"margin-top: 20px; font-weight: bold;\">\n            Group 37\n        </div>\n    </div>\n</div>\n",
       "datasetInfos": [],
       "metadata": {},
       "removedWidgets": [],
       "textData": null,
       "type": "htmlSandbox"
      }
     },
     "output_type": "display_data"
    }
   ],
   "source": [
    "displayHTML('''\n",
    "<div style=\"display: flex; align-items: center; justify-content: center; flex-wrap: wrap;\">\n",
    "    <div style=\"flex: 1; max-width: 400px; display: flex; justify-content: center;\">\n",
    "        <img src=\"https://i.ibb.co/JBPWVYR/Logo-Nova-IMS-Black.png\" style=\"max-width: 50%; height: auto; margin-top: 50px; margin-bottom: 50px;margin-left: 6rem;\">\n",
    "    </div>\n",
    "    <div style=\"flex: 2; text-align: center; margin-top: 20px;margin-left: 8rem;\">\n",
    "        <div style=\"font-size: 28px; font-weight: bold; line-height: 1.2;\">\n",
    "            <span style=\"color: #d9345b;\">BDA Project |</span> <span style=\"color: #2a2a83;\">Sentiment Analysis on Amazon Reviews of Electronics</span>\n",
    "        </div>\n",
    "        <div style=\"font-size: 17px; font-weight: bold; margin-top: 10px;\">\n",
    "            Spring Semester | 2024 - 2025\n",
    "        </div>\n",
    "        <div style=\"font-size: 17px; font-weight: bold;\">\n",
    "            Master in Data Science and Advanced Analytics\n",
    "        </div>\n",
    "        <div style=\"margin-top: 20px;\">\n",
    "            <div>André Silvestre, 20240502</div>\n",
    "            <div>Filipa Pereira, 20240509</div>\n",
    "            <div>João Henriques, 20240499</div>\n",
    "            <div>Umeima Mahomed, 20240543</div>\n",
    "        </div>\n",
    "        <div style=\"margin-top: 20px; font-weight: bold;\">\n",
    "            Group 37\n",
    "        </div>\n",
    "    </div>\n",
    "</div>\n",
    "''')"
   ]
  },
  {
   "cell_type": "code",
   "execution_count": 0,
   "metadata": {
    "application/vnd.databricks.v1+cell": {
     "cellMetadata": {
      "byteLimit": 2048000,
      "rowLimit": 10000
     },
     "inputWidgets": {},
     "nuid": "1369b98e-d260-4e7b-a279-876b1ccde4ba",
     "showTitle": false,
     "tableResultSettingsMap": {},
     "title": ""
    },
    "jupyter": {
     "source_hidden": true
    }
   },
   "outputs": [
    {
     "output_type": "display_data",
     "data": {
      "text/html": [
       "\n",
       "# <span style=\"color: #ffffff;\">1 & 2 | Business & Data Understanding</span>\n",
       "<style>\n",
       "@import url('https://fonts.cdnfonts.com/css/avenir-next-lt-pro?styles=29974');\n",
       "</style>\n",
       "\n",
       "<div style=\"background: linear-gradient(to right, #f79a06, #d9345b, #113d7c, #3d1c87); \n",
       "            padding: 15px; color: white; border-radius: 300px; text-align: center;\">\n",
       "    <center><h1 style=\"margin-left: 100px;margin-top: 10px; margin-bottom: 4px; color: white;\n",
       "                       font-size: 32px; font-family: 'Avenir Next LT Pro', sans-serif;\"><b>1 & 2 | Business & Data Understanding</b></h1></center>\n",
       "</div>\n"
      ]
     },
     "metadata": {
      "application/vnd.databricks.v1+output": {
       "addedWidgets": {},
       "arguments": {},
       "data": "\n# <span style=\"color: #ffffff;\">1 & 2 | Business & Data Understanding</span>\n<style>\n@import url('https://fonts.cdnfonts.com/css/avenir-next-lt-pro?styles=29974');\n</style>\n\n<div style=\"background: linear-gradient(to right, #f79a06, #d9345b, #113d7c, #3d1c87); \n            padding: 15px; color: white; border-radius: 300px; text-align: center;\">\n    <center><h1 style=\"margin-left: 100px;margin-top: 10px; margin-bottom: 4px; color: white;\n                       font-size: 32px; font-family: 'Avenir Next LT Pro', sans-serif;\"><b>1 & 2 | Business & Data Understanding</b></h1></center>\n</div>\n",
       "datasetInfos": [],
       "metadata": {},
       "removedWidgets": [],
       "textData": null,
       "type": "htmlSandbox"
      }
     },
     "output_type": "display_data"
    }
   ],
   "source": [
    "displayHTML('''\n",
    "# <span style=\"color: #ffffff;\">1 & 2 | Business & Data Understanding</span>\n",
    "<style>\n",
    "@import url('https://fonts.cdnfonts.com/css/avenir-next-lt-pro?styles=29974');\n",
    "</style>\n",
    "\n",
    "<div style=\"background: linear-gradient(to right, #f79a06, #d9345b, #113d7c, #3d1c87); \n",
    "            padding: 15px; color: white; border-radius: 300px; text-align: center;\">\n",
    "    <center><h1 style=\"margin-left: 100px;margin-top: 10px; margin-bottom: 4px; color: white;\n",
    "                       font-size: 32px; font-family: 'Avenir Next LT Pro', sans-serif;\"><b>1 & 2 | Business & Data Understanding</b></h1></center>\n",
    "</div>\n",
    "''')"
   ]
  },
  {
   "cell_type": "markdown",
   "metadata": {
    "application/vnd.databricks.v1+cell": {
     "cellMetadata": {
      "byteLimit": 2048000,
      "rowLimit": 10000
     },
     "inputWidgets": {},
     "nuid": "37b738d1-6124-4934-b87a-c98d92fe9a2b",
     "showTitle": false,
     "tableResultSettingsMap": {},
     "title": ""
    }
   },
   "source": [
    "<br><br>\n",
    "\n",
    "\n",
    "## **📝 Project Overview**\n",
    "\n",
    "This project delves into the rich landscape of e-commerce data by analyzing the *Amazon Reviews '23* dataset, focusing specifically on **Computers** products within the broader **Electronics** category. Our aim is to gain valuable insights through sentiment analysis and trend identification, providing actionable information for stakeholders.\n",
    "\n",
    "## **🎯 Project Goals**\n",
    "*   **Extract and process**: Data from Amazon Reviews '23, specifically targeting *Computer* Products in the *Electronics* category.\n",
    "*   **Conduct sentiment analysis**: Utilize pre-trained models to classify the sentiment expressed in user reviews (*Positive, Neutral, Negative*).\n",
    "*   **Identify key trends**: Uncover trending topics and themes within computer product reviews to understand consumer preferences and concerns.\n",
    "*   **Provide actionable insights**: Synthesize findings into meaningful insights for businesses and stakeholders.\n",
    "\n",
    "## [**🎲 Dataset**](https://amazon-reviews-2023.github.io/#load-item-metadata)\n",
    "\n",
    "- **Dataset Source**: [Amazon Reviews 2023](https://amazon-reviews-2023.github.io/)\n",
    "- **Dataset Description**: This dataset contains reviews from Amazon products, including user reviews, item metadata, and user metadata.\n",
    "- **Dataset Size**: 6.0 GB (Reviews) + 1.2 GB (Metadata)\n",
    "- **Dataset Format**: JSON\n",
    "\n",
    "<center>\n",
    "\n",
    "\\[[🤗 Huggingface Datasets](https://huggingface.co/datasets/McAuley-Lab/Amazon-Reviews-2023)\\] · \\[[📑 Paper](https://arxiv.org/abs/2403.03952)\\] · \\[[💻 GitHub](https://github.com/hyp1231/AmazonReviews2023)\\]\n",
    "\n",
    "</center>\n",
    "\n",
    "This is a large-scale **Amazon Reviews** dataset, collected in **2023** by [McAuley Lab](https://cseweb.ucsd.edu/~jmcauley/), and it includes rich features such as:\n",
    "\n",
    "1.  **User Reviews** (_ratings_, _text_, _helpfulness votes_, etc.);\n",
    "2.  **Item Metadata** (_descriptions_, _price_, _raw image_, etc.);\n",
    "3.  **Links** (_user-item_ / _bought together_ graphs).\n",
    "\n",
    "<center>\n",
    "\n",
    "<b>Table 1 | </b> Dataset Statistics.<br>\n",
    "\n",
    "\n",
    "|Year|#Review|#User |#Item |#Domain|Timespan       |\n",
    "|:--:|:-----:|:----:|:----:|:-----:|:-------------:|\n",
    "|2023|571.54M|54.51M|48.19M|33     |May’96 - Sep’23|\n",
    "\n",
    "<br><br>\n",
    "\n",
    "<b>Tabel 2 | </b> Dataset Statistics Grouped by Category.<br>\n",
    "\n",
    "| Category | #User | #Item | #Rating | #R_Token | #M_Token |\n",
    "|:--------:|:-----:|:-----:|:-------:|:--------:|:--------:|\n",
    "|Electronics| 18.3M | 1.6M | 43.9M | 2.7B | 1.7B |\n",
    "\n",
    "</center>\n",
    "\n",
    "<br><br>\n",
    "\n",
    "### **🔎 Dataset Attributes [<sup>[1]</sup>](https://amazon-reviews-2023.github.io/#for-user-reviews)**\n",
    "\n",
    "Our Analysis will be based on the following table that defines the Dataset structure:\n",
    "\n",
    "<center><b>Table 2 | </b> Dataset Attributes with Descriptions. <br>\n",
    "\n",
    "#### **Data Fields for `User Reviews`**\n",
    "\n",
    "|       | **Field**          | **Explanation**                                                                 | **Type** |\n",
    "|-------|--------------------|-------------------------------------------------------------------------------|-----------|\n",
    "| **1** | `rating`           | Rating of the product (from 1.0 to 5.0).                                    | float     |\n",
    "| **2** | `title`            | Title of the user review.                                                      | str       |\n",
    "| **3** | `text`             | Text body of the user review.                                                 | str       |\n",
    "| **4** | `images`           | Images that users post after they have received the product. Each image has different sizes (small, medium, large), represented by the small_image_url, medium_image_url, and large_image_url respectively. | list      |\n",
    "| **5** | `asin`             | ID of the product.                                                            | str       |\n",
    "| **6** | `parent_asin`      | Parent ID of the product. Note: Products with different colors, styles, sizes usually belong to the same parent ID. The “asin” in previous Amazon datasets is actually parent ID. Please use parent ID to find product meta. | str       |\n",
    "| **7** | `user_id`          | ID of the reviewer.                                                           | str       |\n",
    "| **8** | `timestamp`        | Time of the review (unix time).                                               | int       |\n",
    "| **9** | `verified_purchase`| User purchase verification.                                                  | bool      |\n",
    "| **10**| `helpful_vote`     | Helpful votes of the review.                                                  | int       |\n",
    "\n",
    "#### **Data Fields for `Item Metadata`**\n",
    "\n",
    "|       | **Field**         | **Explanation**                                                                 | **Type** |\n",
    "|-------|-------------------|-------------------------------------------------------------------------------|-----------|\n",
    "| **1** | `main_category`   | Main category (i.e., domain) of the product.                                 | str       |\n",
    "| **2** | `title`           | Name of the product.                                                          | str       |\n",
    "| **3** | `average_rating`  | Rating of the product shown on the product page.                              | float     |\n",
    "| **4** | `rating_number`   | Number of ratings in the product.                                             | int       |\n",
    "| **5** | `features`        | Bullet-point format features of the product.                                  | list      |\n",
    "| **6** | `description`     | Description of the product.                                                   | list      |\n",
    "| **7** | `price`           | Price in US dollars (at time of crawling).                                    | float     |\n",
    "| **8** | `images`          | Images of the product. Each image has different sizes (thumb, large, hi_res). The “variant” field shows the position of image. | list      |\n",
    "| **9** | `videos`          | Videos of the product including title and url.                                 | list      |\n",
    "| **10**| `store`           | Store name of the product.                                                    | str       |\n",
    "| **11**| `categories`      | Hierarchical categories of the product.                                       | list      |\n",
    "| **12**| `details`         | Product details, including materials, brand, sizes, etc.                       | dict      |\n",
    "| **13**| `parent_asin`     | Parent ID of the product.                                                     | str       |\n",
    "| **14**| `bought_together` | Recommended bundles from the websites.                                       | list      |\n",
    "\n",
    "</center> \n",
    "\n",
    "<br><br>"
   ]
  },
  {
   "cell_type": "code",
   "execution_count": 0,
   "metadata": {
    "application/vnd.databricks.v1+cell": {
     "cellMetadata": {
      "byteLimit": 2048000,
      "rowLimit": 10000
     },
     "inputWidgets": {},
     "nuid": "4efa9cd1-8ddd-4129-9c96-81b18f3689a4",
     "showTitle": false,
     "tableResultSettingsMap": {},
     "title": ""
    },
    "jupyter": {
     "source_hidden": true
    }
   },
   "outputs": [
    {
     "output_type": "display_data",
     "data": {
      "text/html": [
       "\n",
       "<div style=\"background: linear-gradient(to right, #f79a06, #d9345b, #113d7c, #3d1c87); \n",
       "            padding: 7px; color: white; border-radius: 500px; text-align: center;\">\n",
       "</div>\n"
      ]
     },
     "metadata": {
      "application/vnd.databricks.v1+output": {
       "addedWidgets": {},
       "arguments": {},
       "data": "\n<div style=\"background: linear-gradient(to right, #f79a06, #d9345b, #113d7c, #3d1c87); \n            padding: 7px; color: white; border-radius: 500px; text-align: center;\">\n</div>\n",
       "datasetInfos": [],
       "metadata": {},
       "removedWidgets": [],
       "textData": null,
       "type": "htmlSandbox"
      }
     },
     "output_type": "display_data"
    }
   ],
   "source": [
    "displayHTML('''\n",
    "<div style=\"background: linear-gradient(to right, #f79a06, #d9345b, #113d7c, #3d1c87); \n",
    "            padding: 7px; color: white; border-radius: 500px; text-align: center;\">\n",
    "</div>\n",
    "''')"
   ]
  },
  {
   "cell_type": "markdown",
   "metadata": {
    "application/vnd.databricks.v1+cell": {
     "cellMetadata": {
      "byteLimit": 2048000,
      "rowLimit": 10000
     },
     "inputWidgets": {},
     "nuid": "64009050-14de-491c-87cc-6162fefb602a",
     "showTitle": false,
     "tableResultSettingsMap": {},
     "title": ""
    }
   },
   "source": [
    "### **PySpark Session**"
   ]
  },
  {
   "cell_type": "code",
   "execution_count": 0,
   "metadata": {
    "application/vnd.databricks.v1+cell": {
     "cellMetadata": {
      "byteLimit": 2048000,
      "rowLimit": 10000
     },
     "inputWidgets": {},
     "nuid": "88ddad66-174d-4057-9e42-da642ea80f56",
     "showTitle": false,
     "tableResultSettingsMap": {},
     "title": ""
    },
    "tags": []
   },
   "outputs": [],
   "source": [
    "from pyspark.sql import SparkSession\n",
    "\n",
    "# Step 0: Initialize Spark Session with optimized configurations\n",
    "# Source: https://spark.apache.org/docs/latest/configuration.html\n",
    "spark = (\n",
    "    SparkSession.builder.appName(\"AmazonReviewsBigDataAnalytics_DataCollection\")\n",
    "    .config(\"spark.driver.memory\", \"12g\")                           # Adjust memory for driver\n",
    "    .config(\"spark.executor.memory\", \"12g\")                         # Adjust memory per executor\n",
    "    .getOrCreate()\n",
    ")"
   ]
  },
  {
   "cell_type": "markdown",
   "metadata": {
    "application/vnd.databricks.v1+cell": {
     "cellMetadata": {
      "byteLimit": 2048000,
      "rowLimit": 10000
     },
     "inputWidgets": {},
     "nuid": "8ba76bc7-22f1-410a-85e6-0da61aacee6c",
     "showTitle": false,
     "tableResultSettingsMap": {},
     "title": ""
    }
   },
   "source": [
    "## 📚 **Libraries Import**"
   ]
  },
  {
   "cell_type": "code",
   "execution_count": 0,
   "metadata": {
    "application/vnd.databricks.v1+cell": {
     "cellMetadata": {
      "byteLimit": 2048000,
      "rowLimit": 10000
     },
     "inputWidgets": {},
     "nuid": "b7916170-2703-4ac6-8bd6-7457d858b414",
     "showTitle": false,
     "tableResultSettingsMap": {},
     "title": ""
    }
   },
   "outputs": [],
   "source": [
    "# Imports Gerais\n",
    "import os\n",
    "\n",
    "# Imports Python\n",
    "import warnings\n",
    "\n",
    "warnings.filterwarnings(\"ignore\")\n",
    "\n",
    "# Imports PySpark\n",
    "import pyspark.sql.types as T\n",
    "from pyspark.sql.types import *\n",
    "from pyspark.sql.functions import col, broadcast, to_json, from_unixtime, year"
   ]
  },
  {
   "cell_type": "markdown",
   "metadata": {
    "application/vnd.databricks.v1+cell": {
     "cellMetadata": {
      "byteLimit": 2048000,
      "rowLimit": 10000
     },
     "inputWidgets": {},
     "nuid": "11e5c78d-5614-4a26-a1e4-fb1fba2bd1e4",
     "showTitle": false,
     "tableResultSettingsMap": {},
     "title": ""
    }
   },
   "source": [
    "---"
   ]
  },
  {
   "cell_type": "markdown",
   "metadata": {
    "application/vnd.databricks.v1+cell": {
     "cellMetadata": {
      "byteLimit": 2048000,
      "rowLimit": 10000
     },
     "inputWidgets": {},
     "nuid": "e3469419-8b0d-428e-a546-e6dd76e26f4b",
     "showTitle": false,
     "tableResultSettingsMap": {},
     "title": ""
    }
   },
   "source": [
    "## 🧮 **Import Databases**"
   ]
  },
  {
   "cell_type": "markdown",
   "metadata": {
    "application/vnd.databricks.v1+cell": {
     "cellMetadata": {
      "byteLimit": 2048000,
      "rowLimit": 10000
     },
     "inputWidgets": {},
     "nuid": "911bfa4c-0979-42ef-b07f-62228058b43a",
     "showTitle": false,
     "tableResultSettingsMap": {},
     "title": ""
    }
   },
   "source": [
    "### **🟥 Databricks FileStore**\n",
    "\n",
    "- If you are using Databricks, you can just use the following code to import the dataset:\n",
    "    - Otherwise, you replace **`%sh`** with **`!`** and run the command in your terminal. Don't forget to replace the path with your local path.\n"
   ]
  },
  {
   "cell_type": "code",
   "execution_count": 0,
   "metadata": {
    "application/vnd.databricks.v1+cell": {
     "cellMetadata": {
      "byteLimit": 2048000,
      "rowLimit": 10000
     },
     "inputWidgets": {},
     "nuid": "f9ca1678-628f-406a-97c4-3f5159c4e83e",
     "showTitle": false,
     "tableResultSettingsMap": {},
     "title": ""
    }
   },
   "outputs": [],
   "source": [
    "# Step 1: Download Datasets to DBFS\n",
    "# Download files using Databricks shell command (%sh) if not already present\n",
    "# Source: Databricks documentation on file handling - https://docs.databricks.com/en/files/index.html"
   ]
  },
  {
   "cell_type": "code",
   "execution_count": 0,
   "metadata": {
    "application/vnd.databricks.v1+cell": {
     "cellMetadata": {
      "byteLimit": 2048000,
      "rowLimit": 10000
     },
     "inputWidgets": {},
     "nuid": "9047e473-2f03-42c2-aa7f-b32e80d7a249",
     "showTitle": false,
     "tableResultSettingsMap": {},
     "title": ""
    },
    "vscode": {
     "languageId": "bat"
    }
   },
   "outputs": [
    {
     "output_type": "stream",
     "name": "stdout",
     "output_type": "stream",
     "text": [
      "--2025-05-12 11:04:11--  https://mcauleylab.ucsd.edu/public_datasets/data/amazon_2023/raw/review_categories/Electronics.jsonl.gz\nResolving mcauleylab.ucsd.edu (mcauleylab.ucsd.edu)... 169.228.63.88\nConnecting to mcauleylab.ucsd.edu (mcauleylab.ucsd.edu)|169.228.63.88|:443... connected.\nHTTP request sent, awaiting response... 200 OK\nLength: 6474438619 (6.0G) [application/gzip]\nSaving to: ‘/databricks/driver/Electronics.jsonl.gz’\n\n     0K .......... .......... .......... .......... ..........  0%  900K 1h57m\n    50K .......... .......... .......... .......... ..........  0% 1.84M 86m34s\n   100K .......... .......... .......... .......... ..........  0% 8.18M 61m54s\n   150K .......... .......... .......... .......... ..........  0% 1.80M 60m41s\n   200K .......... .......... .......... .......... ..........  0% 19.3M 49m37s\n   250K .......... .......... .......... .......... ..........  0% 2.02M 49m51s\n   300K .......... .......... .......... .......... ..........  0% 30.2M 43m13s\n   350K .......... .......... .......... .......... ..........  0% 25.6M 38m19s\n   400K .......... .......... .......... .......... ..........  0% 16.3M 34m45s\n   450K .......... .......... .......... .......... ..........  0%  163M 31m20s\n   500K .......... .......... .......... .......... ..........  0%  161M 28m33s\n   550K .......... .......... .......... .......... ..........  0% 2.06M 30m20s\n   600K .......... .......... .......... .......... ..........  0% 6.22M 29m17s\n   650K .......... .......... .......... .......... ..........  0% 54.1M 27m19s\n   700K .......... .......... .......... .......... ..........  0% 38.7M 25m41s\n   750K .......... .......... .......... .......... ..........  0%  175M 24m7s\n   800K .......... .......... .......... .......... ..........  0% 61.5M 22m47s\n   850K .......... .......... .......... .......... ..........  0%  185M 21m33s\n   900K .......... .......... .......... .......... ..........  0% 66.9M 20m30s\n   950K .......... .......... .......... .......... ..........  0%  230M 19m30s\n  1000K .......... .......... .......... .......... ..........  0%  211M 18m36s\n  1050K .......... .......... .......... .......... ..........  0% 50.2M 17m51s\n  1100K .......... .......... .......... .......... ..........  0% 2.88M 18m37s\n  1150K .......... .......... .......... .......... ..........  0%  188M 17m52s\n  1200K .......... .......... .......... .......... ..........  0%  218M 17m10s\n  1250K .......... .......... .......... .......... ..........  0%  269M 16m31s\n  1300K .......... .......... .......... .......... ..........  0%  201M 15m56s\n  1350K .......... .......... .......... .......... ..........  0% 7.42M 15m51s\n  1400K .......... .......... .......... .......... ..........  0% 10.3M 15m39s\n  1450K .......... .......... .......... .......... ..........  0% 31.7M 15m15s\n  1500K .......... .......... .......... .......... ..........  0%  157M 14m46s\n  1550K .......... .......... .......... .......... ..........  0% 34.6M 14m24s\n  1600K .......... .......... .......... .......... ..........  0% 2.36M 15m17s\n  1650K .......... .......... .......... .......... ..........  0% 54.6M 14m54s\n  1700K .......... .......... .......... .......... ..........  0%  170M 14m29s\n  1750K .......... .......... .......... .......... ..........  0% 67.3M 14m8s\n  1800K .......... .......... .......... .......... ..........  0%  170M 13m46s\n  1850K .......... .......... .......... .......... ..........  0%  159M 13m25s\n  1900K .......... .......... .......... .......... ..........  0%  171M 13m5s\n  1950K .......... .......... .......... .......... ..........  0% 40.0M 12m49s\n  2000K .......... .......... .......... .......... ..........  0%  144M 12m32s\n  2050K .......... .......... .......... .......... ..........  0% 59.6M 12m16s\n  2100K .......... .......... .......... .......... ..........  0% 17.3M 12m7s\n  2150K .......... .......... .......... .......... ..........  0%  147M 11m52s\n  2200K .......... .......... .......... .......... ..........  0% 3.81M 12m12s\n  2250K .......... .......... .......... .......... ..........  0%  136M 11m57s\n  2300K .......... .......... .......... .......... ..........  0%  202M 11m42s\n  2350K .......... .......... .......... .......... ..........  0%  177M 11m29s\n  2400K .......... .......... .......... .......... ..........  0% 73.6M 11m16s\n  2450K .......... .......... .......... .......... ..........  0%  180M 11m3s\n  2500K .......... .......... .......... .......... ..........  0% 2.70M 11m35s\n  2550K .......... .......... .......... .......... ..........  0%  163M 11m23s\n  2600K .......... .......... .......... .......... ..........  0%  165M 11m10s\n  2650K .......... .......... .......... .......... ..........  0%  185M 10m59s\n  2700K .......... .......... .......... .......... ..........  0%  196M 10m47s\n  2750K .......... .......... .......... .......... ..........  0%  181M 10m36s\n  2800K .......... .......... .......... .......... ..........  0% 19.2M 10m31s\n  2850K .......... .......... .......... .......... ..........  0%  185M 10m20s\n  2900K .......... .......... .......... .......... ..........  0%  284M 10m10s\n  2950K .......... .......... .......... .......... ..........  0%  198M 10m1s\n  3000K .......... .......... .......... .......... ..........  0%  203M 9m51s\n  3050K .......... .......... .......... .......... ..........  0% 12.5M 9m50s\n  3100K .......... .......... .......... .......... ..........  0% 66.0M 9m42s\n  3150K .......... .......... .......... .......... ..........  0%  188M 9m33s\n  3200K .......... .......... .......... .......... ..........  0% 6.22M 9m40s\n  3250K .......... .......... .......... .......... ..........  0%  182M 9m31s\n  3300K .......... .......... .......... .......... ..........  0%  194M 9m23s\n  3350K .......... .......... .......... .......... ..........  0%  181M 9m15s\n  3400K .......... .......... .......... .......... ..........  0%  189M 9m8s\n  3450K .......... .......... .......... .......... ..........  0%  179M 9m1s\n  3500K .......... .......... .......... .......... ..........  0%  186M 8m53s\n  3550K .......... .......... .......... .......... ..........  0%  183M 8m46s\n  3600K .......... .......... .......... .......... ..........  0%  198M 8m40s\n  3650K .......... .......... .......... .......... ..........  0% 6.24M 8m46s\n  3700K .......... .......... .......... .......... ..........  0% 30.8M 8m42s\n  3750K .......... .......... .......... .......... ..........  0%  152M 8m35s\n  3800K .......... .......... .......... .......... ..........  0%  180M 8m29s\n  3850K .......... .......... .......... .......... ..........  0%  167M 8m23s\n  3900K .......... .......... .......... .......... ..........  0%  167M 8m17s\n  3950K .......... .......... .......... .......... ..........  0% 4.19M 8m29s\n  4000K .......... .......... .......... .......... ..........  0%  201M 8m23s\n  4050K .......... .......... .......... .......... ..........  0%  149M 8m18s\n  4100K .......... .......... .......... .......... ..........  0% 45.0M 8m13s\n  4150K .......... .......... .......... .......... ..........  0%  175M 8m8s\n  4200K .......... .......... .......... .......... ..........  0%  193M 8m3s\n  4250K .......... .......... .......... .......... ..........  0%  168M 7m57s\n  4300K .......... .......... .......... .......... ..........  0%  166M 7m52s\n  4350K .......... .......... .......... .......... ..........  0%  180M 7m47s\n  4400K .......... .......... .......... .......... ..........  0% 6.77M 7m52s\n  4450K .......... .......... .......... .......... ..........  0%  153M 7m48s\n  4500K .......... .......... .......... .......... ..........  0%  196M 7m43s\n  4550K .......... .......... .......... .......... ..........  0%  181M 7m38s\n  4600K .......... .......... .......... .......... ..........  0%  196M 7m33s\n  4650K .......... .......... .......... .......... ..........  0%  183M 7m29s\n  4700K .......... .......... .......... .......... ..........  0%  246M 7m25s\n  4750K .......... .......... .......... .......... ..........  0%  264M 7m20s\n  4800K .......... .......... .......... .......... ..........  0%  282M 7m16s\n  4850K .......... .......... .......... .......... ..........  0%  266M 7m12s\n  4900K .......... .......... .......... .......... ..........  0% 5.82M 7m18s\n  4950K .......... .......... .......... .......... ..........  0%  150M 7m14s\n  5000K .......... .......... .......... .......... ..........  0%  152M 7m10s\n  5050K .......... .......... .......... .......... ..........  0%  167M 7m6s\n  5100K .......... .......... .......... .......... ..........  0%  161M 7m2s\n  5150K .......... .......... .......... .......... ..........  0%  184M 6m59s\n  5200K .......... .......... .......... .......... ..........  0%  167M 6m55s\n  5250K .......... .......... .......... .......... ..........  0%  176M 6m51s\n  5300K .......... .......... .......... .......... ..........  0%  205M 6m48s\n  5350K .......... .......... .......... .......... ..........  0%  179M 6m44s\n  5400K .......... .......... .......... .......... ..........  0%  196M 6m41s\n  5450K .......... .......... .......... .......... ..........  0% 40.3M 6m39s\n  5500K .......... .......... .......... .......... ..........  0%  211M 6m35s\n  5550K .......... .......... .......... .......... ..........  0%  242M 6m32s\n  5600K .......... .......... .......... .......... ..........  0%  226M 6m29s\n  5650K .......... .......... .......... .......... ..........  0% 4.03M 6m39s\n  5700K .......... .......... .......... .......... ..........  0%  180M 6m36s\n  5750K .......... .......... .......... .......... ..........  0%  179M 6m33s\n  5800K .......... .......... .......... .......... ..........  0%  184M 6m30s\n  5850K .......... .......... .......... .......... ..........  0%  159M 6m27s\n  5900K .......... .......... .......... .......... ..........  0%  203M 6m24s\n  5950K .......... .......... .......... .......... ..........  0%  159M 6m21s\n  6000K .......... .......... .......... .......... ..........  0% 17.7M 6m20s\n  6050K .......... .......... .......... .......... ..........  0%  209M 6m18s\n  6100K .......... .......... .......... .......... ..........  0%  202M 6m15s\n  6150K .......... .......... .......... .......... ..........  0%  164M 6m12s\n  6200K .......... .......... .......... .......... ..........  0%  190M 6m9s\n  6250K .......... .......... .......... .......... ..........  0% 72.6M 6m7s\n  6300K .......... .......... .......... .......... ..........  0%  202M 6m4s\n  6350K .......... .......... .......... .......... ..........  0%  182M 6m2s\n  6400K .......... .......... .......... .......... ..........  0%  187M 5m59s\n  6450K .......... .......... .......... .......... ..........  0%  153M 5m57s\n  6500K .......... .......... .......... .......... ..........  0%  172M 5m54s\n  6550K .......... .......... .......... .......... ..........  0%  157M 5m52s\n  6600K .......... .......... .......... .......... ..........  0%  153M 5m50s\n  6650K .......... .......... .......... .......... ..........  0%  164M 5m47s\n  6700K .......... .......... .......... .......... ..........  0%  179M 5m45s\n  6750K .......... .......... .......... .......... ..........  0% 4.36M 5m53s\n  6800K .......... .......... .......... .......... ..........  0%  213M 5m50s\n  6850K .......... .......... .......... .......... ..........  0%  259M 5m48s\n  6900K .......... .......... .......... .......... ..........  0% 33.3M 5m47s\n  6950K .......... .......... .......... .......... ..........  0%  167M 5m45s\n  7000K .......... .......... .......... .......... ..........  0% 29.9M 5m44s\n  7050K .......... .......... .......... .......... ..........  0% 28.3M 5m43s\n  7100K .......... .......... .......... .......... ..........  0%  196M 5m41s\n  7150K .......... .......... .......... .......... ..........  0%  178M 5m39s\n  7200K .......... .......... .......... .......... ..........  0% 8.46M 5m41s\n  7250K .......... .......... .......... .......... ..........  0%  161M 5m39s\n  7300K .......... .......... .......... .......... ..........  0% 9.45M 5m41s\n  7350K .......... .......... .......... .......... ..........  0% 22.8M 5m41s\n  7400K .......... .......... .......... .......... ..........  0%  266M 5m39s\n  7450K .......... .......... .......... .......... ..........  0%  189M 5m37s\n  7500K .......... .......... .......... .......... ..........  0% 26.7M 5m36s\n  7550K .......... .......... .......... .......... ..........  0%  151M 5m34s\n  7600K .......... .......... .......... .......... ..........  0%  196M 5m32s\n  7650K .......... .......... .......... .......... ..........  0% 11.9M 5m33s\n  7700K .......... .......... .......... .......... ..........  0%  192M 5m31s\n  7750K .......... .......... .......... .......... ..........  0% 15.8M 5m32s\n  7800K .......... .......... .......... .......... ..........  0%  260M 5m30s\n  7850K .......... .......... .......... .......... ..........  0%  184M 5m28s\n  7900K .......... .......... .......... .......... ..........  0% 12.8M 5m29s\n  7950K .......... .......... .......... .......... ..........  0% 19.0M 5m29s\n  8000K .......... .......... .......... .......... ..........  0%  177M 5m27s\n  8050K .......... .......... .......... .......... ..........  0%  162M 5m25s\n  8100K .......... .......... .......... .......... ..........  0% 33.5M 5m24s\n  8150K .......... .......... .......... .......... ..........  0%  161M 5m22s\n  8200K .......... .......... .......... .......... ..........  0%  189M 5m21s\n  8250K .......... .......... .......... .......... ..........  0% 15.3M 5m21s\n  8300K .......... .......... .......... .......... ..........  0%  247M 5m19s\n  8350K .......... .......... .......... .......... ..........  0%  196M 5m18s\n  8400K .......... .......... .......... .......... ..........  0%  197M 5m16s\n  8450K .......... .......... .......... .......... ..........  0% 17.4M 5m16s\n  8500K .......... .......... .......... .......... ..........  0%  200M 5m15s\n  8550K .......... .......... .......... .......... ..........  0% 10.5M 5m16s\n  8600K .......... .......... .......... .......... ..........  0%  190M 5m15s\n  8650K .......... .......... .......... .......... ..........  0%  171M 5m13s\n  8700K .......... .......... .......... .......... ..........  0% 20.9M 5m13s\n  8750K .......... .......... .......... .......... ..........  0% 35.0M 5m12s\n  8800K .......... .......... .......... .......... ..........  0%  190M 5m10s\n  8850K .......... .......... .......... .......... ..........  0%  184M 5m9s\n  8900K .......... .......... .......... .......... ..........  0%  181M 5m7s\n  8950K .......... .......... .......... .......... ..........  0% 69.7M 5m6s\n  9000K .......... .......... .......... .......... ..........  0%  199M 5m5s\n  9050K .......... .......... .......... .......... ..........  0% 11.1M 5m6s\n  9100K .......... .......... .......... .......... ..........  0% 46.1M 5m5s\n  9150K .......... .......... .......... .......... ..........  0% 17.0M 5m5s\n  9200K .......... .......... .......... .......... ..........  0% 72.8M 5m4s\n  9250K .......... .......... .......... .......... ..........  0% 15.4M 5m5s\n  9300K .......... .......... .......... .......... ..........  0% 16.0M 5m5s\n  9350K .......... .......... .......... .......... ..........  0%  184M 5m4s\n  9400K .......... .......... .......... .......... ..........  0%  199M 5m2s\n  9450K .......... .......... .......... .......... ..........  0% 37.9M 5m1s\n  9500K .......... .......... .......... .......... ..........  0% 12.3M 5m3s\n  9550K .......... .......... .......... .......... ..........  0%  153M 5m1s\n  9600K .......... .......... .......... .......... ..........  0%  197M 5m0s\n  9650K .......... .......... .......... .......... ..........  0%  185M 4m58s\n  9700K .......... .......... .......... .......... ..........  0% 17.0M 4m59s\n  9750K .......... .......... .......... .......... ..........  0%  132M 4m57s\n  9800K .......... .......... .......... .......... ..........  0%  193M 4m56s\n  9850K .......... .......... .......... .......... ..........  0% 90.0M 4m55s\n  9900K .......... .......... .......... .......... ..........  0% 43.7M 4m54s\n  9950K .......... .......... .......... .......... ..........  0% 8.60M 4m56s\n 10000K .......... .......... .......... .......... ..........  0% 10.9M 4m58s\n 10050K .......... .......... .......... .......... ..........  0%  155M 4m56s\n 10100K .......... .......... .......... .......... ..........  0%  211M 4m55s\n 10150K .......... .......... .......... .......... ..........  0% 88.0M 4m54s\n 10200K .......... .......... .......... .......... ..........  0% 56.1M 4m53s\n 10250K .......... .......... .......... .......... ..........  0% 13.1M 4m54s\n 10300K .......... .......... .......... .......... ..........  0%  192M 4m53s\n 10350K .......... .......... .......... .......... ..........  0%  209M 4m51s\n 10400K .......... .......... .......... .......... ..........  0%  201M 4m50s\n 10450K .......... .......... .......... .......... ..........  0% 27.0M 4m50s\n 10500K .......... .......... .......... .......... ..........  0%  188M 4m49s\n 10550K .......... .......... .......... .......... ..........  0%  179M 4m47s\n 10600K .......... .......... .......... .......... ..........  0% 14.1M 4m48s\n 10650K .......... .......... .......... .......... ..........  0%  161M 4m47s\n 10700K .......... .......... .......... .......... ..........  0%  282M 4m46s\n 10750K .......... .......... .......... .......... ..........  0%  263M 4m44s\n 10800K .......... .......... .......... .......... ..........  0% 11.5M 4m46s\n 10850K .......... .......... .......... .......... ..........  0% 26.7M 4m45s\n 10900K .......... .......... .......... .......... ..........  0%  174M 4m44s\n 10950K .......... .......... .......... .......... ..........  0%  173M 4m43s\n 11000K .......... .......... .......... .......... ..........  0%  172M 4m42s\n 11050K .......... .......... .......... .......... ..........  0% 13.1M 4m43s\n 11100K .......... .......... .......... .......... ..........  0% 46.0M 4m42s\n 11150K .......... .......... .......... .......... ..........  0% 24.5M 4m42s\n 11200K .......... .......... .......... .......... ..........  0%  159M 4m41s\n 11250K .......... .......... .......... .......... ..........  0% 65.3M 4m40s\n 11300K .......... .......... .......... .......... ..........  0%  195M 4m39s\n 11350K .......... .......... .......... .......... ..........  0% 45.0M 4m38s\n 11400K .......... .......... .......... .......... ..........  0%  214M 4m37s\n 11450K .......... .......... .......... .......... ..........  0%  172M 4m36s\n 11500K .......... .......... .......... .......... ..........  0% 15.5M 4m37s\n 11550K .......... .......... .......... .......... ..........  0%  158M 4m36s\n 11600K .......... .......... .......... .......... ..........  0% 50.7M 4m35s\n 11650K .......... .......... .......... .......... ..........  0%  181M 4m34s\n 11700K .......... .......... .......... .......... ..........  0% 9.45M 4m36s\n 11750K .......... .......... .......... .......... ..........  0% 42.6M 4m35s\n 11800K .......... .......... .......... .......... ..........  0%  277M 4m34s\n 11850K .......... .......... .......... .......... ..........  0% 39.2M 4m33s\n 11900K .......... .......... .......... .......... ..........  0% 17.6M 4m34s\n 11950K .......... .......... .......... .......... ..........  0%  178M 4m33s\n 12000K .......... .......... .......... .......... ..........  0% 91.5M 4m32s\n 12050K .......... .......... .......... .......... ..........  0% 33.0M 4m32s\n 12100K .......... .......... .......... .......... ..........  0%  173M 4m31s\n 12150K .......... .......... .......... .......... ..........  0%  172M 4m30s\n 12200K .......... .......... .......... .......... ..........  0% 23.8M 4m30s\n 12250K .......... .......... .......... .......... ..........  0%  175M 4m29s\n 12300K .......... .......... .......... .......... ..........  0%  163M 4m28s\n 12350K .......... .......... .......... .......... ..........  0% 12.4M 4m29s\n 12400K .......... .......... .......... .......... ..........  0%  172M 4m28s\n 12450K .......... .......... .......... .......... ..........  0%  164M 4m27s\n 12500K .......... .......... .......... .......... ..........  0% 25.4M 4m27s\n 12550K .......... .......... .......... .......... ..........  0%  181M 4m26s\n 12600K .......... .......... .......... .......... ..........  0%  198M 4m25s\n 12650K .......... .......... .......... .......... ..........  0% 9.95M 4m26s\n 12700K .......... .......... .......... .......... ..........  0%  198M 4m25s\n 12750K .......... .......... .......... .......... ..........  0% 29.1M 4m25s\n 12800K .......... .......... .......... .......... ..........  0% 23.8M 4m25s\n 12850K .......... .......... .......... .......... ..........  0%  183M 4m24s\n 12900K .......... .......... .......... .......... ..........  0%  154M 4m23s\n 12950K .......... .......... .......... .......... ..........  0% 41.0M 4m23s\n 13000K .......... .......... .......... .......... ..........  0% 98.4M 4m22s\n 13050K .......... .......... .......... .......... ..........  0%  255M 4m21s\n 13100K .......... .......... .......... .......... ..........  0% 29.1M 4m21s\n 13150K .......... .......... .......... .......... ..........  0% 18.9M 4m21s\n 13200K .......... .......... .......... .......... ..........  0%  187M 4m20s\n 13250K .......... .......... .......... .......... ..........  0% 49.3M 4m20s\n 13300K .......... .......... .......... .......... ..........  0% 16.8M 4m20s\n 13350K .......... .......... .......... .......... ..........  0%  187M 4m19s\n 13400K .......... .......... .......... .......... ..........  0%  171M 4m19s\n 13450K .......... .......... .......... .......... ..........  0% 19.2M 4m19s\n 13500K .......... .......... .......... .......... ..........  0% 95.9M 4m18s\n 13550K .......... .......... .......... .......... ..........  0% 17.5M 4m18s\n 13600K .......... .......... .......... .......... ..........  0%  199M 4m18s\n 13650K .......... .......... .......... .......... ..........  0% 23.6M 4m18s\n 13700K .......... .......... .......... .......... ..........  0%  149M 4m17s\n 13750K .......... .......... .......... .......... ..........  0%  184M 4m16s\n 13800K .......... .......... .......... .......... ..........  0% 11.1M 4m17s\n 13850K .......... .......... .......... .......... ..........  0%  179M 4m16s\n 13900K .......... .......... .......... .......... ..........  0% 35.1M 4m16s\n 13950K .......... .......... .......... .......... ..........  0% 31.4M 4m16s\n 14000K .......... .......... .......... .......... ..........  0%  198M 4m15s\n 14050K .......... .......... .......... .......... ..........  0%  159M 4m14s\n 14100K .......... .......... .......... .......... ..........  0% 19.7M 4m14s\n 14150K .......... .......... .......... .......... ..........  0% 93.9M 4m14s\n 14200K .......... .......... .......... .......... ..........  0%  191M 4m13s\n 14250K .......... .......... .......... .......... ..........  0% 18.0M 4m13s\n 14300K .......... .......... .......... .......... ..........  0%  193M 4m13s\n 14350K .......... .......... .......... .......... ..........  0% 15.1M 4m13s\n 14400K .......... .......... .......... .......... ..........  0%  234M 4m12s\n 14450K .......... .......... .......... .......... ..........  0%  171M 4m12s\n 14500K .......... .......... .......... .......... ..........  0% 15.3M 4m12s\n 14550K .......... .......... .......... .......... ..........  0%  153M 4m11s\n 14600K .......... .......... .......... .......... ..........  0% 25.4M 4m11s\n 14650K .......... .......... .......... .......... ..........  0%  101M 4m11s\n 14700K .......... .......... .......... .......... ..........  0%  181M 4m10s\n 14750K .......... .......... .......... .......... ..........  0% 18.7M 4m10s\n 14800K .......... .......... .......... .......... ..........  0% 38.3M 4m10s\n 14850K .......... .......... .......... .......... ..........  0%  181M 4m9s\n 14900K .......... .......... .......... .......... ..........  0%  199M 4m8s\n 14950K .......... .......... .......... .......... ..........  0% 13.6M 4m9s\n 15000K .......... .......... .......... .......... ..........  0% 19.8M 4m9s\n 15050K .......... .......... .......... .......... ..........  0%  123M 4m9s\n 15100K .......... .......... .......... .......... ..........  0% 24.0M 4m9s\n 15150K .......... .......... .......... .......... ..........  0%  123M 4m8s\n 15200K .......... .......... .......... .......... ..........  0%  196M 4m7s\n 15250K .......... .......... .......... .......... ..........  0% 16.3M 4m8s\n 15300K .......... .......... .......... .......... ..........  0% 19.7M 4m8s\n 15350K .......... .......... .......... .......... ..........  0% 33.1M 4m8s\n 15400K .......... .......... .......... .......... ..........  0%  174M 4m7s\n 15450K .......... .......... .......... .......... ..........  0% 19.6M 4m7s\n 15500K .......... .......... .......... .......... .......... \n\n*** WARNING: max output size exceeded, skipping output. ***\n\n. 98%  181M 0s\n1266000K .......... .......... .......... .......... .......... 98%  196M 0s\n1266050K .......... .......... .......... .......... .......... 98%  160M 0s\n1266100K .......... .......... .......... .......... .......... 98% 12.9M 0s\n1266150K .......... .......... .......... .......... .......... 98%  182M 0s\n1266200K .......... .......... .......... .......... .......... 98% 4.36M 0s\n1266250K .......... .......... .......... .......... .......... 98% 69.5M 0s\n1266300K .......... .......... .......... .......... .......... 98%  195M 0s\n1266350K .......... .......... .......... .......... .......... 98%  184M 0s\n1266400K .......... .......... .......... .......... .......... 98%  208M 0s\n1266450K .......... .......... .......... .......... .......... 98%  257M 0s\n1266500K .......... .......... .......... .......... .......... 98%  276M 0s\n1266550K .......... .......... .......... .......... .......... 98%  252M 0s\n1266600K .......... .......... .......... .......... .......... 98%  287M 0s\n1266650K .......... .......... .......... .......... .......... 98%  190M 0s\n1266700K .......... .......... .......... .......... .......... 98%  191M 0s\n1266750K .......... .......... .......... .......... .......... 98%  182M 0s\n1266800K .......... .......... .......... .......... .......... 98%  191M 0s\n1266850K .......... .......... .......... .......... .......... 98%  185M 0s\n1266900K .......... .......... .......... .......... .......... 98%  202M 0s\n1266950K .......... .......... .......... .......... .......... 98% 40.9M 0s\n1267000K .......... .......... .......... .......... .......... 98% 4.72M 0s\n1267050K .......... .......... .......... .......... .......... 98%  182M 0s\n1267100K .......... .......... .......... .......... .......... 98%  201M 0s\n1267150K .......... .......... .......... .......... .......... 98% 30.3M 0s\n1267200K .......... .......... .......... .......... .......... 98% 28.2M 0s\n1267250K .......... .......... .......... .......... .......... 98%  180M 0s\n1267300K .......... .......... .......... .......... .......... 98%  230M 0s\n1267350K .......... .......... .......... .......... .......... 98%  261M 0s\n1267400K .......... .......... .......... .......... .......... 98% 26.6M 0s\n1267450K .......... .......... .......... .......... .......... 98%  184M 0s\n1267500K .......... .......... .......... .......... .......... 98%  189M 0s\n1267550K .......... .......... .......... .......... .......... 98%  181M 0s\n1267600K .......... .......... .......... .......... .......... 98%  199M 0s\n1267650K .......... .......... .......... .......... .......... 98%  184M 0s\n1267700K .......... .......... .......... .......... .......... 98% 69.7M 0s\n1267750K .......... .......... .......... .......... .......... 98%  178M 0s\n1267800K .......... .......... .......... .......... .......... 98%  161M 0s\n1267850K .......... .......... .......... .......... .......... 98%  164M 0s\n1267900K .......... .......... .......... .......... .......... 98%  197M 0s\n1267950K .......... .......... .......... .......... .......... 98%  185M 0s\n1268000K .......... .......... .......... .......... .......... 98%  199M 0s\n1268050K .......... .......... .......... .......... .......... 98%  176M 0s\n1268100K .......... .......... .......... .......... .......... 98%  279M 0s\n1268150K .......... .......... .......... .......... .......... 98%  256M 0s\n1268200K .......... .......... .......... .......... .......... 98%  285M 0s\n1268250K .......... .......... .......... .......... .......... 98%  249M 0s\n1268300K .......... .......... .......... .......... .......... 98%  205M 0s\n1268350K .......... .......... .......... .......... .......... 98% 44.4M 0s\n1268400K .......... .......... .......... .......... .......... 98%  213M 0s\n1268450K .......... .......... .......... .......... .......... 98%  176M 0s\n1268500K .......... .......... .......... .......... .......... 98% 6.34M 0s\n1268550K .......... .......... .......... .......... .......... 98% 9.28M 0s\n1268600K .......... .......... .......... .......... .......... 98% 98.4M 0s\n1268650K .......... .......... .......... .......... .......... 98%  259M 0s\n1268700K .......... .......... .......... .......... .......... 98%  290M 0s\n1268750K .......... .......... .......... .......... .......... 98%  131M 0s\n1268800K .......... .......... .......... .......... .......... 98% 48.9M 0s\n1268850K .......... .......... .......... .......... .......... 98% 39.8M 0s\n1268900K .......... .......... .......... .......... .......... 98% 11.7M 0s\n1268950K .......... .......... .......... .......... .......... 98%  185M 0s\n1269000K .......... .......... .......... .......... .......... 98%  162M 0s\n1269050K .......... .......... .......... .......... .......... 98%  185M 0s\n1269100K .......... .......... .......... .......... .......... 98% 6.15M 0s\n1269150K .......... .......... .......... .......... .......... 98% 19.0M 0s\n1269200K .......... .......... .......... .......... .......... 98% 9.15M 0s\n1269250K .......... .......... .......... .......... .......... 98%  172M 0s\n1269300K .......... .......... .......... .......... .......... 99%  202M 0s\n1269350K .......... .......... .......... .......... .......... 99%  175M 0s\n1269400K .......... .......... .......... .......... .......... 99%  199M 0s\n1269450K .......... .......... .......... .......... .......... 99%  176M 0s\n1269500K .......... .......... .......... .......... .......... 99%  196M 0s\n1269550K .......... .......... .......... .......... .......... 99%  178M 0s\n1269600K .......... .......... .......... .......... .......... 99%  202M 0s\n1269650K .......... .......... .......... .......... .......... 99%  185M 0s\n1269700K .......... .......... .......... .......... .......... 99% 46.8M 0s\n1269750K .......... .......... .......... .......... .......... 99%  162M 0s\n1269800K .......... .......... .......... .......... .......... 99% 8.92M 0s\n1269850K .......... .......... .......... .......... .......... 99%  183M 0s\n1269900K .......... .......... .......... .......... .......... 99% 77.4M 0s\n1269950K .......... .......... .......... .......... .......... 99%  253M 0s\n1270000K .......... .......... .......... .......... .......... 99%  289M 0s\n1270050K .......... .......... .......... .......... .......... 99%  205M 0s\n1270100K .......... .......... .......... .......... .......... 99%  193M 0s\n1270150K .......... .......... .......... .......... .......... 99%  640K 0s\n1270200K .......... .......... .......... .......... .......... 99%  175M 0s\n1270250K .......... .......... .......... .......... .......... 99%  201M 0s\n1270300K .......... .......... .......... .......... .......... 99%  288M 0s\n1270350K .......... .......... .......... .......... .......... 99%  214M 0s\n1270400K .......... .......... .......... .......... .......... 99%  187M 0s\n1270450K .......... .......... .......... .......... .......... 99%  191M 0s\n1270500K .......... .......... .......... .......... .......... 99% 19.0M 0s\n1270550K .......... .......... .......... .......... .......... 99%  112M 0s\n1270600K .......... .......... .......... .......... .......... 99%  193M 0s\n1270650K .......... .......... .......... .......... .......... 99% 97.5M 0s\n1270700K .......... .......... .......... .......... .......... 99% 7.66M 0s\n1270750K .......... .......... .......... .......... .......... 99%  135M 0s\n1270800K .......... .......... .......... .......... .......... 99%  130M 0s\n1270850K .......... .......... .......... .......... .......... 99% 51.1M 0s\n1270900K .......... .......... .......... .......... .......... 99%  124M 0s\n1270950K .......... .......... .......... .......... .......... 99%  219M 0s\n1271000K .......... .......... .......... .......... .......... 99%  281M 0s\n1271050K .......... .......... .......... .......... .......... 99% 9.45M 0s\n1271100K .......... .......... .......... .......... .......... 99% 57.4M 0s\n1271150K .......... .......... .......... .......... .......... 99%  216M 0s\n1271200K .......... .......... .......... .......... .......... 99%  223M 0s\n1271250K .......... .......... .......... .......... .......... 99% 34.1M 0s\n1271300K .......... .......... .......... .......... .......... 99% 13.3M 0s\n1271350K .......... .......... .......... .......... .......... 99% 23.9M 0s\n1271400K .......... .......... .......... .......... .......... 99% 17.5M 0s\n1271450K .......... .......... .......... .......... .......... 99% 9.56M 0s\n1271500K .......... .......... .......... .......... .......... 99%  141M 0s\n1271550K .......... .......... .......... .......... .......... 99%  145M 0s\n1271600K .......... .......... .......... .......... .......... 99%  160M 0s\n1271650K .......... .......... .......... .......... .......... 99%  147M 0s\n1271700K .......... .......... .......... .......... .......... 99% 23.6M 0s\n1271750K .......... .......... .......... .......... .......... 99%  124M 0s\n1271800K .......... .......... .......... .......... .......... 99%  156M 0s\n1271850K .......... .......... .......... .......... .......... 99% 30.4M 0s\n1271900K .......... .......... .......... .......... .......... 99%  168M 0s\n1271950K .......... .......... .......... .......... .......... 99%  234M 0s\n1272000K .......... .......... .......... .......... .......... 99% 23.8M 0s\n1272050K .......... .......... .......... .......... .......... 99%  229M 0s\n1272100K .......... .......... .......... .......... .......... 99%  260M 0s\n1272150K .......... .......... .......... .......... .......... 99%  261M 0s\n1272200K .......... .......... .......... .......... .......... 99%  293M 0s\n1272250K .......... .......... .......... .......... .......... 99% 50.8M 0s\n1272300K .......... .......... .......... .......... .......... 99% 14.2M 0s\n1272350K .......... .......... .......... .......... .......... 99% 97.6M 0s\n1272400K .......... .......... .......... .......... .......... 99% 85.6M 0s\n1272450K .......... .......... .......... .......... .......... 99%  104M 0s\n1272500K .......... .......... .......... .......... .......... 99%  107M 0s\n1272550K .......... .......... .......... .......... .......... 99%  155M 0s\n1272600K .......... .......... .......... .......... .......... 99%  272M 0s\n1272650K .......... .......... .......... .......... .......... 99%  231M 0s\n1272700K .......... .......... .......... .......... .......... 99%  133M 0s\n1272750K .......... .......... .......... .......... .......... 99%  237M 0s\n1272800K .......... .......... .......... .......... .......... 99%  181M 0s\n1272850K .......... .......... .......... .......... .......... 99%  252M 0s\n1272900K .......... .......... .......... .......... .......... 99%  246M 0s\n1272950K .......... .......... .......... .......... .......... 99%  210M 0s\n1273000K .......... .......... .......... .......... .......... 99%  280M 0s\n1273050K .......... .......... .......... .......... .......... 99%  265M 0s\n1273100K .......... .......... .......... .......... .......... 99%  269M 0s\n1273150K .......... .......... .......... .......... .......... 99%  225M 0s\n1273200K .......... .......... .......... .......... .......... 99%  229M 0s\n1273250K .......... .......... .......... .......... .......... 99%  249M 0s\n1273300K .......... .......... .......... .......... .......... 99%  263M 0s\n1273350K .......... .......... .......... .......... .......... 99%  259M 0s\n1273400K .......... .......... .......... .......... .......... 99% 50.7M 0s\n1273450K .......... .......... .......... .......... .......... 99%  260M 0s\n1273500K .......... .......... .......... .......... .......... 99%  264M 0s\n1273550K .......... .......... .......... .......... .......... 99%  268M 0s\n1273600K .......... .......... .......... .......... .......... 99%  283M 0s\n1273650K .......... .......... .......... .......... .......... 99%  266M 0s\n1273700K .......... .......... .......... .......... .......... 99%  299M 0s\n1273750K .......... .......... .......... .......... .......... 99%  252M 0s\n1273800K .......... .......... .......... .......... .......... 99%  260M 0s\n1273850K .......... .......... .......... .......... .......... 99% 84.6M 0s\n1273900K .......... .......... .......... .......... .......... 99% 84.0M 0s\n1273950K .......... .......... .......... .......... .......... 99%  165M 0s\n1274000K .......... .......... .......... .......... .......... 99%  248M 0s\n1274050K .......... .......... .......... .......... .......... 99% 10.6M 0s\n1274100K .......... .......... .......... .......... .......... 99% 85.5M 0s\n1274150K .......... .......... .......... .......... .......... 99% 13.2M 0s\n1274200K .......... .......... .......... .......... .......... 99%  263M 0s\n1274250K .......... .......... .......... .......... .......... 99%  264M 0s\n1274300K .......... .......... .......... .......... .......... 99%  254M 0s\n1274350K .......... .......... .......... .......... .......... 99%  228M 0s\n1274400K .......... .......... .......... .......... .......... 99%  249M 0s\n1274450K .......... .......... .......... .......... .......... 99%  253M 0s\n1274500K .......... .......... .......... .......... .......... 99%  292M 0s\n1274550K .......... .......... .......... .......... .......... 99%  231M 0s\n1274600K .......... .......... .......... .......... .......... 99%  230M 0s\n1274650K .......... .......... .......... .......... .......... 99%  253M 0s\n1274700K .......... .......... .......... .......... .......... 99%  214M 0s\n1274750K .......... .......... .......... .......... .......... 99%  232M 0s\n1274800K .......... .......... .......... .......... .......... 99%  206M 0s\n1274850K .......... .......... .......... .......... .......... 99% 59.7M 0s\n1274900K .......... .......... .......... .......... .......... 99%  197M 0s\n1274950K .......... .......... .......... .......... .......... 99% 55.7M 0s\n1275000K .......... .......... .......... .......... .......... 99%  139M 0s\n1275050K .......... .......... .......... .......... .......... 99% 93.9M 0s\n1275100K .......... .......... .......... .......... .......... 99%  271M 0s\n1275150K .......... .......... .......... .......... .......... 99%  254M 0s\n1275200K .......... .......... .......... .......... .......... 99%  290M 0s\n1275250K .......... .......... .......... .......... .......... 99%  267M 0s\n1275300K .......... .......... .......... .......... .......... 99%  146M 0s\n1275350K .......... .......... .......... .......... .......... 99%  181M 0s\n1275400K .......... .......... .......... .......... .......... 99%  133M 0s\n1275450K .......... .......... .......... .......... .......... 99%  183M 0s\n1275500K .......... .......... .......... .......... .......... 99%  186M 0s\n1275550K .......... .......... .......... .......... .......... 99% 39.4M 0s\n1275600K .......... .......... .......... .......... .......... 99%  185M 0s\n1275650K .......... .......... .......... .......... .......... 99% 29.8M 0s\n1275700K .......... .......... .......... .......... .......... 99%  125M 0s\n1275750K .......... .......... .......... .......... .......... 99%  220M 0s\n1275800K .......... .......... .......... .......... .......... 99% 56.1M 0s\n1275850K .......... .......... .......... .......... .......... 99% 75.6M 0s\n1275900K .......... .......... .......... .......... .......... 99% 92.4M 0s\n1275950K .......... .......... .......... .......... .......... 99% 35.3M 0s\n1276000K .......... .......... .......... .......... .......... 99% 93.5M 0s\n1276050K .......... .......... .......... .......... .......... 99% 74.7M 0s\n1276100K .......... .......... .......... .......... .......... 99% 46.4M 0s\n1276150K .......... .......... .......... .......... .......... 99%  122M 0s\n1276200K .......... .......... .......... .......... .......... 99%  224M 0s\n1276250K .......... .......... .......... .......... .......... 99%  243M 0s\n1276300K .......... .......... .......... .......... .......... 99%  103M 0s\n1276350K .......... .......... .......... .......... .......... 99% 88.1M 0s\n1276400K .......... .......... .......... .......... .......... 99% 92.0M 0s\n1276450K .......... .......... .......... .......... .......... 99% 54.1M 0s\n1276500K .......... .......... .......... .......... .......... 99%  109M 0s\n1276550K .......... .......... .......... .......... .......... 99% 41.0M 0s\n1276600K .......... .......... .......... .......... .......... 99% 85.0M 0s\n1276650K .......... .......... .......... .......... .......... 99% 83.5M 0s\n1276700K .......... .......... .......... .......... .......... 99%  135M 0s\n1276750K .......... .......... .......... .......... .......... 99%  256M 0s\n1276800K .......... .......... .......... .......... .......... 99%  288M 0s\n1276850K .......... .......... .......... .......... .......... 99%  102M 0s\n1276900K .......... .......... .......... .......... .......... 99% 50.1M 0s\n1276950K .......... .......... .......... .......... .......... 99%  108M 0s\n1277000K .......... .......... .......... .......... .......... 99%  108M 0s\n1277050K .......... .......... .......... .......... .......... 99% 97.4M 0s\n1277100K .......... .......... .......... .......... .......... 99%  105M 0s\n1277150K .......... .......... .......... .......... .......... 99%  121M 0s\n1277200K .......... .......... .......... .......... .......... 99%  112M 0s\n1277250K .......... .......... .......... .......... .......... 99% 51.7M 0s\n1277300K .......... .......... .......... .......... .......... 99%  141M 0s\n1277350K .......... .......... .......... .......... .......... 99%  155M 0s\n1277400K .......... .......... .......... .......... .......... 99%  187M 0s\n1277450K .......... .......... .......... .......... .......... 99%  128M 0s\n1277500K .......... .......... .......... .......... .......... 99%  166M 0s\n1277550K .......... .......... .......... .......... .......... 99% 68.8M 0s\n1277600K .......... .......... .......... .......... .......... 99%  194M 0s\n1277650K .......... .......... .......... .......... .......... 99% 7.11M 0s\n1277700K .......... .......... .......... .......... .......... 99% 86.8M 0s\n1277750K .......... .......... .......... .......... .......... 99% 43.8M 0s\n1277800K .......... .......... .......... .......... .......... 99%  141M 0s\n1277850K .......... .......... .......... .......... .......... 99%  232M 0s\n1277900K .......... .......... .......... .......... .......... 99%  128M 0s\n1277950K .......... .......... .......... .......... .......... 99% 68.8M 0s\n1278000K .......... .......... .......... .......... .......... 99% 83.5M 0s\n1278050K .......... .......... .......... .......... .......... 99% 10.9M 0s\n1278100K .......... .......... .......... .......... .......... 99% 99.8M 0s\n1278150K .......... .......... .......... .......... .......... 99% 32.7M 0s\n1278200K .......... .......... .......... .......... .......... 99% 80.1M 0s\n1278250K .......... .......... .......... .......... .......... 99% 73.3M 0s\n1278300K .......... .......... .......... .......... .......... 99% 76.7M 0s\n1278350K .......... .......... .......... .......... .......... 99% 92.2M 0s\n1278400K .......... .......... .......... .......... .......... 99% 60.6M 0s\n1278450K .......... .......... .......... .......... .......... 99% 39.4M 0s\n1278500K .......... .......... .......... .......... .......... 99%  102M 0s\n1278550K .......... .......... .......... .......... .......... 99% 62.7M 0s\n1278600K .......... .......... .......... .......... .......... 99% 66.5M 0s\n1278650K .......... .......... .......... .......... .......... 99% 80.3M 0s\n1278700K .......... .......... .......... .......... .......... 99% 85.8M 0s\n1278750K .......... .......... .......... .......... .......... 99% 78.8M 0s\n1278800K .......... .......... .......... .......... .......... 99% 58.1M 0s\n1278850K .......... .......... .......... .......... .......... 99% 54.3M 0s\n1278900K .......... .......... .......... .......... .......... 99% 95.4M 0s\n1278950K .......... .......... .......... .......... .......... 99% 47.8M 0s\n1279000K .......... .......... .......... .......... .......... 99%  108M 0s\n1279050K .......... .......... .......... .......... .......... 99% 77.7M 0s\n1279100K .......... .......... .......... .......... .......... 99%  127M 0s\n1279150K .......... .......... .......... .......... .......... 99%  147M 0s\n1279200K .......... .......... .......... .......... .......... 99% 73.5M 0s\n1279250K .......... .......... .......... .......... .......... 99% 41.9M 0s\n1279300K .......... .......... .......... .......... .......... 99% 63.5M 0s\n1279350K .......... .......... .......... .......... .......... 99% 81.1M 0s\n1279400K .......... .......... .......... .......... .......... 99% 40.8M 0s\n1279450K .......... .......... .......... .......... .......... 99% 86.4M 0s\n1279500K .......... .......... .......... .......... .......... 99% 95.4M 0s\n1279550K .......... .......... .......... .......... .......... 99% 41.3M 0s\n1279600K .......... .......... .......... .......... .......... 99% 55.7M 0s\n1279650K .......... .......... .......... .......... .......... 99%  195M 0s\n1279700K .......... .......... .......... .......... .......... 99%  108M 0s\n1279750K .......... .......... .......... .......... .......... 99% 75.9M 0s\n1279800K .......... .......... .......... .......... .......... 99% 96.9M 0s\n1279850K .......... .......... .......... .......... .......... 99% 81.6M 0s\n1279900K .......... .......... .......... .......... .......... 99%  102M 0s\n1279950K .......... .......... .......... .......... .......... 99% 27.7M 0s\n1280000K .......... .......... .......... .......... .......... 99%  237M 0s\n1280050K .......... .......... .......... .......... .......... 99%  230M 0s\n1280100K .......... .......... .......... .......... .......... 99%  147M 0s\n1280150K .......... .......... .......... .......... .......... 99% 79.5M 0s\n1280200K .......... .......... .......... .......... .......... 99% 61.0M 0s\n1280250K .......... .......... .......... .......... .......... 99%  227M 0s\n1280300K .......... .......... .......... .......... .......... 99% 83.9M 0s\n1280350K .......... .......... .......... .......... .......... 99% 33.6M 0s\n1280400K .......... .......... .......... .......... .......... 99% 86.9M 0s\n1280450K .......... .......... .......... .......... .......... 99% 80.9M 0s\n1280500K .......... .......... .......... .......... .......... 99% 68.5M 0s\n1280550K .......... .......... .......... .......... .......... 99%  180M 0s\n1280600K .......... .......... .......... .......... .......... 99% 76.0M 0s\n1280650K .......... .......... .......... .......... .......... 99% 63.3M 0s\n1280700K .......... .......... .......... .......... .......... 99%  130M 0s\n1280750K .......... .......... .......... .......... .......... 99%  145M 0s\n1280800K .......... .......... .......... .......... .......... 99% 89.0M 0s\n1280850K .......... .......... .......... .......... .......... 99% 69.1M 0s\n1280900K .......... .......... .......... .......... .......... 99% 84.2M 0s\n1280950K .......... .......... .......... .......... .......... 99% 36.9M 0s\n1281000K .......... .......... .......... .......... .......... 99%  275M 0s\n1281050K .......... .......... .......... .......... .......... 99%  201M 0s\n1281100K .......... .......... .......... .......... .......... 99%  183M 0s\n1281150K .......... .......... .......... .......... .......... 99% 87.3M 0s\n1281200K .......... .......... .......... .......... .......... 99% 87.1M 0s\n1281250K .......... .......... .......... .......... .......... 99% 93.0M 0s\n1281300K .......... .......... .......... .......... .......... 99% 46.6M 0s\n1281350K .......... .......... .......... .......... .......... 99% 45.9M 0s\n1281400K .......... .......... .......... .......... .......... 99% 85.6M 0s\n1281450K .......... .......... .......... .......... .......... 99% 73.2M 0s\n1281500K .......... .......... .......... .......... .......... 99%  118M 0s\n1281550K .......... .......... .......... .......... .......... 99%  201M 0s\n1281600K .......... .......... .......... .......... .......... 99%  217M 0s\n1281650K .......... .......... .......... .......... .......... 99% 79.6M 0s\n1281700K .......... .......... .......... .......... .......... 99% 52.4M 0s\n1281750K .......... .......... .......... .......... .......... 99% 41.2M 0s\n1281800K .......... .......... .......... .......... .......... 99% 79.4M 0s\n1281850K .......... .......... .......... .......... .......... 99% 68.1M 0s\n1281900K .......... .......... .......... .......... .......... 99%  136M 0s\n1281950K .......... .......... .......... .......... .......... 99%  191M 0s\n1282000K .......... .......... .......... .......... .......... 99%  267M 0s\n1282050K .......... .......... .......... .......... .......... 99%  262M 0s\n1282100K .......... .......... .........                       100%  276M=30s\n\n2025-05-12 11:07:19 (41.7 MB/s) - ‘/databricks/driver/meta_Electronics.jsonl.gz’ saved [1312900427/1312900427]\n\n"
     ]
    }
   ],
   "source": [
    "%sh\n",
    "wget \"https://mcauleylab.ucsd.edu/public_datasets/data/amazon_2023/raw/review_categories/Electronics.jsonl.gz\" -P /databricks/driver/\n",
    "wget \"https://mcauleylab.ucsd.edu/public_datasets/data/amazon_2023/raw/meta_categories/meta_Electronics.jsonl.gz\" -P /databricks/driver/"
   ]
  },
  {
   "cell_type": "code",
   "execution_count": 0,
   "metadata": {
    "application/vnd.databricks.v1+cell": {
     "cellMetadata": {
      "byteLimit": 2048000,
      "rowLimit": 10000
     },
     "inputWidgets": {},
     "nuid": "325df49b-ce5f-4cbb-a19d-b8a97eda6b86",
     "showTitle": false,
     "tableResultSettingsMap": {},
     "title": ""
    },
    "vscode": {
     "languageId": "bat"
    }
   },
   "outputs": [
    {
     "output_type": "stream",
     "name": "stdout",
     "output_type": "stream",
     "text": [
      "total 7.3G\n-rw-r--r-- 1 root root 6.1G Jan 16 23:28 Electronics.jsonl.gz\ndrwxr-xr-x 2 root root 4.0K May 12 10:57 azure\ndrwxr-xr-x 2 root root 4.0K May 12 10:57 conf\ndrwxr-xr-x 3 root root 4.0K May 12 11:02 eventlogs\n-r-xr-xr-x 1 root root 2.7K May 12 10:57 hadoop_accessed_config.lst\ndrwxr-xr-x 2 root root 4.0K May 12 11:02 logs\n-rw-r--r-- 1 root root 1.3G Jan 16 22:22 meta_Electronics.jsonl.gz\n-r-xr-xr-x 1 root root 1.3M May 12 10:57 preload_class.lst\n"
     ]
    }
   ],
   "source": [
    "%sh\n",
    "ls -lh /databricks/driver/"
   ]
  },
  {
   "cell_type": "markdown",
   "metadata": {
    "application/vnd.databricks.v1+cell": {
     "cellMetadata": {
      "byteLimit": 2048000,
      "rowLimit": 10000
     },
     "inputWidgets": {},
     "nuid": "b15ff905-60ca-452b-ba4d-01bb043a7cc0",
     "showTitle": false,
     "tableResultSettingsMap": {},
     "title": ""
    }
   },
   "source": [
    "### **🟨 Google Colab/Locally FileStore**\n",
    "\n",
    "- If you are using Google Colab or running the notebook locally, you can use the following code to download the dataset."
   ]
  },
  {
   "cell_type": "code",
   "execution_count": 0,
   "metadata": {
    "application/vnd.databricks.v1+cell": {
     "cellMetadata": {
      "byteLimit": 2048000,
      "rowLimit": 10000
     },
     "inputWidgets": {},
     "nuid": "8e1462e6-9848-4b10-aa81-6aa081187818",
     "showTitle": false,
     "tableResultSettingsMap": {},
     "title": ""
    }
   },
   "outputs": [
    {
     "output_type": "stream",
     "name": "stdout",
     "output_type": "stream",
     "text": [
      "--2025-05-12 11:07:20--  https://mcauleylab.ucsd.edu/public_datasets/data/amazon_2023/raw/review_categories/Electronics.jsonl.gz\r\nResolving mcauleylab.ucsd.edu (mcauleylab.ucsd.edu)... 169.228.63.88\r\nConnecting to mcauleylab.ucsd.edu (mcauleylab.ucsd.edu)|169.228.63.88|:443... connected.\r\nHTTP request sent, awaiting response... 200 OK\r\nLength: 6474438619 (6.0G) [application/gzip]\r\nSaving to: ‘/content/Electronics.jsonl.gz’\r\n\r\n\rElectronics.jsonl.g   0%[                    ]       0  --.-KB/s               \rElectronics.jsonl.g   0%[                    ] 811.73K  3.96MB/s               \rElectronics.jsonl.g   0%[                    ]  16.03M  40.0MB/s               \rElectronics.jsonl.g   0%[                    ]  34.51M  57.5MB/s               \rElectronics.jsonl.g   0%[                    ]  51.76M  64.7MB/s               \rElectronics.jsonl.g   1%[                    ]  67.47M  67.4MB/s               \rElectronics.jsonl.g   1%[                    ]  84.16M  70.1MB/s               \rElectronics.jsonl.g   1%[                    ] 101.87M  72.7MB/s               \rElectronics.jsonl.g   1%[                    ] 119.82M  74.9MB/s               \rElectronics.jsonl.g   2%[                    ] 138.77M  77.0MB/s               \rElectronics.jsonl.g   2%[                    ] 155.14M  77.5MB/s               \rElectronics.jsonl.g   2%[                    ] 172.72M  78.5MB/s               \rElectronics.jsonl.g   3%[                    ] 189.95M  79.1MB/s               \rElectronics.jsonl.g   3%[                    ] 208.62M  80.2MB/s               \rElectronics.jsonl.g   3%[                    ] 224.98M  80.3MB/s               \rElectronics.jsonl.g   3%[                    ] 239.98M  79.9MB/s    eta 74s    \rElectronics.jsonl.g   4%[                    ] 255.41M  84.1MB/s    eta 74s    \rElectronics.jsonl.g   4%[                    ] 271.98M  85.4MB/s    eta 74s    \rElectronics.jsonl.g   4%[                    ] 287.53M  84.6MB/s    eta 74s    \rElectronics.jsonl.g   4%[                    ] 303.99M  84.1MB/s    eta 74s    \rElectronics.jsonl.g   5%[>                   ] 321.01M  84.8MB/s    eta 73s    \rElectronics.jsonl.g   5%[>                   ] 338.53M  84.6MB/s    eta 73s    \rElectronics.jsonl.g   5%[>                   ] 353.96M  83.9MB/s    eta 73s    \rElectronics.jsonl.g   6%[>                   ] 371.54M  84.1MB/s    eta 73s    \rElectronics.jsonl.g   6%[>                   ] 388.39M  83.7MB/s    eta 73s    \rElectronics.jsonl.g   6%[>                   ] 403.81M  82.8MB/s    eta 71s    \rElectronics.jsonl.g   6%[>                   ] 422.21M  83.3MB/s    eta 71s    \rElectronics.jsonl.g   7%[>                   ] 438.53M  82.9MB/s    eta 71s    \rElectronics.jsonl.g   7%[>                   ] 455.83M  82.4MB/s    eta 71s    \rElectronics.jsonl.g   7%[>                   ] 472.23M  82.6MB/s    eta 71s    \rElectronics.jsonl.g   7%[>                   ] 487.27M  82.6MB/s    eta 70s    \rElectronics.jsonl.g   8%[>                   ] 503.05M  82.6MB/s    eta 70s    \rElectronics.jsonl.g   8%[>                   ] 517.55M  81.8MB/s    eta 70s    \rElectronics.jsonl.g   8%[>                   ] 535.07M  82.7MB/s    eta 70s    \rElectronics.jsonl.g   8%[>                   ] 551.94M  82.8MB/s    eta 70s    \rElectronics.jsonl.g   9%[>                   ] 566.11M  81.8MB/s    eta 69s    \rElectronics.jsonl.g   9%[>                   ] 583.61M  81.9MB/s    eta 69s    \rElectronics.jsonl.g   9%[>                   ] 601.15M  82.5MB/s    eta 69s    \rElectronics.jsonl.g  10%[=>                  ] 619.92M  82.9MB/s    eta 69s    \rElectronics.jsonl.g  10%[=>                  ] 638.51M  83.7MB/s    eta 69s    \rElectronics.jsonl.g  10%[=>                  ] 656.08M  83.9MB/s    eta 67s    \rElectronics.jsonl.g  10%[=>                  ] 669.23M  82.5MB/s    eta 67s    \rElectronics.jsonl.g  11%[=>                  ] 687.64M  83.0MB/s    eta 67s    \rElectronics.jsonl.g  11%[=>                  ] 702.75M  82.1MB/s    eta 67s    \rElectronics.jsonl.g  11%[=>                  ] 720.53M  82.6MB/s    eta 67s    \rElectronics.jsonl.g  11%[=>                  ] 737.26M  83.1MB/s    eta 66s    \rElectronics.jsonl.g  12%[=>                  ] 755.41M  83.8MB/s    eta 66s    \rElectronics.jsonl.g  12%[=>                  ] 773.43M  84.7MB/s    eta 66s    \rElectronics.jsonl.g  12%[=>                  ] 789.91M  85.2MB/s    eta 66s    \rElectronics.jsonl.g  13%[=>                  ] 805.15M  84.1MB/s    eta 66s    \rElectronics.jsonl.g  13%[=>                  ] 821.43M  85.1MB/s    eta 65s    \rElectronics.jsonl.g  13%[=>                  ] 839.56M  85.2MB/s    eta 65s    \rElectronics.jsonl.g  13%[=>                  ] 856.64M  85.0MB/s    eta 65s    \rElectronics.jsonl.g  14%[=>                  ] 873.69M  84.9MB/s    eta 65s    \rElectronics.jsonl.g  14%[=>                  ] 892.43M  84.7MB/s    eta 65s    \rElectronics.jsonl.g  14%[=>                  ] 909.09M  84.4MB/s    eta 64s    \rElectronics.jsonl.g  15%[==>                 ] 926.21M  85.6MB/s    eta 64s    \rElectronics.jsonl.g  15%[==>                 ] 944.00M  85.8MB/s    eta 64s    \rElectronics.jsonl.g  15%[==>                 ] 955.12M  84.2MB/s    eta 64s    \rElectronics.jsonl.g  15%[==>                 ] 970.85M  83.6MB/s    eta 64s    \rElectronics.jsonl.g  16%[==>                 ] 987.92M  83.4MB/s    eta 63s    \rElectronics.jsonl.g  16%[==>                 ]   1004M  82.9MB/s    eta 63s    \rElectronics.jsonl.g  16%[==>                 ]   1020M  82.4MB/s    eta 63s    \rElectronics.jsonl.g  16%[==>                 ]   1.01G  82.4MB/s    eta 63s    \rElectronics.jsonl.g  17%[==>                 ]   1.03G  82.9MB/s    eta 63s    \rElectronics.jsonl.g  17%[==>                 ]   1.05G  81.8MB/s    eta 62s    \rElectronics.jsonl.g  17%[==>                 ]   1.06G  80.8MB/s    eta 62s    \rElectronics.jsonl.g  17%[==>                 ]   1.07G  80.0MB/s    eta 62s    \rElectronics.jsonl.g  18%[==>                 ]   1.09G  79.4MB/s    eta 62s    \rElectronics.jsonl.g  18%[==>                 ]   1.11G  79.4MB/s    eta 62s    \rElectronics.jsonl.g  18%[==>                 ]   1.12G  79.0MB/s    eta 61s    \rElectronics.jsonl.g  18%[==>                 ]   1.14G  79.5MB/s    eta 61s    \rElectronics.jsonl.g  19%[==>                 ]   1.16G  79.4MB/s    eta 61s    \rElectronics.jsonl.g  19%[==>                 ]   1.17G  80.8MB/s    eta 61s    \rElectronics.jsonl.g  19%[==>                 ]   1.19G  81.2MB/s    eta 61s    \rElectronics.jsonl.g  19%[==>                 ]   1.21G  80.6MB/s    eta 60s    \rElectronics.jsonl.g  20%[===>                ]   1.22G  80.5MB/s    eta 60s    \rElectronics.jsonl.g  20%[===>                ]   1.24G  80.8MB/s    eta 60s    \rElectronics.jsonl.g  20%[===>                ]   1.25G  81.4MB/s    eta 60s    \rElectronics.jsonl.g  21%[===>                ]   1.27G  81.7MB/s    eta 60s    \rElectronics.jsonl.g  21%[===>                ]   1.29G  82.3MB/s    eta 59s    \rElectronics.jsonl.g  21%[===>                ]   1.31G  84.0MB/s    eta 59s    \rElectronics.jsonl.g  21%[===>                ]   1.33G  85.5MB/s    eta 59s    \rElectronics.jsonl.g  22%[===>                ]   1.34G  86.3MB/s    eta 59s    \rElectronics.jsonl.g  22%[===>                ]   1.36G  87.3MB/s    eta 59s    \rElectronics.jsonl.g  22%[===>                ]   1.38G  87.0MB/s    eta 58s    \rElectronics.jsonl.g  23%[===>                ]   1.40G  87.1MB/s    eta 58s    \rElectronics.jsonl.g  23%[===>                ]   1.41G  86.8MB/s    eta 58s    \rElectronics.jsonl.g  23%[===>                ]   1.43G  87.5MB/s    eta 58s    \rElectronics.jsonl.g  23%[===>                ]   1.45G  87.3MB/s    eta 58s    \rElectronics.jsonl.g  24%[===>                ]   1.46G  87.4MB/s    eta 56s    \rElectronics.jsonl.g  24%[===>                ]   1.48G  88.5MB/s    eta 56s    \rElectronics.jsonl.g  24%[===>                ]   1.50G  88.6MB/s    eta 56s    \rElectronics.jsonl.g  25%[====>               ]   1.51G  88.3MB/s    eta 56s    \rElectronics.jsonl.g  25%[====>               ]   1.53G  87.9MB/s    eta 56s    \rElectronics.jsonl.g  25%[====>               ]   1.55G  87.6MB/s    eta 55s    \rElectronics.jsonl.g  25%[====>               ]   1.56G  87.3MB/s    eta 55s    \rElectronics.jsonl.g  26%[====>               ]   1.58G  85.1MB/s    eta 55s    \rElectronics.jsonl.g  26%[====>               ]   1.59G  84.8MB/s    eta 55s    \rElectronics.jsonl.g  26%[====>               ]   1.61G  84.9MB/s    eta 55s    \rElectronics.jsonl.g  27%[====>               ]   1.63G  84.8MB/s    eta 54s    \rElectronics.jsonl.g  27%[====>               ]   1.64G  84.3MB/s    eta 54s    \rElectronics.jsonl.g  27%[====>               ]   1.66G  84.9MB/s    eta 54s    \rElectronics.jsonl.g  27%[====>               ]   1.68G  84.1MB/s    eta 54s    \rElectronics.jsonl.g  28%[====>               ]   1.69G  84.4MB/s    eta 54s    \rElectronics.jsonl.g  28%[====>               ]   1.71G  83.9MB/s    eta 53s    \rElectronics.jsonl.g  28%[====>               ]   1.73G  84.2MB/s    eta 53s    \rElectronics.jsonl.g  28%[====>               ]   1.74G  83.3MB/s    eta 53s    \rElectronics.jsonl.g  29%[====>               ]   1.76G  82.8MB/s    eta 53s    \rElectronics.jsonl.g  29%[====>               ]   1.78G  83.4MB/s    eta 53s    \rElectronics.jsonl.g  29%[====>               ]   1.79G  82.9MB/s    eta 52s    \rElectronics.jsonl.g  29%[====>               ]   1.81G  83.3MB/s    eta 52s    \rElectronics.jsonl.g  30%[=====>              ]   1.82G  83.2MB/s    eta 52s    \rElectronics.jsonl.g  30%[=====>              ]   1.84G  84.0MB/s    eta 52s    \rElectronics.jsonl.g  30%[=====>              ]   1.86G  83.9MB/s    eta 52s    \rElectronics.jsonl.g  31%[=====>              ]   1.87G  80.3MB/s    eta 52s    \rElectronics.jsonl.g  31%[=====>              ]   1.88G  80.1MB/s    eta 52s    \rElectronics.jsonl.g  31%[=====>              ]   1.90G  79.8MB/s    eta 52s    \rElectronics.jsonl.g  31%[=====>              ]   1.92G  79.1MB/s    eta 52s    \rElectronics.jsonl.g  32%[=====>              ]   1.93G  79.8MB/s    eta 52s    \rElectronics.jsonl.g  32%[=====>              ]   1.95G  80.2MB/s    eta 50s    \rElectronics.jsonl.g  32%[=====>              ]   1.97G  80.0MB/s    eta 50s    \rElectronics.jsonl.g  32%[=====>              ]   1.98G  80.4MB/s    eta 50s    \rElectronics.jsonl.g  33%[=====>              ]   2.00G  80.2MB/s    eta 50s    \rElectronics.jsonl.g  33%[=====>              ]   2.01G  79.6MB/s    eta 50s    \rElectronics.jsonl.g  33%[=====>              ]   2.03G  78.7MB/s    eta 50s    \rElectronics.jsonl.g  33%[=====>              ]   2.04G  77.3MB/s    eta 50s    \rElectronics.jsonl.g  34%[=====>              ]   2.06G  77.3MB/s    eta 50s    \rElectronics.jsonl.g  34%[=====>              ]   2.07G  77.2MB/s    eta 50s    \rElectronics.jsonl.g  34%[=====>              ]   2.09G  77.4MB/s    eta 50s    \rElectronics.jsonl.g  34%[=====>              ]   2.11G  77.7MB/s    eta 49s    \rElectronics.jsonl.g  35%[======>             ]   2.12G  80.6MB/s    eta 49s    \rElectronics.jsonl.g  35%[======>             ]   2.14G  80.8MB/s    eta 49s    \rElectronics.jsonl.g  35%[======>             ]   2.15G  81.0MB/s    eta 49s    \rElectronics.jsonl.g  35%[======>             ]   2.17G  80.3MB/s    eta 49s    \rElectronics.jsonl.g  36%[======>             ]   2.18G  79.0MB/s    eta 48s    \rElectronics.jsonl.g  36%[======>             ]   2.19G  77.1MB/s    eta 48s    \rElectronics.jsonl.g  36%[======>             ]   2.20G  74.6MB/s    eta 48s    \rElectronics.jsonl.g  36%[======>             ]   2.21G  72.0MB/s    eta 48s    \rElectronics.jsonl.g  36%[======>             ]   2.22G  69.5MB/s    eta 48s    \rElectronics.jsonl.g  36%[======>             ]   2.23G  67.1MB/s    eta 48s    \rElectronics.jsonl.g  37%[======>             ]   2.24G  65.8MB/s    eta 48s    \rElectronics.jsonl.g  37%[======>             ]   2.24G  64.0MB/s    eta 48s    \rElectronics.jsonl.g  37%[======>             ]   2.25G  60.0MB/s    eta 48s    \rElectronics.jsonl.g  37%[======>             ]   2.26G  57.9MB/s    eta 48s    \rElectronics.jsonl.g  37%[======>             ]   2.27G  55.0MB/s    eta 49s    \rElectronics.jsonl.g  37%[======>             ]   2.27G  51.0MB/s    eta 49s    \rElectronics.jsonl.g  37%[======>             ]   2.28G  48.8MB/s    eta 49s    \rElectronics.jsonl.g  37%[======>             ]   2.29G  47.0MB/s    eta 49s    \rElectronics.jsonl.g  38%[======>             ]   2.30G  43.2MB/s    eta 49s    \rElectronics.jsonl.g  38%[======>             ]   2.31G  41.7MB/s    eta 49s    \rElectronics.jsonl.g  38%[======>             ]   2.31G  40.5MB/s    eta 49s    \rElectronics.jsonl.g  38%[======>             ]   2.32G  39.8MB/s    eta 49s    \rElectronics.jsonl.g  38%[======>             ]   2.33G  39.5MB/s    eta 49s    \rElectronics.jsonl.g  38%[======>             ]   2.34G  39.6MB/s    eta 49s    \rElectronics.jsonl.g  38%[======>             ]   2.35G  39.6MB/s    eta 49s    \rElectronics.jsonl.g  39%[======>             ]   2.35G  39.6MB/s    eta 49s    \rElectronics.jsonl.g  39%[======>             ]   2.36G  39.6MB/s    eta 49s    \rElectronics.jsonl.g  39%[======>             ]   2.37G  39.6MB/s    eta 49s    \rElectronics.jsonl.g  39%[======>             ]   2.38G  39.6MB/s    eta 49s    \rElectronics.jsonl.g  39%[======>             ]   2.39G  39.6MB/s    eta 49s    \rElectronics.jsonl.g  39%[======>             ]   2.39G  39.6MB/s    eta 49s    \rElectronics.jsonl.g  39%[======>             ]   2.40G  39.7MB/s    eta 49s    \rElectronics.jsonl.g  39%[======>             ]   2.41G  39.6MB/s    eta 49s    \rElectronics.jsonl.g  40%[=======>            ]   2.42G  39.9MB/s    eta 49s    \rElectronics.jsonl.g  40%[=======>            ]   2.43G  40.0MB/s    eta 49s    \rElectronics.jsonl.g  40%[=======>            ]   2.44G  40.1MB/s    eta 49s    \rElectronics.jsonl.g  40%[=======>            ]   2.44G  40.3MB/s    eta 49s    \rElectronics.jsonl.g  40%[=======>            ]   2.45G  40.5MB/s    eta 49s    \rElectronics.jsonl.g  40%[=======>            ]   2.46G  40.9MB/s    eta 49s    \rElectronics.jsonl.g  40%[=======>            ]   2.47G  41.3MB/s    eta 49s    \rElectronics.jsonl.g  41%[=======>            ]   2.48G  41.6MB/s    eta 49s    \rElectronics.jsonl.g  41%[=======>            ]   2.49G  41.8MB/s    eta 49s    \rElectronics.jsonl.g  41%[=======>            ]   2.50G  41.7MB/s    eta 49s    \rElectronics.jsonl.g  41%[=======>            ]   2.50G  42.2MB/s    eta 49s    \rElectronics.jsonl.g  41%[=======>            ]   2.51G  42.6MB/s    eta 49s    \rElectronics.jsonl.g  41%[=======>            ]   2.52G  42.5MB/s    eta 49s    \rElectronics.jsonl.g  41%[=======>            ]   2.53G  43.0MB/s    eta 49s    \rElectronics.jsonl.g  42%[=======>            ]   2.54G  42.9MB/s    eta 49s    \rElectronics.jsonl.g  42%[=======>            ]   2.55G  42.7MB/s    eta 49s    \rElectronics.jsonl.g  42%[=======>            ]   2.56G  43.4MB/s    eta 49s    \rElectronics.jsonl.g  42%[=======>            ]   2.57G  43.3MB/s    eta 49s    \rElectronics.jsonl.g  42%[=======>            ]   2.57G  43.3MB/s    eta 49s    \rElectronics.jsonl.g  42%[=======>            ]   2.58G  43.1MB/s    eta 49s    \rElectronics.jsonl.g  42%[=======>            ]   2.59G  42.7MB/s    eta 49s    \rElectronics.jsonl.g  43%[=======>            ]   2.60G  42.0MB/s    eta 49s    \rElectronics.jsonl.g  43%[=======>            ]   2.60G  42.1MB/s    eta 49s    \rElectronics.jsonl.g  43%[=======>            ]   2.61G  41.9MB/s    eta 49s    \rElectronics.jsonl.g  43%[=======>            ]   2.62G  41.6MB/s    eta 49s    \rElectronics.jsonl.g  43%[=======>            ]   2.62G  39.1MB/s    eta 49s    \rElectronics.jsonl.g  43%[=======>            ]   2.64G  42.2MB/s    eta 49s    \rElectronics.jsonl.g  43%[=======>            ]   2.65G  42.5MB/s    eta 49s    \rElectronics.jsonl.g  44%[=======>            ]   2.66G  42.3MB/s    eta 49s    \rElectronics.jsonl.g  44%[=======>            ]   2.67G  42.5MB/s    eta 49s    \rElectronics.jsonl.g  44%[=======>            ]   2.68G  42.7MB/s    eta 49s    \rElectronics.jsonl.g  44%[=======>            ]   2.69G  42.7MB/s    eta 49s    \rElectronics.jsonl.g  44%[=======>            ]   2.70G  43.1MB/s    eta 49s    \rElectronics.jsonl.g  44%[=======>            ]   2.71G  43.5MB/s    eta 49s    \rElectronics.jsonl.g  45%[========>           ]   2.72G  44.1MB/s    eta 49s    \rElectronics.jsonl.g  45%[========>           ]   2.72G  44.6MB/s    eta 49s    \rElectronics.jsonl.g  45%[========>           ]   2.73G  44.9MB/s    eta 49s    \rElectronics.jsonl.g  45%[========>           ]   2.74G  45.4MB/s    eta 49s    \rElectronics.jsonl.g  45%[========>           ]   2.75G  46.4MB/s    eta 49s    \rElectronics.jsonl.g  45%[========>           ]   2.76G  46.8MB/s    eta 49s    \rElectronics.jsonl.g  45%[========>           ]   2.77G  49.7MB/s    eta 49s    \rElectronics.jsonl.g  46%[========>           ]   2.78G  47.8MB/s    eta 48s    \rElectronics.jsonl.g  46%[========>           ]   2.79G  46.7MB/s    eta 48s    \rElectronics.jsonl.g  46%[========>           ]   2.80G  47.0MB/s    eta 48s    \rElectronics.jsonl.g  46%[========>           ]   2.81G  47.2MB/s    eta 48s    \rElectronics.jsonl.g  46%[========>           ]   2.82G  47.8MB/s    eta 48s    \rElectronics.jsonl.g  46%[========>           ]   2.83G  47.9MB/s    eta 48s    \rElectronics.jsonl.g  47%[========>           ]   2.84G  47.7MB/s    eta 48s    \rElectronics.jsonl.g  47%[========>           ]   2.85G  47.6MB/s    eta 48s    \rElectronics.jsonl.g  47%[========>           ]   2.86G  47.5MB/s    eta 48s    \rElectronics.jsonl.g  47%[========>           ]   2.87G  47.8MB/s    eta 48s    \rElectronics.jsonl.g  47%[========>           ]   2.88G  47.8MB/s    eta 48s    \rElectronics.jsonl.g  47%[========>           ]   2.89G  47.5MB/s    eta 48s    \rElectronics.jsonl.g  48%[========>           ]   2.90G  47.3MB/s    eta 48s    \rElectronics.jsonl.g  48%[========>           ]   2.90G  47.3MB/s    eta 48s    \rElectronics.jsonl.g  48%[========>           ]   2.92G  47.3MB/s    eta 48s    \rElectronics.jsonl.g  48%[========>           ]   2.92G  47.7MB/s    eta 47s    \rElectronics.jsonl.g  48%[========>           ]   2.93G  47.8MB/s    eta 47s    \rElectronics.jsonl.g  48%[========>           ]   2.94G  47.9MB/s    eta 47s    \rElectronics.jsonl.g  48%[========>           ]   2.95G  47.3MB/s    eta 47s    \rElectronics.jsonl.g  49%[========>           ]   2.96G  46.4MB/s    eta 47s    \rElectronics.jsonl.g  49%[========>           ]   2.97G  46.5MB/s    eta 47s    \rElectronics.jsonl.g  49%[========>           ]   2.98G  46.3MB/s    eta 47s    \rElectronics.jsonl.g  49%[========>           ]   2.99G  46.1MB/s    eta 47s    \rElectronics.jsonl.g  49%[========>           ]   3.00G  46.5MB/s    eta 47s    \rElectronics.jsonl.g  49%[========>           ]   3.01G  46.9MB/s    eta 47s    \rElectronics.jsonl.g  50%[=========>          ]   3.02G  46.5MB/s    eta 47s    \rElectronics.jsonl.g  50%[=========>          ]   3.03G  46.6MB/s    eta 47s    \rElectronics.jsonl.g  50%[=========>          ]   3.04G  46.4MB/s    eta 47s    \rElectronics.jsonl.g  50%[=========>          ]   3.05G  46.8MB/s    eta 47s    \rElectronics.jsonl.g  50%[=========>          ]   3.06G  46.9MB/s    eta 47s    \rElectronics.jsonl.g  50%[=========>          ]   3.07G  46.7MB/s    eta 46s    \rElectronics.jsonl.g  51%[=========>          ]   3.08G  46.9MB/s    eta 46s    \rElectronics.jsonl.g  51%[=========>          ]   3.09G  46.9MB/s    eta 46s    \rElectronics.jsonl.g  51%[=========>          ]   3.09G  47.2MB/s    eta 46s    \rElectronics.jsonl.g  51%[=========>          ]   3.10G  48.0MB/s    eta 46s    \rElectronics.jsonl.g  51%[=========>          ]   3.11G  48.3MB/s    eta 46s    \rElectronics.jsonl.g  51%[=========>          ]   3.12G  48.3MB/s    eta 46s    \rElectronics.jsonl.g  51%[=========>          ]   3.13G  48.6MB/s    eta 46s    \rElectronics.jsonl.g  52%[=========>          ]   3.14G  48.7MB/s    eta 46s    \rElectronics.jsonl.g  52%[=========>          ]   3.15G  48.5MB/s    eta 46s    \rElectronics.jsonl.g  52%[=========>          ]   3.16G  48.6MB/s    eta 45s    \rElectronics.jsonl.g  52%[=========>          ]   3.17G  48.8MB/s    eta 45s    \rElectronics.jsonl.g  52%[=========>          ]   3.18G  49.0MB/s    eta 45s    \rElectronics.jsonl.g  52%[=========>          ]   3.19G  48.8MB/s    eta 45s    \rElectronics.jsonl.g  53%[=========>          ]   3.20G  48.8MB/s    eta 45s    \rElectronics.jsonl.g  53%[=========>          ]   3.21G  49.2MB/s    eta 45s    \rElectronics.jsonl.g  53%[=========>          ]   3.22G  48.7MB/s    eta 45s    \rElectronics.jsonl.g  53%[=========>          ]   3.23G  47.5MB/s    eta 45s    \rElectronics.jsonl.g  53%[=========>          ]   3.24G  47.1MB/s    eta 45s    \rElectronics.jsonl.g  53%[=========>          ]   3.24G  46.7MB/s    eta 45s    \rElectronics.jsonl.g  53%[=========>          ]   3.25G  46.2MB/s    eta 44s    \rElectronics.jsonl.g  54%[=========>          ]   3.26G  46.2MB/s    eta 44s    \rElectronics.jsonl.g  54%[=========>          ]   3.27G  45.9MB/s    eta 44s    \rElectronics.jsonl.g  54%[=========>          ]   3.28G  45.6MB/s    eta 44s    \rElectronics.jsonl.g  54%[=========>          ]   3.29G  45.4MB/s    eta 44s    \rElectronics.jsonl.g  54%[=========>          ]   3.30G  45.5MB/s    eta 44s    \rElectronics.jsonl.g  54%[=========>          ]   3.31G  45.0MB/s    eta 44s    \rElectronics.jsonl.g  54%[=========>          ]   3.31G  44.6MB/s    eta 44s    \rElectronics.jsonl.g  55%[==========>         ]   3.33G  44.8MB/s    eta 44s    \rElectronics.jsonl.g  55%[==========>         ]   3.34G  45.1MB/s    eta 44s    \rElectronics.jsonl.g  55%[==========>         ]   3.35G  45.4MB/s    eta 43s    \rElectronics.jsonl.g  55%[==========>         ]   3.36G  45.1MB/s    eta 43s    \rElectronics.jsonl.g  55%[==========>         ]   3.37G  45.8MB/s    eta 43s    \rElectronics.jsonl.g  55%[==========>         ]   3.38G  46.6MB/s    eta 43s    \rElectronics.jsonl.g  56%[==========>         ]   3.38G  46.7MB/s    eta 43s    \rElectronics.jsonl.g  56%[==========>         ]   3.40G  47.4MB/s    eta 43s    \rElectronics.jsonl.g  56%[==========>         ]   3.41G  48.4MB/s    eta 43s    \rElectronics.jsonl.g  56%[==========>         ]   3.42G  48.1MB/s    eta 43s    \rElectronics.jsonl.g  56%[==========>         ]   3.42G  48.3MB/s    eta 43s    \rElectronics.jsonl.g  56%[==========>         ]   3.43G  48.7MB/s    eta 43s    \rElectronics.jsonl.g  57%[==========>         ]   3.44G  48.4MB/s    eta 42s    \rElectronics.jsonl.g  57%[==========>         ]   3.46G  49.1MB/s    eta 42s    \rElectronics.jsonl.g  57%[==========>         ]   3.46G  49.1MB/s    eta 42s    \rElectronics.jsonl.g  57%[==========>         ]   3.47G  50.9MB/s    eta 42s    \rElectronics.jsonl.g  57%[==========>         ]   3.48G  49.3MB/s    eta 42s    \rElectronics.jsonl.g  57%[==========>         ]   3.49G  49.4MB/s    eta 41s    \rElectronics.jsonl.g  58%[==========>         ]   3.51G  49.9MB/s    eta 41s    \rElectronics.jsonl.g  58%[==========>         ]   3.52G  50.0MB/s    eta 41s    \rElectronics.jsonl.g  58%[==========>         ]   3.53G  49.8MB/s    eta 41s    \rElectronics.jsonl.g  58%[==========>         ]   3.54G  50.0MB/s    eta 41s    \rElectronics.jsonl.g  58%[==========>         ]   3.54G  50.1MB/s    eta 41s    \rElectronics.jsonl.g  58%[==========>         ]   3.55G  49.9MB/s    eta 41s    \rElectronics.jsonl.g  59%[==========>         ]   3.57G  50.1MB/s    eta 41s    \rElectronics.jsonl.g  59%[==========>         ]   3.58G  50.1MB/s    eta 41s    \rElectronics.jsonl.g  59%[==========>         ]   3.58G  50.1MB/s    eta 41s    \rElectronics.jsonl.g  59%[==========>         ]   3.59G  49.9MB/s    eta 40s    \rElectronics.jsonl.g  59%[==========>         ]   3.60G  49.9MB/s    eta 40s    \rElectronics.jsonl.g  59%[==========>         ]   3.61G  49.9MB/s    eta 40s    \rElectronics.jsonl.g  60%[===========>        ]   3.62G  50.0MB/s    eta 40s    \rElectronics.jsonl.g  60%[===========>        ]   3.63G  49.7MB/s    eta 40s    \rElectronics.jsonl.g  60%[===========>        ]   3.64G  49.8MB/s    eta 39s    \rElectronics.jsonl.g  60%[===========>        ]   3.65G  50.2MB/s    eta 39s    \rElectronics.jsonl.g  60%[===========>        ]   3.66G  49.7MB/s    eta 39s    \rElectronics.jsonl.g  60%[===========>        ]   3.67G  49.4MB/s    eta 39s    \rElectronics.jsonl.g  61%[===========>        ]   3.68G  49.1MB/s    eta 39s    \rElectronics.jsonl.g  61%[===========>        ]   3.69G  48.8MB/s    eta 39s    \rElectronics.jsonl.g  61%[===========>        ]   3.70G  49.1MB/s    eta 39s    \rElectronics.jsonl.g  61%[===========>        ]   3.71G  48.5MB/s    eta 39s    \rElectronics.jsonl.g  61%[===========>        ]   3.72G  48.8MB/s    eta 39s    \rElectronics.jsonl.g  61%[===========>        ]   3.73G  49.3MB/s    eta 39s    \rElectronics.jsonl.g  62%[===========>        ]   3.74G  48.9MB/s    eta 38s    \rElectronics.jsonl.g  62%[===========>        ]   3.75G  48.5MB/s    eta 38s    \rElectroni\n\n*** WARNING: max output size exceeded, skipping output. ***\n\n=======>      ]   4.24G  50.5MB/s    eta 31s    \rElectronics.jsonl.g  70%[=============>      ]   4.25G  50.4MB/s    eta 31s    \rElectronics.jsonl.g  70%[=============>      ]   4.26G  50.8MB/s    eta 31s    \rElectronics.jsonl.g  70%[=============>      ]   4.27G  50.7MB/s    eta 31s    \rElectronics.jsonl.g  70%[=============>      ]   4.28G  50.1MB/s    eta 30s    \rElectronics.jsonl.g  71%[=============>      ]   4.29G  50.6MB/s    eta 30s    \rElectronics.jsonl.g  71%[=============>      ]   4.30G  50.4MB/s    eta 30s    \rElectronics.jsonl.g  71%[=============>      ]   4.31G  50.3MB/s    eta 30s    \rElectronics.jsonl.g  71%[=============>      ]   4.32G  49.8MB/s    eta 30s    \rElectronics.jsonl.g  71%[=============>      ]   4.33G  50.2MB/s    eta 29s    \rElectronics.jsonl.g  71%[=============>      ]   4.34G  49.8MB/s    eta 29s    \rElectronics.jsonl.g  72%[=============>      ]   4.35G  49.7MB/s    eta 29s    \rElectronics.jsonl.g  72%[=============>      ]   4.36G  50.1MB/s    eta 29s    \rElectronics.jsonl.g  72%[=============>      ]   4.37G  49.7MB/s    eta 29s    \rElectronics.jsonl.g  72%[=============>      ]   4.38G  50.2MB/s    eta 28s    \rElectronics.jsonl.g  72%[=============>      ]   4.39G  50.4MB/s    eta 28s    \rElectronics.jsonl.g  73%[=============>      ]   4.40G  50.2MB/s    eta 28s    \rElectronics.jsonl.g  73%[=============>      ]   4.41G  49.5MB/s    eta 28s    \rElectronics.jsonl.g  73%[=============>      ]   4.42G  49.0MB/s    eta 28s    \rElectronics.jsonl.g  73%[=============>      ]   4.43G  48.8MB/s    eta 28s    \rElectronics.jsonl.g  73%[=============>      ]   4.44G  48.8MB/s    eta 28s    \rElectronics.jsonl.g  73%[=============>      ]   4.45G  48.7MB/s    eta 28s    \rElectronics.jsonl.g  73%[=============>      ]   4.46G  48.7MB/s    eta 28s    \rElectronics.jsonl.g  74%[=============>      ]   4.47G  49.0MB/s    eta 28s    \rElectronics.jsonl.g  74%[=============>      ]   4.48G  49.2MB/s    eta 27s    \rElectronics.jsonl.g  74%[=============>      ]   4.49G  49.6MB/s    eta 27s    \rElectronics.jsonl.g  74%[=============>      ]   4.50G  49.3MB/s    eta 27s    \rElectronics.jsonl.g  74%[=============>      ]   4.51G  49.8MB/s    eta 27s    \rElectronics.jsonl.g  74%[=============>      ]   4.52G  49.3MB/s    eta 27s    \rElectronics.jsonl.g  75%[==============>     ]   4.53G  48.7MB/s    eta 26s    \rElectronics.jsonl.g  75%[==============>     ]   4.54G  48.9MB/s    eta 26s    \rElectronics.jsonl.g  75%[==============>     ]   4.55G  49.5MB/s    eta 26s    \rElectronics.jsonl.g  75%[==============>     ]   4.56G  49.3MB/s    eta 26s    \rElectronics.jsonl.g  75%[==============>     ]   4.57G  49.9MB/s    eta 26s    \rElectronics.jsonl.g  75%[==============>     ]   4.58G  49.8MB/s    eta 25s    \rElectronics.jsonl.g  76%[==============>     ]   4.59G  49.0MB/s    eta 25s    \rElectronics.jsonl.g  76%[==============>     ]   4.60G  49.8MB/s    eta 25s    \rElectronics.jsonl.g  76%[==============>     ]   4.61G  49.7MB/s    eta 25s    \rElectronics.jsonl.g  76%[==============>     ]   4.62G  49.6MB/s    eta 25s    \rElectronics.jsonl.g  76%[==============>     ]   4.63G  49.7MB/s    eta 24s    \rElectronics.jsonl.g  76%[==============>     ]   4.64G  49.4MB/s    eta 24s    \rElectronics.jsonl.g  77%[==============>     ]   4.64G  48.3MB/s    eta 24s    \rElectronics.jsonl.g  77%[==============>     ]   4.65G  47.8MB/s    eta 24s    \rElectronics.jsonl.g  77%[==============>     ]   4.66G  47.4MB/s    eta 24s    \rElectronics.jsonl.g  77%[==============>     ]   4.67G  47.4MB/s    eta 24s    \rElectronics.jsonl.g  77%[==============>     ]   4.68G  48.4MB/s    eta 24s    \rElectronics.jsonl.g  77%[==============>     ]   4.69G  47.7MB/s    eta 24s    \rElectronics.jsonl.g  77%[==============>     ]   4.70G  47.6MB/s    eta 24s    \rElectronics.jsonl.g  78%[==============>     ]   4.71G  47.6MB/s    eta 24s    \rElectronics.jsonl.g  78%[==============>     ]   4.72G  47.8MB/s    eta 23s    \rElectronics.jsonl.g  78%[==============>     ]   4.73G  48.1MB/s    eta 23s    \rElectronics.jsonl.g  78%[==============>     ]   4.74G  48.0MB/s    eta 23s    \rElectronics.jsonl.g  78%[==============>     ]   4.75G  48.1MB/s    eta 23s    \rElectronics.jsonl.g  78%[==============>     ]   4.76G  48.1MB/s    eta 23s    \rElectronics.jsonl.g  79%[==============>     ]   4.77G  47.9MB/s    eta 22s    \rElectronics.jsonl.g  79%[==============>     ]   4.78G  47.6MB/s    eta 22s    \rElectronics.jsonl.g  79%[==============>     ]   4.79G  47.7MB/s    eta 22s    \rElectronics.jsonl.g  79%[==============>     ]   4.80G  48.4MB/s    eta 22s    \rElectronics.jsonl.g  79%[==============>     ]   4.81G  48.9MB/s    eta 22s    \rElectronics.jsonl.g  79%[==============>     ]   4.82G  49.7MB/s    eta 21s    \rElectronics.jsonl.g  80%[===============>    ]   4.83G  48.8MB/s    eta 21s    \rElectronics.jsonl.g  80%[===============>    ]   4.84G  48.8MB/s    eta 21s    \rElectronics.jsonl.g  80%[===============>    ]   4.85G  49.0MB/s    eta 21s    \rElectronics.jsonl.g  80%[===============>    ]   4.86G  49.6MB/s    eta 21s    \rElectronics.jsonl.g  80%[===============>    ]   4.87G  49.8MB/s    eta 20s    \rElectronics.jsonl.g  80%[===============>    ]   4.88G  49.9MB/s    eta 20s    \rElectronics.jsonl.g  81%[===============>    ]   4.89G  49.8MB/s    eta 20s    \rElectronics.jsonl.g  81%[===============>    ]   4.90G  49.8MB/s    eta 20s    \rElectronics.jsonl.g  81%[===============>    ]   4.91G  49.3MB/s    eta 20s    \rElectronics.jsonl.g  81%[===============>    ]   4.92G  49.8MB/s    eta 20s    \rElectronics.jsonl.g  81%[===============>    ]   4.93G  50.5MB/s    eta 20s    \rElectronics.jsonl.g  81%[===============>    ]   4.94G  50.7MB/s    eta 20s    \rElectronics.jsonl.g  82%[===============>    ]   4.95G  50.8MB/s    eta 20s    \rElectronics.jsonl.g  82%[===============>    ]   4.96G  50.9MB/s    eta 20s    \rElectronics.jsonl.g  82%[===============>    ]   4.97G  50.5MB/s    eta 19s    \rElectronics.jsonl.g  82%[===============>    ]   4.98G  50.6MB/s    eta 19s    \rElectronics.jsonl.g  82%[===============>    ]   4.99G  50.6MB/s    eta 19s    \rElectronics.jsonl.g  82%[===============>    ]   5.00G  50.9MB/s    eta 19s    \rElectronics.jsonl.g  83%[===============>    ]   5.01G  50.3MB/s    eta 19s    \rElectronics.jsonl.g  83%[===============>    ]   5.02G  50.1MB/s    eta 18s    \rElectronics.jsonl.g  83%[===============>    ]   5.03G  49.9MB/s    eta 18s    \rElectronics.jsonl.g  83%[===============>    ]   5.04G  50.2MB/s    eta 18s    \rElectronics.jsonl.g  83%[===============>    ]   5.05G  50.1MB/s    eta 18s    \rElectronics.jsonl.g  83%[===============>    ]   5.06G  50.0MB/s    eta 18s    \rElectronics.jsonl.g  84%[===============>    ]   5.07G  50.4MB/s    eta 17s    \rElectronics.jsonl.g  84%[===============>    ]   5.08G  50.0MB/s    eta 17s    \rElectronics.jsonl.g  84%[===============>    ]   5.09G  50.5MB/s    eta 17s    \rElectronics.jsonl.g  84%[===============>    ]   5.10G  50.3MB/s    eta 17s    \rElectronics.jsonl.g  84%[===============>    ]   5.11G  50.0MB/s    eta 17s    \rElectronics.jsonl.g  84%[===============>    ]   5.12G  49.8MB/s    eta 16s    \rElectronics.jsonl.g  85%[================>   ]   5.13G  50.2MB/s    eta 16s    \rElectronics.jsonl.g  85%[================>   ]   5.14G  49.8MB/s    eta 16s    \rElectronics.jsonl.g  85%[================>   ]   5.15G  50.3MB/s    eta 16s    \rElectronics.jsonl.g  85%[================>   ]   5.16G  49.5MB/s    eta 16s    \rElectronics.jsonl.g  85%[================>   ]   5.17G  50.0MB/s    eta 15s    \rElectronics.jsonl.g  85%[================>   ]   5.18G  49.1MB/s    eta 15s    \rElectronics.jsonl.g  86%[================>   ]   5.19G  48.7MB/s    eta 15s    \rElectronics.jsonl.g  86%[================>   ]   5.20G  49.9MB/s    eta 15s    \rElectronics.jsonl.g  86%[================>   ]   5.21G  49.5MB/s    eta 15s    \rElectronics.jsonl.g  86%[================>   ]   5.22G  49.4MB/s    eta 14s    \rElectronics.jsonl.g  86%[================>   ]   5.23G  49.2MB/s    eta 14s    \rElectronics.jsonl.g  86%[================>   ]   5.24G  48.7MB/s    eta 14s    \rElectronics.jsonl.g  87%[================>   ]   5.25G  48.6MB/s    eta 14s    \rElectronics.jsonl.g  87%[================>   ]   5.26G  49.4MB/s    eta 14s    \rElectronics.jsonl.g  87%[================>   ]   5.27G  49.6MB/s    eta 14s    \rElectronics.jsonl.g  87%[================>   ]   5.28G  49.0MB/s    eta 14s    \rElectronics.jsonl.g  87%[================>   ]   5.29G  49.1MB/s    eta 14s    \rElectronics.jsonl.g  87%[================>   ]   5.30G  48.5MB/s    eta 14s    \rElectronics.jsonl.g  88%[================>   ]   5.31G  49.1MB/s    eta 14s    \rElectronics.jsonl.g  88%[================>   ]   5.32G  49.4MB/s    eta 13s    \rElectronics.jsonl.g  88%[================>   ]   5.33G  49.6MB/s    eta 13s    \rElectronics.jsonl.g  88%[================>   ]   5.34G  49.9MB/s    eta 13s    \rElectronics.jsonl.g  88%[================>   ]   5.35G  49.2MB/s    eta 13s    \rElectronics.jsonl.g  88%[================>   ]   5.35G  48.3MB/s    eta 13s    \rElectronics.jsonl.g  88%[================>   ]   5.36G  47.9MB/s    eta 12s    \rElectronics.jsonl.g  89%[================>   ]   5.37G  47.6MB/s    eta 12s    \rElectronics.jsonl.g  89%[================>   ]   5.38G  47.2MB/s    eta 12s    \rElectronics.jsonl.g  89%[================>   ]   5.39G  48.2MB/s    eta 12s    \rElectronics.jsonl.g  89%[================>   ]   5.40G  47.2MB/s    eta 12s    \rElectronics.jsonl.g  89%[================>   ]   5.41G  47.2MB/s    eta 11s    \rElectronics.jsonl.g  89%[================>   ]   5.42G  47.8MB/s    eta 11s    \rElectronics.jsonl.g  90%[=================>  ]   5.43G  47.5MB/s    eta 11s    \rElectronics.jsonl.g  90%[=================>  ]   5.44G  47.6MB/s    eta 11s    \rElectronics.jsonl.g  90%[=================>  ]   5.45G  47.2MB/s    eta 11s    \rElectronics.jsonl.g  90%[=================>  ]   5.46G  47.7MB/s    eta 10s    \rElectronics.jsonl.g  90%[=================>  ]   5.47G  47.8MB/s    eta 10s    \rElectronics.jsonl.g  90%[=================>  ]   5.48G  45.9MB/s    eta 10s    \rElectronics.jsonl.g  91%[=================>  ]   5.50G  47.8MB/s    eta 10s    \rElectronics.jsonl.g  91%[=================>  ]   5.51G  49.5MB/s    eta 10s    \rElectronics.jsonl.g  91%[=================>  ]   5.52G  49.2MB/s    eta 9s     \rElectronics.jsonl.g  91%[=================>  ]   5.53G  49.4MB/s    eta 9s     \rElectronics.jsonl.g  91%[=================>  ]   5.54G  49.6MB/s    eta 9s     \rElectronics.jsonl.g  91%[=================>  ]   5.54G  48.5MB/s    eta 9s     \rElectronics.jsonl.g  92%[=================>  ]   5.56G  49.7MB/s    eta 9s     \rElectronics.jsonl.g  92%[=================>  ]   5.57G  49.3MB/s    eta 8s     \rElectronics.jsonl.g  92%[=================>  ]   5.57G  48.6MB/s    eta 8s     \rElectronics.jsonl.g  92%[=================>  ]   5.59G  49.9MB/s    eta 8s     \rElectronics.jsonl.g  92%[=================>  ]   5.59G  49.2MB/s    eta 8s     \rElectronics.jsonl.g  92%[=================>  ]   5.60G  48.5MB/s    eta 8s     \rElectronics.jsonl.g  93%[=================>  ]   5.61G  48.0MB/s    eta 8s     \rElectronics.jsonl.g  93%[=================>  ]   5.62G  48.1MB/s    eta 8s     \rElectronics.jsonl.g  93%[=================>  ]   5.63G  48.1MB/s    eta 8s     \rElectronics.jsonl.g  93%[=================>  ]   5.64G  50.8MB/s    eta 8s     \rElectronics.jsonl.g  93%[=================>  ]   5.65G  47.6MB/s    eta 8s     \rElectronics.jsonl.g  93%[=================>  ]   5.66G  47.8MB/s    eta 7s     \rElectronics.jsonl.g  94%[=================>  ]   5.67G  48.6MB/s    eta 7s     \rElectronics.jsonl.g  94%[=================>  ]   5.68G  49.2MB/s    eta 7s     \rElectronics.jsonl.g  94%[=================>  ]   5.69G  49.8MB/s    eta 7s     \rElectronics.jsonl.g  94%[=================>  ]   5.70G  50.0MB/s    eta 7s     \rElectronics.jsonl.g  94%[=================>  ]   5.71G  49.3MB/s    eta 6s     \rElectronics.jsonl.g  94%[=================>  ]   5.72G  49.4MB/s    eta 6s     \rElectronics.jsonl.g  95%[==================> ]   5.73G  49.4MB/s    eta 6s     \rElectronics.jsonl.g  95%[==================> ]   5.74G  49.2MB/s    eta 6s     \rElectronics.jsonl.g  95%[==================> ]   5.75G  50.0MB/s    eta 6s     \rElectronics.jsonl.g  95%[==================> ]   5.76G  50.8MB/s    eta 5s     \rElectronics.jsonl.g  95%[==================> ]   5.77G  50.7MB/s    eta 5s     \rElectronics.jsonl.g  95%[==================> ]   5.78G  50.6MB/s    eta 5s     \rElectronics.jsonl.g  96%[==================> ]   5.79G  50.0MB/s    eta 5s     \rElectronics.jsonl.g  96%[==================> ]   5.81G  50.9MB/s    eta 5s     \rElectronics.jsonl.g  96%[==================> ]   5.81G  50.6MB/s    eta 4s     \rElectronics.jsonl.g  96%[==================> ]   5.82G  50.8MB/s    eta 4s     \rElectronics.jsonl.g  96%[==================> ]   5.84G  50.8MB/s    eta 4s     \rElectronics.jsonl.g  96%[==================> ]   5.84G  50.4MB/s    eta 4s     \rElectronics.jsonl.g  97%[==================> ]   5.86G  50.7MB/s    eta 4s     \rElectronics.jsonl.g  97%[==================> ]   5.87G  50.2MB/s    eta 3s     \rElectronics.jsonl.g  97%[==================> ]   5.87G  49.6MB/s    eta 3s     \rElectronics.jsonl.g  97%[==================> ]   5.88G  48.8MB/s    eta 3s     \rElectronics.jsonl.g  97%[==================> ]   5.89G  48.4MB/s    eta 3s     \rElectronics.jsonl.g  97%[==================> ]   5.90G  48.1MB/s    eta 3s     \rElectronics.jsonl.g  98%[==================> ]   5.91G  48.7MB/s    eta 2s     \rElectronics.jsonl.g  98%[==================> ]   5.92G  48.5MB/s    eta 2s     \rElectronics.jsonl.g  98%[==================> ]   5.93G  48.1MB/s    eta 2s     \rElectronics.jsonl.g  98%[==================> ]   5.94G  47.9MB/s    eta 2s     \rElectronics.jsonl.g  98%[==================> ]   5.95G  47.6MB/s    eta 2s     \rElectronics.jsonl.g  98%[==================> ]   5.96G  48.4MB/s    eta 1s     \rElectronics.jsonl.g  99%[==================> ]   5.97G  48.1MB/s    eta 1s     \rElectronics.jsonl.g  99%[==================> ]   5.98G  48.7MB/s    eta 1s     \rElectronics.jsonl.g  99%[==================> ]   5.99G  48.2MB/s    eta 1s     \rElectronics.jsonl.g  99%[==================> ]   6.00G  48.2MB/s    eta 1s     \rElectronics.jsonl.g  99%[==================> ]   6.01G  48.7MB/s    eta 0s     \rElectronics.jsonl.g  99%[==================> ]   6.02G  49.8MB/s    eta 0s     \rElectronics.jsonl.g 100%[===================>]   6.03G  50.1MB/s    in 1m 50s  \r\n\r\n2025-05-12 11:09:10 (56.3 MB/s) - ‘/content/Electronics.jsonl.gz’ saved [6474438619/6474438619]\r\n\r\n--2025-05-12 11:09:11--  https://mcauleylab.ucsd.edu/public_datasets/data/amazon_2023/raw/meta_categories/meta_Electronics.jsonl.gz\r\nResolving mcauleylab.ucsd.edu (mcauleylab.ucsd.edu)... 169.228.63.88\r\nConnecting to mcauleylab.ucsd.edu (mcauleylab.ucsd.edu)|169.228.63.88|:443... connected.\r\nHTTP request sent, awaiting response... 200 OK\r\nLength: 1312900427 (1.2G) [application/gzip]\r\nSaving to: ‘/content/meta_Electronics.jsonl.gz’\r\n\r\n\r          meta_Elec   0%[                    ]       0  --.-KB/s               \r         meta_Elect   0%[                    ]   1.19M  5.91MB/s               \r        meta_Electr   1%[                    ]  16.61M  41.3MB/s               \r       meta_Electro   2%[                    ]  31.22M  51.8MB/s               \r      meta_Electron   3%[                    ]  45.80M  57.1MB/s               \r     meta_Electroni   4%[                    ]  60.19M  60.0MB/s               \r    meta_Electronic   6%[>                   ]  76.57M  63.7MB/s               \r   meta_Electronics   7%[>                   ]  93.60M  66.7MB/s               \r  meta_Electronics.   8%[>                   ] 110.94M  69.2MB/s               \r meta_Electronics.j  10%[=>                  ] 126.97M  70.4MB/s               \rmeta_Electronics.js  11%[=>                  ] 141.13M  70.4MB/s               \reta_Electronics.jso  12%[=>                  ] 150.58M  68.3MB/s               \rta_Electronics.json  12%[=>                  ] 161.28M  66.9MB/s               \ra_Electronics.jsonl  13%[=>                  ] 170.78M  65.1MB/s               \r_Electronics.jsonl.  14%[=>                  ] 182.03M  64.5MB/s               \rElectronics.jsonl.g  15%[==>                 ] 192.92M  63.6MB/s    eta 17s    \rlectronics.jsonl.gz  16%[==>                 ] 201.91M  65.7MB/s    eta 17s    \rectronics.jsonl.gz   16%[==>                 ] 212.26M  65.1MB/s    eta 17s    \rctronics.jsonl.gz    17%[==>                 ] 220.77M  62.5MB/s    eta 17s    \rtronics.jsonl.gz     18%[==>                 ] 229.94M  60.7MB/s    eta 17s    \rronics.jsonl.gz      19%[==>                 ] 240.39M  59.0MB/s    eta 17s    \ronics.jsonl.gz       20%[===>                ] 250.83M  57.7MB/s    eta 17s    \rnics.jsonl.gz        20%[===>                ] 260.64M  54.7MB/s    eta 17s    \rics.jsonl.gz         21%[===>                ] 272.03M  53.1MB/s    eta 17s    \rcs.jsonl.gz          22%[===>                ] 281.20M  51.4MB/s    eta 17s    \rs.jsonl.gz           23%[===>                ] 291.08M  49.1MB/s    eta 17s    \r.jsonl.gz            24%[===>                ] 301.14M  48.8MB/s    eta 17s    \rjsonl.gz             24%[===>                ] 310.32M  48.4MB/s    eta 17s    \rsonl.gz              25%[====>               ] 320.24M  48.5MB/s    eta 17s    \ronl.gz               26%[====>               ] 333.09M  49.0MB/s    eta 17s    \rnl.gz                27%[====>               ] 342.27M  48.8MB/s    eta 16s    \rl.gz                 28%[====>               ] 352.75M  49.1MB/s    eta 16s    \r.gz                  28%[====>               ] 362.52M  49.1MB/s    eta 16s    \rgz                   29%[====>               ] 372.64M  49.2MB/s    eta 16s    \rz                    30%[=====>              ] 383.72M  49.9MB/s    eta 16s    \r                     31%[=====>              ] 393.53M  50.2MB/s    eta 16s    \r                  m  32%[=====>              ] 403.28M  50.4MB/s    eta 16s    \r                 me  32%[=====>              ] 413.14M  50.0MB/s    eta 16s    \r                met  33%[=====>              ] 424.53M  49.6MB/s    eta 16s    \r               meta  34%[=====>              ] 435.36M  49.9MB/s    eta 16s    \r              meta_  35%[======>             ] 446.05M  50.5MB/s    eta 15s    \r             meta_E  36%[======>             ] 456.17M  50.5MB/s    eta 15s    \r            meta_El  37%[======>             ] 468.20M  51.3MB/s    eta 15s    \r           meta_Ele  38%[======>             ] 478.32M  51.3MB/s    eta 15s    \r          meta_Elec  38%[======>             ] 487.50M  50.7MB/s    eta 15s    \r         meta_Elect  39%[======>             ] 497.94M  50.6MB/s    eta 14s    \r        meta_Electr  40%[=======>            ] 506.82M  50.0MB/s    eta 14s    \r       meta_Electro  41%[=======>            ] 516.61M  50.1MB/s    eta 14s    \r      meta_Electron  42%[=======>            ] 527.09M  50.4MB/s    eta 14s    \r     meta_Electroni  42%[=======>            ] 537.66M  50.7MB/s    eta 14s    \r    meta_Electronic  43%[=======>            ] 549.57M  50.8MB/s    eta 13s    \r   meta_Electronics  44%[=======>            ] 559.12M  50.8MB/s    eta 13s    \r  meta_Electronics.  45%[========>           ] 568.50M  50.5MB/s    eta 13s    \r meta_Electronics.j  46%[========>           ] 580.52M  51.0MB/s    eta 13s    \rmeta_Electronics.js  47%[========>           ] 589.70M  50.6MB/s    eta 13s    \reta_Electronics.jso  47%[========>           ] 598.87M  50.0MB/s    eta 12s    \rta_Electronics.json  48%[========>           ] 609.00M  49.6MB/s    eta 12s    \ra_Electronics.jsonl  49%[========>           ] 618.17M  49.3MB/s    eta 12s    \r_Electronics.jsonl.  50%[=========>          ] 628.93M  49.2MB/s    eta 12s    \rElectronics.jsonl.g  51%[=========>          ] 638.77M  49.5MB/s    eta 12s    \rlectronics.jsonl.gz  51%[=========>          ] 647.94M  49.2MB/s    eta 11s    \rectronics.jsonl.gz   52%[=========>          ] 658.36M  49.5MB/s    eta 11s    \rctronics.jsonl.gz    53%[=========>          ] 667.53M  49.6MB/s    eta 11s    \rtronics.jsonl.gz     53%[=========>          ] 671.72M  47.7MB/s    eta 11s    \rronics.jsonl.gz      54%[=========>          ] 687.53M  49.6MB/s    eta 11s    \ronics.jsonl.gz       56%[==========>         ] 703.41M  50.8MB/s    eta 10s    \rnics.jsonl.gz        56%[==========>         ] 711.64M  49.9MB/s    eta 10s    \rics.jsonl.gz         57%[==========>         ] 720.06M  49.3MB/s    eta 10s    \rcs.jsonl.gz          58%[==========>         ] 729.55M  49.2MB/s    eta 10s    \rs.jsonl.gz           59%[==========>         ] 739.04M  49.1MB/s    eta 10s    \r.jsonl.gz            59%[==========>         ] 750.43M  49.4MB/s    eta 10s    \rjsonl.gz             60%[===========>        ] 761.34M  50.0MB/s    eta 10s    \rsonl.gz              61%[===========>        ] 771.95M  50.1MB/s    eta 10s    \ronl.gz               62%[===========>        ] 781.44M  50.0MB/s    eta 10s    \rnl.gz                63%[===========>        ] 792.83M  50.4MB/s    eta 10s    \rl.gz                 64%[===========>        ] 802.26M  50.3MB/s    eta 9s     \r.gz                  64%[===========>        ] 810.23M  49.8MB/s    eta 9s     \rgz                   65%[============>       ] 818.46M  49.2MB/s    eta 9s     \rz                    65%[============>       ] 826.37M  51.7MB/s    eta 9s     \r                     66%[============>       ] 835.09M  49.3MB/s    eta 9s     \r                  m  67%[============>       ] 845.67M  47.8MB/s    eta 8s     \r                 me  68%[============>       ] 856.75M  47.6MB/s    eta 8s     \r                met  69%[============>       ] 866.55M  48.0MB/s    eta 8s     \r               meta  70%[=============>      ] 876.73M  48.3MB/s    eta 8s     \r              meta_  70%[=============>      ] 886.17M  48.2MB/s    eta 8s     \r             meta_E  71%[=============>      ] 895.67M  48.0MB/s    eta 7s     \r            meta_El  72%[=============>      ] 908.00M  48.3MB/s    eta 7s     \r           meta_Ele  73%[=============>      ] 917.14M  45.9MB/s    eta 7s     \r          meta_Elec  74%[=============>      ] 935.51M  48.6MB/s    eta 7s     \r         meta_Elect  75%[==============>     ] 944.39M  47.9MB/s    eta 7s     \r        meta_Electr  76%[==============>     ] 953.25M  47.5MB/s    eta 6s     \r       meta_Electro  76%[==============>     ] 961.22M  47.6MB/s    eta 6s     \r      meta_Electron  77%[==============>     ] 969.91M  47.8MB/s    eta 6s     \r     meta_Electroni  78%[==============>     ] 980.52M  48.4MB/s    eta 6s     \r    meta_Electronic  79%[==============>     ] 991.05M  49.4MB/s    eta 6s     \r   meta_Electronics  79%[==============>     ]   1001M  48.9MB/s    eta 5s     \r  meta_Electronics.  80%[===============>    ]   1010M  48.0MB/s    eta 5s     \r meta_Electronics.j  81%[===============>    ]   1019M  48.2MB/s    eta 5s     \rmeta_Electronics.js  82%[===============>    ]   1.01G  49.2MB/s    eta 5s     \reta_Electronics.jso  83%[===============>    ]   1.02G  48.6MB/s    eta 5s     \rta_Electronics.json  83%[===============>    ]   1.03G  48.8MB/s    eta 4s     \ra_Electronics.jsonl  84%[===============>    ]   1.04G  49.0MB/s    eta 4s     \r_Electronics.jsonl.  85%[================>   ]   1.05G  48.6MB/s    eta 4s     \rElectronics.jsonl.g  86%[================>   ]   1.06G  48.2MB/s    eta 4s     \rlectronics.jsonl.gz  87%[================>   ]   1.06G  47.7MB/s    eta 4s     \rectronics.jsonl.gz   87%[================>   ]   1.08G  48.3MB/s    eta 3s     \rctronics.jsonl.gz    88%[================>   ]   1.08G  48.5MB/s    eta 3s     \rtronics.jsonl.gz     89%[================>   ]   1.10G  49.9MB/s    eta 3s     \rronics.jsonl.gz      90%[=================>  ]   1.11G  50.6MB/s    eta 3s     \ronics.jsonl.gz       91%[=================>  ]   1.12G  49.8MB/s    eta 3s     \rnics.jsonl.gz        92%[=================>  ]   1.12G  50.0MB/s    eta 2s     \rics.jsonl.gz         93%[=================>  ]   1.14G  50.8MB/s    eta 2s     \rcs.jsonl.gz          93%[=================>  ]   1.14G  48.5MB/s    eta 2s     \rs.jsonl.gz           94%[=================>  ]   1.16G  51.0MB/s    eta 2s     \r.jsonl.gz            95%[==================> ]   1.17G  50.4MB/s    eta 2s     \rjsonl.gz             96%[==================> ]   1.18G  50.4MB/s    eta 1s     \rsonl.gz              97%[==================> ]   1.19G  51.2MB/s    eta 1s     \ronl.gz               97%[==================> ]   1.20G  50.8MB/s    eta 1s     \rnl.gz                98%[==================> ]   1.21G  51.0MB/s    eta 1s     \rl.gz                 99%[==================> ]   1.22G  50.8MB/s    eta 1s     \rmeta_Electronics.js 100%[===================>]   1.22G  51.1MB/s    in 24s     \r\n\r\n2025-05-12 11:09:36 (51.2 MB/s) - ‘/content/meta_Electronics.jsonl.gz’ saved [1312900427/1312900427]\r\n\r\ntotal 7.3G\r\n-rw-r--r-- 1 root root 6.1G Jan 16 23:28 Electronics.jsonl.gz\r\n-rw-r--r-- 1 root root 1.3G Jan 16 22:22 meta_Electronics.jsonl.gz\r\n"
     ]
    }
   ],
   "source": [
    "# If using Google Colab to save final dataframes after processing\n",
    "! wget \"https://mcauleylab.ucsd.edu/public_datasets/data/amazon_2023/raw/review_categories/Electronics.jsonl.gz\" -P /content/\n",
    "! wget \"https://mcauleylab.ucsd.edu/public_datasets/data/amazon_2023/raw/meta_categories/meta_Electronics.jsonl.gz\" -P /content/\n",
    "\n",
    "! ls -lh /content/"
   ]
  },
  {
   "cell_type": "markdown",
   "metadata": {
    "application/vnd.databricks.v1+cell": {
     "cellMetadata": {
      "byteLimit": 2048000,
      "rowLimit": 10000
     },
     "inputWidgets": {},
     "nuid": "600833af-6c0b-44ff-8ab1-f0a7d90d732f",
     "showTitle": false,
     "tableResultSettingsMap": {},
     "title": ""
    }
   },
   "source": [
    "---"
   ]
  },
  {
   "cell_type": "code",
   "execution_count": 0,
   "metadata": {
    "application/vnd.databricks.v1+cell": {
     "cellMetadata": {
      "byteLimit": 2048000,
      "rowLimit": 10000
     },
     "inputWidgets": {},
     "nuid": "8b28bd01-4c03-49d6-81d9-2c86c8c78fb0",
     "showTitle": false,
     "tableResultSettingsMap": {},
     "title": ""
    }
   },
   "outputs": [],
   "source": [
    "# Define DBFS paths for storing the downloaded files\n",
    "review_dbfs_path = \"file:/databricks/driver/Electronics.jsonl.gz\"\n",
    "meta_dbfs_path = \"file:/databricks/driver/meta_Electronics.jsonl.gz\"\n",
    "\n",
    "# review_colab_path = \"/content/Electronics.jsonl.gz\"\n",
    "# meta_colab_path = \"/content/meta_Electronics.jsonl.gz\""
   ]
  },
  {
   "cell_type": "code",
   "execution_count": 0,
   "metadata": {
    "application/vnd.databricks.v1+cell": {
     "cellMetadata": {
      "byteLimit": 2048000,
      "rowLimit": 10000
     },
     "inputWidgets": {},
     "nuid": "7690b6b4-848e-4ee6-aa55-66a975d5d907",
     "showTitle": false,
     "tableResultSettingsMap": {},
     "title": ""
    }
   },
   "outputs": [],
   "source": [
    "# Step 2: Define the schema for the reviews dataset to match the provided structure\n",
    "review_schema = T.StructType(\n",
    "    [\n",
    "        T.StructField(\"rating\", T.DoubleType(), True),\n",
    "        T.StructField(\"title\", T.StringType(), True),\n",
    "        T.StructField(\"text\", T.StringType(), True),\n",
    "        T.StructField(\n",
    "            \"images\",\n",
    "            T.ArrayType(\n",
    "                T.StructType(\n",
    "                    [\n",
    "                        # Nested schema for the 'images' field\n",
    "                        T.StructField(\"small_image_url\", T.StringType(), True),\n",
    "                        T.StructField(\"medium_image_url\", T.StringType(), True),\n",
    "                        T.StructField(\"large_image_url\", T.StringType(), True),\n",
    "                        T.StructField(\"attachment_type\", T.StringType(), True),\n",
    "                    ]\n",
    "                )\n",
    "            ),\n",
    "            True,\n",
    "        ),\n",
    "        T.StructField(\"asin\", T.StringType(), True),\n",
    "        T.StructField(\"parent_asin\", T.StringType(), True),\n",
    "        T.StructField(\"user_id\", T.StringType(), True),\n",
    "        T.StructField(\"timestamp\", T.LongType(), True),\n",
    "        T.StructField(\"helpful_vote\", T.IntegerType(), True),\n",
    "        T.StructField(\"verified_purchase\", T.BooleanType(), True),\n",
    "    ]\n",
    ")\n",
    "\n",
    "# Main metadata schema\n",
    "meta_schema = T.StructType(\n",
    "    [\n",
    "        T.StructField(\"main_category\", T.StringType(), True),\n",
    "        T.StructField(\"title\", T.StringType(), True),\n",
    "        T.StructField(\"average_rating\", T.DoubleType(), True),\n",
    "        T.StructField(\"rating_number\", T.IntegerType(), True),\n",
    "        T.StructField(\"features\", T.ArrayType(T.StringType()), True),\n",
    "        T.StructField(\"description\", T.ArrayType(T.StringType()), True),\n",
    "        T.StructField(\"price\", T.DoubleType(), True),\n",
    "        T.StructField(\n",
    "            \"images\",\n",
    "            T.ArrayType(\n",
    "                T.StructType(\n",
    "                    [\n",
    "                        T.StructField(\"thumb\", T.StringType(), True),\n",
    "                        T.StructField(\"large\", T.StringType(), True),\n",
    "                        T.StructField(\"variant\", T.StringType(), True),\n",
    "                        T.StructField(\"hi_res\", T.StringType(), True),\n",
    "                    ]\n",
    "                )\n",
    "            ),\n",
    "            True,\n",
    "        ),\n",
    "        T.StructField(\n",
    "            \"videos\",\n",
    "            T.ArrayType(\n",
    "                T.StructType(\n",
    "                    [\n",
    "                        T.StructField(\"title\", T.StringType(), True),\n",
    "                        T.StructField(\"url\", T.StringType(), True),\n",
    "                    ]\n",
    "                )\n",
    "            ),\n",
    "            True,\n",
    "        ),\n",
    "        T.StructField(\"store\", T.StringType(), True),\n",
    "        T.StructField(\"categories\", T.ArrayType(T.StringType()), True),\n",
    "        T.StructField(\n",
    "            \"details\", T.MapType(T.StringType(), T.StringType()), True\n",
    "        ),  \n",
    "        # More flexible than fixed struct\n",
    "        T.StructField(\"parent_asin\", T.StringType(), True),\n",
    "        T.StructField(\"bought_together\", T.ArrayType(T.StringType()), True),\n",
    "    ]\n",
    ")"
   ]
  },
  {
   "cell_type": "markdown",
   "metadata": {
    "application/vnd.databricks.v1+cell": {
     "cellMetadata": {
      "byteLimit": 2048000,
      "rowLimit": 10000
     },
     "inputWidgets": {},
     "nuid": "e014a0a8-a24b-4c1a-a7ba-ef5694bf93dc",
     "showTitle": false,
     "tableResultSettingsMap": {},
     "title": ""
    }
   },
   "source": [
    "#### **Data Structure Schema**\n",
    "\n",
    "##### **Reviews Dataset (`review_schema`)**\n",
    "- **rating**: Double (e.g., 4.5) - Product rating.\n",
    "- **title**: String - Review title.\n",
    "- **text**: String - Review comment.\n",
    "- **images**: Array of objects with:\n",
    "  - `small_image_url`: URL of small image.\n",
    "  - `medium_image_url`: URL of medium image.\n",
    "  - `large_image_url`: URL of large image.\n",
    "  - `attachment_type`: Type of attachment (e.g., image).\n",
    "- **asin**: String - Product identifier.\n",
    "- **parent_asin**: String - Parent product identifier.\n",
    "- **user_id**: String - User identifier.\n",
    "- **timestamp**: Long - Review date/time.\n",
    "- **helpful_vote**: Integer - Helpful votes for the review.\n",
    "- **verified_purchase**: Boolean - Verified purchase (true/false).\n",
    "\n",
    "##### **Metadata Dataset (`meta_schema`)**\n",
    "- **main_category**: String - Main product category.\n",
    "- **title**: String - Product name.\n",
    "- **average_rating**: Double - Average rating.\n",
    "- **rating_number**: Integer - Total number of ratings.\n",
    "- **features**: Array of strings - Product features.\n",
    "- **description**: Array of strings - Product description.\n",
    "- **price**: Double - Product price.\n",
    "- **images**: Array of objects with:\n",
    "  - `thumb`: URL of thumbnail image.\n",
    "  - `large`: URL of large image.\n",
    "  - `variant`: Image variant type.\n",
    "  - `hi_res`: URL of high-resolution image.\n",
    "- **videos**: Array of objects with:\n",
    "  - `title`: Video title.\n",
    "  - `url`: Video URL.\n",
    "- **store**: String - Store or brand of the product.\n",
    "- **categories**: Array of strings - Product categories.\n",
    "- **details**: Map (key-value) - Additional product details (e.g., weight, dimensions).\n",
    "- **parent_asin**: String - Parent product identifier.\n",
    "- **bought_together**: Array of strings - Products frequently bought together."
   ]
  },
  {
   "cell_type": "code",
   "execution_count": 0,
   "metadata": {
    "application/vnd.databricks.v1+cell": {
     "cellMetadata": {
      "byteLimit": 2048000,
      "rowLimit": 10000
     },
     "inputWidgets": {},
     "nuid": "630c5c5e-da8c-4550-888a-e1eba853e3b6",
     "showTitle": false,
     "tableResultSettingsMap": {},
     "title": ""
    }
   },
   "outputs": [],
   "source": [
    "# Step 4: Load the reviews dataset (Electronics.jsonl.gz)\n",
    "# Using schema to optimize loading and avoid inferring schema\n",
    "reviews_df = spark.read.schema(review_schema).json(review_dbfs_path)                    # For Databricks\n",
    "# reviews_df = spark.read.schema(review_schema).json(review_colab_path)                  # For Google Colab                  "
   ]
  },
  {
   "cell_type": "code",
   "execution_count": 0,
   "metadata": {
    "application/vnd.databricks.v1+cell": {
     "cellMetadata": {
      "byteLimit": 2048000,
      "rowLimit": 10000
     },
     "inputWidgets": {},
     "nuid": "3cafd857-a631-4f83-a2ed-10f2ddce4968",
     "showTitle": false,
     "tableResultSettingsMap": {},
     "title": ""
    }
   },
   "outputs": [
    {
     "output_type": "stream",
     "name": "stdout",
     "output_type": "stream",
     "text": [
      "\u001B[1mReviews Schema:\u001B[0m\nroot\n |-- rating: double (nullable = true)\n |-- title: string (nullable = true)\n |-- text: string (nullable = true)\n |-- images: array (nullable = true)\n |    |-- element: struct (containsNull = true)\n |    |    |-- small_image_url: string (nullable = true)\n |    |    |-- medium_image_url: string (nullable = true)\n |    |    |-- large_image_url: string (nullable = true)\n |    |    |-- attachment_type: string (nullable = true)\n |-- asin: string (nullable = true)\n |-- parent_asin: string (nullable = true)\n |-- user_id: string (nullable = true)\n |-- timestamp: long (nullable = true)\n |-- helpful_vote: integer (nullable = true)\n |-- verified_purchase: boolean (nullable = true)\n\n"
     ]
    }
   ],
   "source": [
    "# Step 4.1: Confirm the schema and show the first 5 rows\n",
    "print(\"\\033[1mReviews Schema:\\033[0m\")\n",
    "reviews_df.printSchema()"
   ]
  },
  {
   "cell_type": "code",
   "execution_count": 0,
   "metadata": {
    "application/vnd.databricks.v1+cell": {
     "cellMetadata": {
      "byteLimit": 2048000,
      "rowLimit": 10000
     },
     "inputWidgets": {},
     "nuid": "a1457cc6-e8cf-43da-84ab-bafb9fbb0338",
     "showTitle": false,
     "tableResultSettingsMap": {},
     "title": ""
    }
   },
   "outputs": [
    {
     "output_type": "stream",
     "name": "stdout",
     "output_type": "stream",
     "text": [
      "\n\u001B[1mReviews Dataset (First 5 rows):\u001B[0m\n+------+--------------------+--------------------+--------------------+----------+-----------+--------------------+-------------+------------+-----------------+\n|rating|               title|                text|              images|      asin|parent_asin|             user_id|    timestamp|helpful_vote|verified_purchase|\n+------+--------------------+--------------------+--------------------+----------+-----------+--------------------+-------------+------------+-----------------+\n|   3.0|Smells like gasol...|First & most offe...|[{https://m.media...|B083NRGZMM| B083NRGZMM|AFKZENTNBQ7A7V7UX...|1658185117948|           0|             true|\n|   1.0|Didn’t work at al...|These didn’t work...|                  []|B07N69T6TM| B07N69T6TM|AFKZENTNBQ7A7V7UX...|1592678549731|           0|             true|\n|   5.0|          Excellent!|I love these. The...|                  []|B01G8JO5F2| B01G8JO5F2|AFKZENTNBQ7A7V7UX...|1523093017534|           0|             true|\n|   5.0|Great laptop back...|I was searching f...|                  []|B001OC5JKY| B001OC5JKY|AGGZ357AO26RQZVRL...|1290278495000|          18|             true|\n|   5.0|Best Headphones i...|I've bought these...|                  []|B013J7WUGC| B07CJYMRWM|AG2L7H23R5LLKDKLB...|1676601581238|           0|             true|\n+------+--------------------+--------------------+--------------------+----------+-----------+--------------------+-------------+------------+-----------------+\nonly showing top 5 rows\n\n"
     ]
    }
   ],
   "source": [
    "print(\"\\n\\033[1mReviews Dataset (First 5 rows):\\033[0m\")\n",
    "reviews_df.show(5)"
   ]
  },
  {
   "cell_type": "code",
   "execution_count": 0,
   "metadata": {
    "application/vnd.databricks.v1+cell": {
     "cellMetadata": {
      "byteLimit": 2048000,
      "rowLimit": 10000
     },
     "inputWidgets": {},
     "nuid": "080a967d-2de7-42f5-aa99-0d9d986e7928",
     "showTitle": false,
     "tableResultSettingsMap": {},
     "title": ""
    }
   },
   "outputs": [
    {
     "output_type": "stream",
     "name": "stdout",
     "output_type": "stream",
     "text": [
      "\nNumber of reviews after 2022: 6360699\n"
     ]
    }
   ],
   "source": [
    "# Step 5: Convert timestamp (Unix time in milliseconds) to date and filter reviews between 2022 and 2023\n",
    "#         Filter reviews post-2022 (timestamp >= 2022-01-01 00:00:00 UTC)\n",
    "#         Unix timestamp 1640995200000 (milliseconds) = 2022-01-01 | Source: https://timestampgenerator.com/1577836800/+00:00\n",
    "filtered_reviews_df = (\n",
    "    reviews_df.filter(\n",
    "        col(\"timestamp\") >= 1640995200000\n",
    "    )  # Filter early to reduce data size\n",
    "    .distinct()  # Remove duplicates early\n",
    "    .cache()\n",
    ")  # Cache the DataFrame for faster access\n",
    "\n",
    "print(f\"\\nNumber of reviews after 2022: {filtered_reviews_df.count()}\")"
   ]
  },
  {
   "cell_type": "code",
   "execution_count": 0,
   "metadata": {
    "application/vnd.databricks.v1+cell": {
     "cellMetadata": {
      "byteLimit": 2048000,
      "rowLimit": 10000
     },
     "inputWidgets": {},
     "nuid": "0eaebb31-8495-4f0e-a56c-991366a6ea78",
     "showTitle": false,
     "tableResultSettingsMap": {},
     "title": ""
    }
   },
   "outputs": [],
   "source": [
    "del reviews_df"
   ]
  },
  {
   "cell_type": "code",
   "execution_count": 0,
   "metadata": {
    "application/vnd.databricks.v1+cell": {
     "cellMetadata": {
      "byteLimit": 2048000,
      "rowLimit": 10000
     },
     "inputWidgets": {},
     "nuid": "0f6c60d1-5119-45dd-be63-ae123661b3b7",
     "showTitle": false,
     "tableResultSettingsMap": {},
     "title": ""
    }
   },
   "outputs": [],
   "source": [
    "# Step 6: Load and filter metadata dataset (meta_Electronics.jsonl.gz) for 'Computers' category\n",
    "meta_df = spark.read.schema(meta_schema).json(meta_dbfs_path)                                       # For Databricks\n",
    "# meta_df = spark.read.schema(meta_schema).json(meta_colab_path)                                   # For Google Colab"
   ]
  },
  {
   "cell_type": "code",
   "execution_count": 0,
   "metadata": {
    "application/vnd.databricks.v1+cell": {
     "cellMetadata": {
      "byteLimit": 2048000,
      "rowLimit": 10000
     },
     "inputWidgets": {},
     "nuid": "94eaf937-c093-4fdd-8130-5feb3edadcfb",
     "showTitle": false,
     "tableResultSettingsMap": {},
     "title": ""
    }
   },
   "outputs": [
    {
     "output_type": "stream",
     "name": "stdout",
     "output_type": "stream",
     "text": [
      "\u001B[1mMetadata Schema:\u001B[0m\nroot\n |-- main_category: string (nullable = true)\n |-- title: string (nullable = true)\n |-- average_rating: double (nullable = true)\n |-- rating_number: integer (nullable = true)\n |-- features: array (nullable = true)\n |    |-- element: string (containsNull = true)\n |-- description: array (nullable = true)\n |    |-- element: string (containsNull = true)\n |-- price: double (nullable = true)\n |-- images: array (nullable = true)\n |    |-- element: struct (containsNull = true)\n |    |    |-- thumb: string (nullable = true)\n |    |    |-- large: string (nullable = true)\n |    |    |-- variant: string (nullable = true)\n |    |    |-- hi_res: string (nullable = true)\n |-- videos: array (nullable = true)\n |    |-- element: struct (containsNull = true)\n |    |    |-- title: string (nullable = true)\n |    |    |-- url: string (nullable = true)\n |-- store: string (nullable = true)\n |-- categories: array (nullable = true)\n |    |-- element: string (containsNull = true)\n |-- details: map (nullable = true)\n |    |-- key: string\n |    |-- value: string (valueContainsNull = true)\n |-- parent_asin: string (nullable = true)\n |-- bought_together: array (nullable = true)\n |    |-- element: string (containsNull = true)\n\n"
     ]
    }
   ],
   "source": [
    "# Step 6.1: Confirm the schema and show the first 5 rows\n",
    "print(\"\\033[1mMetadata Schema:\\033[0m\")\n",
    "meta_df.printSchema()"
   ]
  },
  {
   "cell_type": "code",
   "execution_count": 0,
   "metadata": {
    "application/vnd.databricks.v1+cell": {
     "cellMetadata": {
      "byteLimit": 2048000,
      "rowLimit": 10000
     },
     "inputWidgets": {},
     "nuid": "d74b8e3c-d146-4fc7-8491-f8eebc3e2346",
     "showTitle": false,
     "tableResultSettingsMap": {},
     "title": ""
    }
   },
   "outputs": [
    {
     "output_type": "stream",
     "name": "stdout",
     "output_type": "stream",
     "text": [
      "\n\u001B[1mMetadata Dataset (First 5 rows):\u001B[0m\n+--------------------+--------------------+--------------+-------------+--------------------+--------------------+-----+--------------------+--------------------+----------+--------------------+--------------------+-----------+---------------+\n|       main_category|               title|average_rating|rating_number|            features|         description|price|              images|              videos|     store|          categories|             details|parent_asin|bought_together|\n+--------------------+--------------------+--------------+-------------+--------------------+--------------------+-----+--------------------+--------------------+----------+--------------------+--------------------+-----------+---------------+\n|     All Electronics|FS-1051 FATSHARK ...|           3.5|            6|                  []|[Teleporter V3 Th...| null|[{https://m.media...|                  []| Fat Shark|[Electronics, Tel...|{Date First Avail...| B00MCW7G9M|           null|\n|     All Electronics|Ce-H22B12-S1 4Kx2...|           5.0|            1|[UPC: 66277402190...|[HDMI In - HDMI Out]| null|[{https://m.media...|                  []|      SIIG|[Electronics, Tel...|{Product Dimensio...| B00YT6XQSE|           null|\n|           Computers|Digi-Tatoo Decal ...|           4.5|          246|[WARNING: Please ...|                  []|19.99|[{https://m.media...|[{AL 2Sides Video...|Digi-Tatoo|[Electronics, Com...|{Brand -> Digi-Ta...| B07SM135LS|           null|\n|      AMAZON FASHION|NotoCity Compatib...|           4.5|          233|[☛NotoCity 22mm b...|                  []| 9.99|[{https://m.media...|                  []|  NotoCity|[Electronics, Wea...|{Date First Avail...| B089CNGZCW|           null|\n|Cell Phones & Acc...|Motorola Droid X ...|           3.8|           64|[New Droid X Esse...|[all Genuine High...|14.99|[{https://m.media...|                  []|   Verizon|[Electronics, Com...|{Product Dimensio...| B004E2Z88O|           null|\n+--------------------+--------------------+--------------+-------------+--------------------+--------------------+-----+--------------------+--------------------+----------+--------------------+--------------------+-----------+---------------+\nonly showing top 5 rows\n\n"
     ]
    }
   ],
   "source": [
    "print(\"\\n\\033[1mMetadata Dataset (First 5 rows):\\033[0m\")\n",
    "meta_df.show(5)"
   ]
  },
  {
   "cell_type": "code",
   "execution_count": 0,
   "metadata": {
    "application/vnd.databricks.v1+cell": {
     "cellMetadata": {
      "byteLimit": 2048000,
      "rowLimit": 10000
     },
     "inputWidgets": {},
     "nuid": "2be7c07d-ad09-48b0-a077-4497281f671b",
     "showTitle": false,
     "tableResultSettingsMap": {},
     "title": ""
    }
   },
   "outputs": [
    {
     "output_type": "stream",
     "name": "stdout",
     "output_type": "stream",
     "text": [
      "\nNumber of unique 'Computers' products: 418868\n+-------------+--------------------+--------------+-------------+--------------------+--------------------+-----+--------------------+--------------------+----------+--------------------+--------------------+-----------+---------------+\n|main_category|               title|average_rating|rating_number|            features|         description|price|              images|              videos|     store|          categories|             details|parent_asin|bought_together|\n+-------------+--------------------+--------------+-------------+--------------------+--------------------+-----+--------------------+--------------------+----------+--------------------+--------------------+-----------+---------------+\n|    Computers|Digi-Tatoo Decal ...|           4.5|          246|[WARNING: Please ...|                  []|19.99|[{https://m.media...|[{AL 2Sides Video...|Digi-Tatoo|[Electronics, Com...|{Brand -> Digi-Ta...| B07SM135LS|           null|\n|    Computers|MOSISO Plastic Ha...|           5.0|            2|                  []|                  []| null|[{https://m.media...|                  []|    MOSISO|[Electronics, Hea...|{Brand -> MOSISO,...| B01MCZP7RF|           null|\n|    Computers|   Network Magic 4.0|           3.3|           14|[Connect, Manage,...|[Product descript...| null|[{https://m.media...|                  []| Avanquest|[Electronics, Com...|{Brand -> Avanque...| B000LV7P8I|           null|\n|    Computers|eForCity Leather ...|           3.9|          144|[Stop worrying ab...|[Compatible With ...| null|[{https://m.media...|                  []|  eForCity|[Electronics, Com...|{Standing screen ...| B00ABEQ6TY|           null|\n|    Computers|Novelty Cute Cart...|           4.7|          198|[♥Best Gift♥-Cato...|[This is a specia...| 8.98|[{https://m.media...|[{Bilious Cute Fo...|Fire Stone|[Electronics, Com...|{Product Dimensio...| B07Y6K1PRB|           null|\n+-------------+--------------------+--------------+-------------+--------------------+--------------------+-----+--------------------+--------------------+----------+--------------------+--------------------+-----------+---------------+\nonly showing top 5 rows\n\n"
     ]
    }
   ],
   "source": [
    "# Step 7: Filter metadata for 'Computers' category early to reduce join size\n",
    "computers_meta_df = meta_df.filter(\n",
    "    col(\"main_category\") == \"Computers\"\n",
    ").cache()  # Filter before join for efficiency  # Cache the DataFrame for faster access\n",
    "\n",
    "print(f\"\\nNumber of unique 'Computers' products: {computers_meta_df.count()}\")\n",
    "computers_meta_df.show(5)"
   ]
  },
  {
   "cell_type": "code",
   "execution_count": 0,
   "metadata": {
    "application/vnd.databricks.v1+cell": {
     "cellMetadata": {
      "byteLimit": 2048000,
      "rowLimit": 10000
     },
     "inputWidgets": {},
     "nuid": "9c150feb-2d64-46e9-94e2-6193ed2aa923",
     "showTitle": false,
     "tableResultSettingsMap": {},
     "title": ""
    }
   },
   "outputs": [],
   "source": [
    "del meta_df"
   ]
  },
  {
   "cell_type": "code",
   "execution_count": 0,
   "metadata": {
    "application/vnd.databricks.v1+cell": {
     "cellMetadata": {
      "byteLimit": 2048000,
      "rowLimit": 10000
     },
     "inputWidgets": {},
     "nuid": "dc1b9119-1b38-4b36-bb8c-f9f173802b20",
     "showTitle": false,
     "tableResultSettingsMap": {},
     "title": ""
    }
   },
   "outputs": [
    {
     "output_type": "stream",
     "name": "stdout",
     "output_type": "stream",
     "text": [
      "\nNumber of reviews for 'Computers' products after 2022: 1316293\n\nSample of joined 'Computers' reviews post-2022:\n+------+--------------------+--------------------+--------------------+----------+-----------+--------------------+-------------+------------+-----------------+------------------+--------------------+-------------------+------------------+---------------------+--------------------+----------+--------------------+--------------------+----------+--------------------+--------------------+--------------------+\n|rating|               title|                text|              images|      asin|parent_asin|             user_id|    timestamp|helpful_vote|verified_purchase|meta_main_category|          meta_title|meta_average_rating|meta_rating_number|        meta_features|    meta_description|meta_price|         meta_images|         meta_videos|meta_store|     meta_categories|        meta_details|meta_bought_together|\n+------+--------------------+--------------------+--------------------+----------+-----------+--------------------+-------------+------------+-----------------+------------------+--------------------+-------------------+------------------+---------------------+--------------------+----------+--------------------+--------------------+----------+--------------------+--------------------+--------------------+\n|   4.0|    So far, so good!|These days I'm al...|                  []|B09PQ9ZHCV| B09ZXDZVKR|AEUAL3EJKUSTNB4YY...|1660146803282|           0|            false|         Computers|Belkin Thunderbol...|                4.7|               267| [THE LATEST THUND...|[A smarter, faste...|     30.99|[{https://m.media...|[{It works to pow...|    Belkin|[Electronics, Com...|{\"Brand\":\"Belkin\"...|                null|\n|   5.0|responsive touchs...|This review is fo...|[{https://m.media...|B09L3KD5L2| B0C6MMT7JR|AF2BLE54TEMGZ546U...|1659300803119|           8|            false|         Computers|Dell 24 Inch Touc...|                4.4|                82| [BUILT FOR ENTERT...|[Dell Inspiron 54...|    729.97|[{https://m.media...|[{Dell Inspiron 5...|      Dell|[Electronics, Com...|{\"Standing screen...|                null|\n|   5.0|This is almost li...|What I like about...|                  []|B0B9VZXM8V| B0B9VZXM8V|AFHPJTBQYQHQXIFBA...|1665001404870|           0|            false|         Computers|20 inch LCD Writi...|                4.2|                44| [Great Gift Choic...|                  []|      null|[{https://m.media...|                  []|     ARMER|[Electronics, Com...|{\"Brand\":\"ARMER\",...|                null|\n|   5.0|Works like it sho...|This is a review ...|                  []|B09373DS97| B09373DS97|AH5BMPIKVAFOQLWPM...|1646961608022|           0|             true|         Computers|Zoom Certified, N...|                3.9|                65|[【2K QHD 5 Megapi...|                  []|     99.99|[{https://m.media...|[{NexiGo N940P Re...|    NexiGo|[Electronics, Com...|{\"Product Dimensi...|                null|\n|   5.0|This cable is fan...|This thing really...|                  []|B09P32CWFL| B09P32CWFL|AGYPJI2W4ZRQIEJSA...|1649911080858|           1|             true|         Computers|wiredge 100W USB ...|                3.9|                95|                   []|                  []|      null|[{https://m.media...|                  []|   wiredge|                  []|{\"Brand\":\"Wiredge...|                null|\n+------+--------------------+--------------------+--------------------+----------+-----------+--------------------+-------------+------------+-----------------+------------------+--------------------+-------------------+------------------+---------------------+--------------------+----------+--------------------+--------------------+----------+--------------------+--------------------+--------------------+\nonly showing top 5 rows\n\n"
     ]
    }
   ],
   "source": [
    "# Step 8: Join filtered reviews with 'Computers' metadata\n",
    "# Perform an inner join to keep only reviews for 'Computers' products post-2022\n",
    "# Select all columns from both DataFrames, resolving overlaps with aliases\n",
    "\n",
    "# Perform the inner join and select all columns\n",
    "# Source: https://spark.apache.org/docs/latest/api/python/reference/pyspark.sql/api/pyspark.sql.DataFrame.join.html\n",
    "#         https://spark.apache.org/docs/latest/api/python/reference/pyspark.sql/api/pyspark.sql.functions.broadcast.html\n",
    "computers_reviews_df = (\n",
    "    filtered_reviews_df.join(\n",
    "        broadcast(\n",
    "            computers_meta_df.alias(\"meta\")\n",
    "        ),  # Alias 'computers_meta_df' as 'meta'\n",
    "        filtered_reviews_df[\"parent_asin\"] == computers_meta_df[\"parent_asin\"],\n",
    "        \"inner\",\n",
    "    )  # Join on parent_asin\n",
    "    .select(\n",
    "        filtered_reviews_df[\"*\"],  # All columns from reviews\n",
    "        *[\n",
    "            col(f\"meta.{c}\").alias(f\"meta_{c}\")\n",
    "            for c in computers_meta_df.columns\n",
    "            if c != \"parent_asin\"\n",
    "        ],  # All columns from metadata, except parent_asin\n",
    "    )\n",
    "    .withColumn(\n",
    "        \"meta_details\", to_json(col(\"meta_details\"))\n",
    "    )  # Convert meta_details from map to string\n",
    "    .distinct()  # Remove duplicates after the join\n",
    ")\n",
    "\n",
    "# Verify the result\n",
    "print(\n",
    "    f\"\\nNumber of reviews for 'Computers' products after 2022: {computers_reviews_df.count()}\"\n",
    ")\n",
    "print(\"\\nSample of joined 'Computers' reviews post-2022:\")\n",
    "computers_reviews_df.show(5)"
   ]
  },
  {
   "cell_type": "code",
   "execution_count": 0,
   "metadata": {
    "application/vnd.databricks.v1+cell": {
     "cellMetadata": {
      "byteLimit": 2048000,
      "rowLimit": 10000
     },
     "inputWidgets": {},
     "nuid": "a6195898-5328-404a-b94b-098c8661e99b",
     "showTitle": false,
     "tableResultSettingsMap": {},
     "title": ""
    }
   },
   "outputs": [
    {
     "output_type": "stream",
     "name": "stdout",
     "output_type": "stream",
     "text": [
      "\nSchema of the joined DataFrame:\nroot\n |-- rating: double (nullable = true)\n |-- title: string (nullable = true)\n |-- text: string (nullable = true)\n |-- images: array (nullable = true)\n |    |-- element: struct (containsNull = true)\n |    |    |-- small_image_url: string (nullable = true)\n |    |    |-- medium_image_url: string (nullable = true)\n |    |    |-- large_image_url: string (nullable = true)\n |    |    |-- attachment_type: string (nullable = true)\n |-- asin: string (nullable = true)\n |-- parent_asin: string (nullable = true)\n |-- user_id: string (nullable = true)\n |-- timestamp: long (nullable = true)\n |-- helpful_vote: integer (nullable = true)\n |-- verified_purchase: boolean (nullable = true)\n |-- meta_main_category: string (nullable = true)\n |-- meta_title: string (nullable = true)\n |-- meta_average_rating: double (nullable = true)\n |-- meta_rating_number: integer (nullable = true)\n |-- meta_features: array (nullable = true)\n |    |-- element: string (containsNull = true)\n |-- meta_description: array (nullable = true)\n |    |-- element: string (containsNull = true)\n |-- meta_price: double (nullable = true)\n |-- meta_images: array (nullable = true)\n |    |-- element: struct (containsNull = true)\n |    |    |-- thumb: string (nullable = true)\n |    |    |-- large: string (nullable = true)\n |    |    |-- variant: string (nullable = true)\n |    |    |-- hi_res: string (nullable = true)\n |-- meta_videos: array (nullable = true)\n |    |-- element: struct (containsNull = true)\n |    |    |-- title: string (nullable = true)\n |    |    |-- url: string (nullable = true)\n |-- meta_store: string (nullable = true)\n |-- meta_categories: array (nullable = true)\n |    |-- element: string (containsNull = true)\n |-- meta_details: string (nullable = true)\n |-- meta_bought_together: array (nullable = true)\n |    |-- element: string (containsNull = true)\n\n"
     ]
    }
   ],
   "source": [
    "# Print schema to confirm all columns are included\n",
    "print(\"\\nSchema of the joined DataFrame:\")\n",
    "computers_reviews_df.printSchema()"
   ]
  },
  {
   "cell_type": "markdown",
   "metadata": {
    "application/vnd.databricks.v1+cell": {
     "cellMetadata": {
      "byteLimit": 2048000,
      "rowLimit": 10000
     },
     "inputWidgets": {},
     "nuid": "b4a86e59-6404-4e99-93d1-ea1db0f342df",
     "showTitle": false,
     "tableResultSettingsMap": {},
     "title": ""
    }
   },
   "source": [
    "# **💾 Save Data**"
   ]
  },
  {
   "cell_type": "code",
   "execution_count": 0,
   "metadata": {
    "application/vnd.databricks.v1+cell": {
     "cellMetadata": {
      "byteLimit": 2048000,
      "rowLimit": 10000
     },
     "inputWidgets": {},
     "nuid": "97f31d7e-b1a4-409d-8db9-e94c5cb409eb",
     "showTitle": false,
     "tableResultSettingsMap": {},
     "title": ""
    }
   },
   "outputs": [],
   "source": [
    "# Step 9: Save filtered datasets as parquet\n",
    "(computers_reviews_df                                           # Save the joined DataFrame to Parquet format\n",
    " .repartition(5)                                                # Repartition to 5 files for better parallelism\n",
    " .write.mode(\"overwrite\")                                       # Overwrite mode to replace existing data\n",
    " .parquet(\"dbfs:/FileStore/df-computers-reviews\")               # Save to DBFS\n",
    "#  .parquet(\"/content/computers_reviews_metadata_df\")             # Save to Colab\n",
    " )              "
   ]
  },
  {
   "cell_type": "code",
   "execution_count": 0,
   "metadata": {
    "application/vnd.databricks.v1+cell": {
     "cellMetadata": {
      "byteLimit": 2048000,
      "rowLimit": 10000
     },
     "inputWidgets": {},
     "nuid": "db9f89af-4e77-4126-b3ee-fec9c61f2080",
     "showTitle": false,
     "tableResultSettingsMap": {},
     "title": ""
    }
   },
   "outputs": [],
   "source": [
    "# # Extra: Save preprocessed datasets as .zip in Google Drive\n",
    "# import shutil\n",
    "\n",
    "# # Compress the Parquet directory into a ZIP file\n",
    "# # computers_reviews_df (= computers_reviews_metadata_df)\n",
    "# zip_path = \"/content/computers_reviews_metadata_df.zip\"\n",
    "# shutil.make_archive(\"/content/computers_reviews_metadata_df\", \"zip\", \"/content/df-computers-reviews\")\n",
    "# print(f\"Parquet directory compressed to {zip_path}\")\n",
    "\n",
    "# # Verify the ZIP file exists\n",
    "# print(\"\\nSaved files in /content:\")\n",
    "# for file in os.listdir(\"/content\"):\n",
    "#     # Check if the file is a ZIP file\n",
    "#     if file.endswith(\".zip\"):\n",
    "#         print(file)"
   ]
  },
  {
   "cell_type": "code",
   "execution_count": 0,
   "metadata": {
    "application/vnd.databricks.v1+cell": {
     "cellMetadata": {
      "byteLimit": 2048000,
      "rowLimit": 10000
     },
     "inputWidgets": {},
     "nuid": "d7deaef3-6838-4ebc-977d-370f21be6907",
     "showTitle": false,
     "tableResultSettingsMap": {},
     "title": ""
    }
   },
   "outputs": [],
   "source": [
    "# # Exclusive for Google Colab\n",
    "# from google.colab import drive\n",
    "# drive.mount('/content/drive')\n",
    "\n",
    "# # Define the path in Google Drive where you want to save the ZIP file (Reviews + Metadata)\n",
    "# drive_path = \"/content/drive/My Drive/df-computers-reviews.zip\"\n",
    "# # Copy the ZIP file to Google Drive\n",
    "# shutil.copy(\"/content/df-computers-reviews.zip\", drive_path)\n",
    "# print(f\"ZIP file copied to Google Drive at path: {drive_path}\")\n",
    "\n",
    "# # Verify the files in Google Drive\n",
    "# # os.listdir(\"/content/drive/My Drive/\")"
   ]
  },
  {
   "cell_type": "markdown",
   "metadata": {
    "application/vnd.databricks.v1+cell": {
     "cellMetadata": {
      "byteLimit": 2048000,
      "rowLimit": 10000
     },
     "inputWidgets": {},
     "nuid": "8e6a3773-a086-426e-811d-a67ccf7b991e",
     "showTitle": false,
     "tableResultSettingsMap": {},
     "title": ""
    }
   },
   "source": [
    "---"
   ]
  },
  {
   "cell_type": "markdown",
   "metadata": {
    "application/vnd.databricks.v1+cell": {
     "cellMetadata": {
      "byteLimit": 2048000,
      "rowLimit": 10000
     },
     "inputWidgets": {},
     "nuid": "3607ab7a-74df-4bd8-8fc4-d4da1a516c8c",
     "showTitle": false,
     "tableResultSettingsMap": {},
     "title": ""
    }
   },
   "source": [
    "# **🔗 Bibliography/References**\n"
   ]
  },
  {
   "cell_type": "markdown",
   "metadata": {
    "application/vnd.databricks.v1+cell": {
     "cellMetadata": {
      "byteLimit": 2048000,
      "rowLimit": 10000
     },
     "inputWidgets": {},
     "nuid": "6dd5572b-88fd-4765-baf5-b0d7ae4291e5",
     "showTitle": false,
     "tableResultSettingsMap": {},
     "title": ""
    }
   },
   "source": [
    "**[[1]](https://amazon-reviews-2023.github.io/#for-user-reviews)** McAuley Lab. (2023). Blocked Page. Github.io. [https://amazon-reviews-2023.github.io/#for-user-reviews](https://amazon-reviews-2023.github.io/#for-user-reviews)\n",
    "\n",
    "**[[2]](https://arxiv.org/abs/2403.03952)** Hou, Y., Li, J., He, Z., Yan, A., Chen, X., & McAuley, J. (2024). Bridging Language and Items for Retrieval and Recommendation. ArXiv.org. [https://arxiv.org/abs/2403.03952](https://arxiv.org/abs/2403.03952)\n",
    "\n",
    "\n"
   ]
  }
 ],
 "metadata": {
  "application/vnd.databricks.v1+notebook": {
   "computePreferences": null,
   "dashboards": [],
   "environmentMetadata": null,
   "inputWidgetPreferences": null,
   "language": "python",
   "notebookMetadata": {
    "mostRecentlyExecutedCommandWithImplicitDF": {
     "commandId": 2436292576056476,
     "dataframes": [
      "_sqldf"
     ]
    },
    "pythonIndentUnit": 4
   },
   "notebookName": "0_DataCollection_BDAProject_Group37_DataBricks",
   "widgets": {}
  },
  "kernelspec": {
   "display_name": "Python 3",
   "language": "python",
   "name": "python3"
  },
  "language_info": {
   "codemirror_mode": {
    "name": "ipython",
    "version": 3
   },
   "file_extension": ".py",
   "mimetype": "text/x-python",
   "name": "python",
   "nbconvert_exporter": "python",
   "pygments_lexer": "ipython3",
   "version": "3.10.6"
  },
  "toc": {
   "base_numbering": 1,
   "nav_menu": {},
   "number_sections": true,
   "sideBar": true,
   "skip_h1_title": false,
   "title_cell": "Table of Contents",
   "title_sidebar": "Contents",
   "toc_cell": false,
   "toc_position": {},
   "toc_section_display": true,
   "toc_window_display": false
  }
 },
 "nbformat": 4,
 "nbformat_minor": 0
}