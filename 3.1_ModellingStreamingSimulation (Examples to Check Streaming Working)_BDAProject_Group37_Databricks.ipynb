{
 "cells": [
  {
   "cell_type": "code",
   "execution_count": 0,
   "metadata": {
    "application/vnd.databricks.v1+cell": {
     "cellMetadata": {
      "byteLimit": 2048000,
      "rowLimit": 10000
     },
     "inputWidgets": {},
     "nuid": "75acd9ce-534c-4cd8-9841-876478cc115c",
     "showTitle": false,
     "tableResultSettingsMap": {},
     "title": ""
    },
    "jupyter": {
     "source_hidden": true
    }
   },
   "outputs": [
    {
     "output_type": "display_data",
     "data": {
      "text/html": [
       "\n",
       "# <span style=\"color: #ffffff;\">Streaming (Simulation)</span>\n",
       "<style>\n",
       "@import url('https://fonts.cdnfonts.com/css/avenir-next-lt-pro?styles=29974');\n",
       "</style>\n",
       "\n",
       "<div style=\"background: transparent;\n",
       "            padding: 10px; color: white; border-radius: 300px; text-align: center;\n",
       "            border: 2px solid #C32A68;\">\n",
       "    <center><h2 style=\"margin-left: 120px;margin-top: 10px; margin-bottom: 4px; color: #C32A68;\n",
       "                       font-size: 34px; font-family: 'Avenir Next LT Pro', sans-serif;\"><b>Streaming (Simulation)</b></h2></center>\n",
       "</div>\n"
      ]
     },
     "metadata": {
      "application/vnd.databricks.v1+output": {
       "addedWidgets": {},
       "arguments": {},
       "data": "\n# <span style=\"color: #ffffff;\">Streaming (Simulation)</span>\n<style>\n@import url('https://fonts.cdnfonts.com/css/avenir-next-lt-pro?styles=29974');\n</style>\n\n<div style=\"background: transparent;\n            padding: 10px; color: white; border-radius: 300px; text-align: center;\n            border: 2px solid #C32A68;\">\n    <center><h2 style=\"margin-left: 120px;margin-top: 10px; margin-bottom: 4px; color: #C32A68;\n                       font-size: 34px; font-family: 'Avenir Next LT Pro', sans-serif;\"><b>Streaming (Simulation)</b></h2></center>\n</div>\n",
       "datasetInfos": [],
       "metadata": {},
       "removedWidgets": [],
       "textData": null,
       "type": "htmlSandbox"
      }
     },
     "output_type": "display_data"
    }
   ],
   "source": [
    "displayHTML('''\n",
    "# <span style=\"color: #ffffff;\">Streaming (Simulation)</span>\n",
    "<style>\n",
    "@import url('https://fonts.cdnfonts.com/css/avenir-next-lt-pro?styles=29974');\n",
    "</style>\n",
    "\n",
    "<div style=\"background: transparent;\n",
    "            padding: 10px; color: white; border-radius: 300px; text-align: center;\n",
    "            border: 2px solid #C32A68;\">\n",
    "    <center><h2 style=\"margin-left: 120px;margin-top: 10px; margin-bottom: 4px; color: #C32A68;\n",
    "                       font-size: 34px; font-family: 'Avenir Next LT Pro', sans-serif;\"><b>Streaming (Simulation)</b></h2></center>\n",
    "</div>\n",
    "''')"
   ]
  },
  {
   "cell_type": "code",
   "execution_count": 0,
   "metadata": {
    "application/vnd.databricks.v1+cell": {
     "cellMetadata": {
      "byteLimit": 2048000,
      "rowLimit": 10000
     },
     "inputWidgets": {},
     "nuid": "4fae49fb-5bb0-49a4-a942-18af6ff3b1ad",
     "showTitle": false,
     "tableResultSettingsMap": {},
     "title": ""
    }
   },
   "outputs": [
    {
     "output_type": "stream",
     "name": "stdout",
     "output_type": "stream",
     "text": [
      "Out[32]: True"
     ]
    }
   ],
   "source": [
    "# # If it has already been run and you want to run it again, we have to make sure that the directory is cleaned and the table is recreated correctly\n",
    "# spark.sql(\"DROP TABLE IF EXISTS live_sentiment_results_table\")\n",
    "# dbutils.fs.rm(\"dbfs:/FileStore/BDAProject/AdvancedStreamingSimulation/\", recurse=True)\n",
    "# dbutils.fs.mkdirs(\"dbfs:/FileStore/BDAProject/AdvancedStreamingSimulation/input_texts/\")"
   ]
  },
  {
   "cell_type": "markdown",
   "metadata": {
    "application/vnd.databricks.v1+cell": {
     "cellMetadata": {},
     "inputWidgets": {},
     "nuid": "49df43f8-3891-45cd-87b3-3edaef5393df",
     "showTitle": false,
     "tableResultSettingsMap": {},
     "title": ""
    }
   },
   "source": [
    "# **☁️ Advanced Streaming Simulation (Demonstration)** "
   ]
  },
  {
   "cell_type": "markdown",
   "metadata": {
    "application/vnd.databricks.v1+cell": {
     "cellMetadata": {
      "byteLimit": 2048000,
      "rowLimit": 10000
     },
     "inputWidgets": {},
     "nuid": "33e6386b-7513-432f-9f61-02cd799072bd",
     "showTitle": false,
     "tableResultSettingsMap": {},
     "title": ""
    }
   },
   "source": [
    "## Chunk 1: New Reviews (January 2, 2023)\n",
    "This cell writes a CSV file with two new reviews to the input directory. Run this cell first, then wait 10–15 seconds before running the next chunk."
   ]
  },
  {
   "cell_type": "code",
   "execution_count": 0,
   "metadata": {
    "application/vnd.databricks.v1+cell": {
     "cellMetadata": {
      "byteLimit": 2048000,
      "rowLimit": 10000
     },
     "inputWidgets": {},
     "nuid": "d5884b29-a99f-4354-b5bd-25da29e0dbed",
     "showTitle": false,
     "tableResultSettingsMap": {},
     "title": ""
    }
   },
   "outputs": [
    {
     "output_type": "stream",
     "name": "stdout",
     "output_type": "stream",
     "text": [
      "Wrote 460 bytes.\nSimulated new review file written to dbfs:/FileStore/BDAProject/AdvancedStreamingSimulation/input_texts/new_single_review_batch.csv\n"
     ]
    }
   ],
   "source": [
    "# Run this in a new Python cell AFTER the initial chunks are processed by the stream\n",
    "import os\n",
    "\n",
    "advanced_streaming_path = \"dbfs:/FileStore/BDAProject/AdvancedStreamingSimulation\"\n",
    "advanced_streaming_input_path = os.path.join(advanced_streaming_path, \"input_texts\")  # Input directory for streaming\n",
    "\n",
    "new_review_data = \"\"\"review_id,rating,review_text,parent_asin,user_id,timestamp,helpful_vote,timestamp_dt,year,month,day,day_of_week,hour\n",
    "new_review_001,5.0,\"This is an amazing new product I just received and it works perfectly!\",new_asin_001,new_user_001,1672531200,2,\"2023-01-01T00:00:00.000+0000\",2023,1,1,1,0\n",
    "new_review_002,1.0,\"Unfortunately this item broke after one day very disappointing.\",new_asin_002,new_user_002,1672531201,0,\"2023-01-01T00:00:01.000+0000\",2023,1,1,1,0\n",
    "\"\"\"\n",
    "dbutils.fs.put(os.path.join(advanced_streaming_input_path, \"new_single_review_batch.csv\"), new_review_data, overwrite=True)\n",
    "print(f\"Simulated new review file written to {os.path.join(advanced_streaming_input_path, 'new_single_review_batch.csv')}\")"
   ]
  },
  {
   "cell_type": "code",
   "execution_count": 0,
   "metadata": {
    "application/vnd.databricks.v1+cell": {
     "cellMetadata": {
      "byteLimit": 2048000,
      "implicitDf": true,
      "rowLimit": 10000
     },
     "inputWidgets": {},
     "nuid": "4f3031f4-244d-483b-b379-36e2bae93e63",
     "showTitle": false,
     "tableResultSettingsMap": {},
     "title": ""
    }
   },
   "outputs": [
    {
     "output_type": "display_data",
     "data": {
      "text/html": [
       "<style scoped>\n",
       "  .table-result-container {\n",
       "    max-height: 300px;\n",
       "    overflow: auto;\n",
       "  }\n",
       "  table, th, td {\n",
       "    border: 1px solid black;\n",
       "    border-collapse: collapse;\n",
       "  }\n",
       "  th, td {\n",
       "    padding: 5px;\n",
       "  }\n",
       "  th {\n",
       "    text-align: left;\n",
       "  }\n",
       "</style><div class='table-result-container'><table class='table-result'><thead style='background-color: white'><tr><th>review_id</th><th>SentimentLabel</th><th>SentimentScore</th></tr></thead><tbody><tr><td>new_review_001</td><td>Positive</td><td>0.9916028380393982</td></tr><tr><td>new_review_002</td><td>Negative</td><td>0.9736137986183167</td></tr></tbody></table></div>"
      ]
     },
     "metadata": {
      "application/vnd.databricks.v1+output": {
       "addedWidgets": {},
       "aggData": [],
       "aggError": "",
       "aggOverflow": false,
       "aggSchema": [],
       "aggSeriesLimitReached": false,
       "aggType": "",
       "arguments": {},
       "columnCustomDisplayInfos": {},
       "data": [
        [
         "new_review_001",
         "Positive",
         0.9916028380393982
        ],
        [
         "new_review_002",
         "Negative",
         0.9736137986183167
        ]
       ],
       "datasetInfos": [],
       "dbfsResultPath": null,
       "isJsonSchema": true,
       "metadata": {},
       "overflow": false,
       "plotOptions": {
        "customPlotOptions": {},
        "displayType": "table",
        "pivotAggregation": null,
        "pivotColumns": null,
        "xColumns": null,
        "yColumns": null
       },
       "removedWidgets": [],
       "schema": [
        {
         "metadata": "{}",
         "name": "review_id",
         "type": "\"string\""
        },
        {
         "metadata": "{}",
         "name": "SentimentLabel",
         "type": "\"string\""
        },
        {
         "metadata": "{}",
         "name": "SentimentScore",
         "type": "\"double\""
        }
       ],
       "type": "table"
      }
     },
     "output_type": "display_data"
    }
   ],
   "source": [
    "%sql\n",
    "SELECT * FROM live_sentiment_results_table;"
   ]
  },
  {
   "cell_type": "code",
   "execution_count": 0,
   "metadata": {
    "application/vnd.databricks.v1+cell": {
     "cellMetadata": {
      "byteLimit": 2048000,
      "implicitDf": true,
      "rowLimit": 10000
     },
     "inputWidgets": {},
     "nuid": "70b50745-f5c4-4080-8287-eb1ede5456fd",
     "showTitle": false,
     "tableResultSettingsMap": {},
     "title": ""
    }
   },
   "outputs": [
    {
     "output_type": "display_data",
     "data": {
      "text/html": [
       "<style scoped>\n",
       "  .table-result-container {\n",
       "    max-height: 300px;\n",
       "    overflow: auto;\n",
       "  }\n",
       "  table, th, td {\n",
       "    border: 1px solid black;\n",
       "    border-collapse: collapse;\n",
       "  }\n",
       "  th, td {\n",
       "    padding: 5px;\n",
       "  }\n",
       "  th {\n",
       "    text-align: left;\n",
       "  }\n",
       "</style><div class='table-result-container'><table class='table-result'><thead style='background-color: white'><tr><th>SentimentLabel</th><th>Review_Count</th></tr></thead><tbody><tr><td>Negative</td><td>1</td></tr><tr><td>Positive</td><td>1</td></tr></tbody></table></div>"
      ]
     },
     "metadata": {
      "application/vnd.databricks.v1+output": {
       "addedWidgets": {},
       "aggData": [],
       "aggError": "",
       "aggOverflow": false,
       "aggSchema": [],
       "aggSeriesLimitReached": false,
       "aggType": "",
       "arguments": {},
       "columnCustomDisplayInfos": {},
       "data": [
        [
         "Negative",
         1
        ],
        [
         "Positive",
         1
        ]
       ],
       "datasetInfos": [],
       "dbfsResultPath": null,
       "isJsonSchema": true,
       "metadata": {},
       "overflow": false,
       "plotOptions": {
        "customPlotOptions": {},
        "displayType": "table",
        "pivotAggregation": null,
        "pivotColumns": null,
        "xColumns": null,
        "yColumns": null
       },
       "removedWidgets": [],
       "schema": [
        {
         "metadata": "{}",
         "name": "SentimentLabel",
         "type": "\"string\""
        },
        {
         "metadata": "{}",
         "name": "Review_Count",
         "type": "\"long\""
        }
       ],
       "type": "table"
      }
     },
     "output_type": "display_data"
    }
   ],
   "source": [
    "%sql\n",
    "SELECT SentimentLabel, COUNT(*) as Review_Count\n",
    "FROM live_sentiment_results_table\n",
    "GROUP BY SentimentLabel\n",
    "ORDER BY Review_Count DESC;"
   ]
  },
  {
   "cell_type": "markdown",
   "metadata": {
    "application/vnd.databricks.v1+cell": {
     "cellMetadata": {
      "byteLimit": 2048000,
      "rowLimit": 10000
     },
     "inputWidgets": {},
     "nuid": "adf8bf8f-d594-4e1b-b9cb-c816274ef4b5",
     "showTitle": false,
     "tableResultSettingsMap": {},
     "title": ""
    }
   },
   "source": [
    "---"
   ]
  },
  {
   "cell_type": "markdown",
   "metadata": {
    "application/vnd.databricks.v1+cell": {
     "cellMetadata": {
      "byteLimit": 2048000,
      "rowLimit": 10000
     },
     "inputWidgets": {},
     "nuid": "fbe752b8-e5a3-4c8f-a574-1e2d79f8b281",
     "showTitle": false,
     "tableResultSettingsMap": {},
     "title": ""
    }
   },
   "source": [
    "## **Chunk 2:** New Reviews (January 3, 2023)\n",
    "This cell writes another CSV file with two new reviews. Run this after the first chunk has been processed (wait 10–15 seconds)."
   ]
  },
  {
   "cell_type": "code",
   "execution_count": 0,
   "metadata": {
    "application/vnd.databricks.v1+cell": {
     "cellMetadata": {
      "byteLimit": 2048000,
      "rowLimit": 10000
     },
     "inputWidgets": {},
     "nuid": "77710b51-b5f3-451e-8b31-17d087acde8e",
     "showTitle": false,
     "tableResultSettingsMap": {},
     "title": ""
    }
   },
   "outputs": [
    {
     "output_type": "stream",
     "name": "stdout",
     "output_type": "stream",
     "text": [
      "Wrote 434 bytes.\nSimulated new review file written to dbfs:/FileStore/BDAProject/AdvancedStreamingSimulation/input_texts/new_single_review_batch_2.csv\n"
     ]
    }
   ],
   "source": [
    "advanced_streaming_path = \"dbfs:/FileStore/BDAProject/AdvancedStreamingSimulation\"\n",
    "advanced_streaming_input_path = os.path.join(advanced_streaming_path, \"input_texts\")\n",
    "\n",
    "new_review_data = \"\"\"review_id,rating,review_text,parent_asin,user_id,timestamp,helpful_vote,timestamp_dt,year,month,day,day_of_week,hour\n",
    "new_review_005,5.0,\"This monitor has vibrant colors and is perfect for gaming!\",new_asin_005,new_user_005,1672704000,5,\"2023-01-03T00:00:00.000+0000\",2023,1,3,3,0\n",
    "new_review_006,3.0,\"Decent product but the setup was a bit confusing.\",new_asin_006,new_user_006,1672704001,2,\"2023-01-03T00:00:01.000+0000\",2023,1,3,3,0\n",
    "\"\"\"\n",
    "dbutils.fs.put(os.path.join(advanced_streaming_input_path, \"new_single_review_batch_2.csv\"), new_review_data, overwrite=True)\n",
    "print(f\"Simulated new review file written to {os.path.join(advanced_streaming_input_path, 'new_single_review_batch_2.csv')}\")"
   ]
  },
  {
   "cell_type": "code",
   "execution_count": 0,
   "metadata": {
    "application/vnd.databricks.v1+cell": {
     "cellMetadata": {
      "byteLimit": 2048000,
      "implicitDf": true,
      "rowLimit": 10000
     },
     "inputWidgets": {},
     "nuid": "a00b6283-91d4-4ab7-bcf2-c40b25aadbdb",
     "showTitle": false,
     "tableResultSettingsMap": {},
     "title": ""
    }
   },
   "outputs": [
    {
     "output_type": "display_data",
     "data": {
      "text/html": [
       "<style scoped>\n",
       "  .table-result-container {\n",
       "    max-height: 300px;\n",
       "    overflow: auto;\n",
       "  }\n",
       "  table, th, td {\n",
       "    border: 1px solid black;\n",
       "    border-collapse: collapse;\n",
       "  }\n",
       "  th, td {\n",
       "    padding: 5px;\n",
       "  }\n",
       "  th {\n",
       "    text-align: left;\n",
       "  }\n",
       "</style><div class='table-result-container'><table class='table-result'><thead style='background-color: white'><tr><th>review_id</th><th>SentimentLabel</th><th>SentimentScore</th></tr></thead><tbody><tr><td>new_review_001</td><td>Positive</td><td>0.9916028380393982</td></tr><tr><td>new_review_002</td><td>Negative</td><td>0.9736137986183167</td></tr><tr><td>new_review_005</td><td>Positive</td><td>0.9478766918182373</td></tr><tr><td>new_review_006</td><td>Negative</td><td>0.8762170672416687</td></tr></tbody></table></div>"
      ]
     },
     "metadata": {
      "application/vnd.databricks.v1+output": {
       "addedWidgets": {},
       "aggData": [],
       "aggError": "",
       "aggOverflow": false,
       "aggSchema": [],
       "aggSeriesLimitReached": false,
       "aggType": "",
       "arguments": {},
       "columnCustomDisplayInfos": {},
       "data": [
        [
         "new_review_001",
         "Positive",
         0.9916028380393982
        ],
        [
         "new_review_002",
         "Negative",
         0.9736137986183167
        ],
        [
         "new_review_005",
         "Positive",
         0.9478766918182373
        ],
        [
         "new_review_006",
         "Negative",
         0.8762170672416687
        ]
       ],
       "datasetInfos": [],
       "dbfsResultPath": null,
       "isJsonSchema": true,
       "metadata": {},
       "overflow": false,
       "plotOptions": {
        "customPlotOptions": {},
        "displayType": "table",
        "pivotAggregation": null,
        "pivotColumns": null,
        "xColumns": null,
        "yColumns": null
       },
       "removedWidgets": [],
       "schema": [
        {
         "metadata": "{}",
         "name": "review_id",
         "type": "\"string\""
        },
        {
         "metadata": "{}",
         "name": "SentimentLabel",
         "type": "\"string\""
        },
        {
         "metadata": "{}",
         "name": "SentimentScore",
         "type": "\"double\""
        }
       ],
       "type": "table"
      }
     },
     "output_type": "display_data"
    }
   ],
   "source": [
    "%sql\n",
    "SELECT * FROM live_sentiment_results_table;"
   ]
  },
  {
   "cell_type": "code",
   "execution_count": 0,
   "metadata": {
    "application/vnd.databricks.v1+cell": {
     "cellMetadata": {
      "byteLimit": 2048000,
      "implicitDf": true,
      "rowLimit": 10000
     },
     "inputWidgets": {},
     "nuid": "ea59081f-ca24-4bde-aae0-63a665e42d1c",
     "showTitle": false,
     "tableResultSettingsMap": {},
     "title": ""
    }
   },
   "outputs": [
    {
     "output_type": "display_data",
     "data": {
      "text/html": [
       "<style scoped>\n",
       "  .table-result-container {\n",
       "    max-height: 300px;\n",
       "    overflow: auto;\n",
       "  }\n",
       "  table, th, td {\n",
       "    border: 1px solid black;\n",
       "    border-collapse: collapse;\n",
       "  }\n",
       "  th, td {\n",
       "    padding: 5px;\n",
       "  }\n",
       "  th {\n",
       "    text-align: left;\n",
       "  }\n",
       "</style><div class='table-result-container'><table class='table-result'><thead style='background-color: white'><tr><th>SentimentLabel</th><th>Review_Count</th></tr></thead><tbody><tr><td>Positive</td><td>2</td></tr><tr><td>Negative</td><td>2</td></tr></tbody></table></div>"
      ]
     },
     "metadata": {
      "application/vnd.databricks.v1+output": {
       "addedWidgets": {},
       "aggData": [],
       "aggError": "",
       "aggOverflow": false,
       "aggSchema": [],
       "aggSeriesLimitReached": false,
       "aggType": "",
       "arguments": {},
       "columnCustomDisplayInfos": {},
       "data": [
        [
         "Positive",
         2
        ],
        [
         "Negative",
         2
        ]
       ],
       "datasetInfos": [],
       "dbfsResultPath": null,
       "isJsonSchema": true,
       "metadata": {},
       "overflow": false,
       "plotOptions": {
        "customPlotOptions": {},
        "displayType": "table",
        "pivotAggregation": null,
        "pivotColumns": null,
        "xColumns": null,
        "yColumns": null
       },
       "removedWidgets": [],
       "schema": [
        {
         "metadata": "{}",
         "name": "SentimentLabel",
         "type": "\"string\""
        },
        {
         "metadata": "{}",
         "name": "Review_Count",
         "type": "\"long\""
        }
       ],
       "type": "table"
      }
     },
     "output_type": "display_data"
    }
   ],
   "source": [
    "%sql\n",
    "SELECT SentimentLabel, COUNT(*) as Review_Count\n",
    "FROM live_sentiment_results_table\n",
    "GROUP BY SentimentLabel\n",
    "ORDER BY Review_Count DESC;"
   ]
  },
  {
   "cell_type": "markdown",
   "metadata": {
    "application/vnd.databricks.v1+cell": {
     "cellMetadata": {
      "byteLimit": 2048000,
      "rowLimit": 10000
     },
     "inputWidgets": {},
     "nuid": "2ed71386-3993-41c9-8a0a-60b7a7bddbb5",
     "showTitle": false,
     "tableResultSettingsMap": {},
     "title": ""
    }
   },
   "source": [
    "---"
   ]
  },
  {
   "cell_type": "markdown",
   "metadata": {
    "application/vnd.databricks.v1+cell": {
     "cellMetadata": {
      "byteLimit": 2048000,
      "rowLimit": 10000
     },
     "inputWidgets": {},
     "nuid": "b22b380c-4ad0-4927-b52f-38e7438b5bdf",
     "showTitle": false,
     "tableResultSettingsMap": {},
     "title": ""
    }
   },
   "source": [
    "## **Chunk 3:** New Reviews (January 4, 2023)\n",
    "This cell writes a third CSV file with two new reviews. Run this after the second chunk has been processed."
   ]
  },
  {
   "cell_type": "code",
   "execution_count": 0,
   "metadata": {
    "application/vnd.databricks.v1+cell": {
     "cellMetadata": {
      "byteLimit": 2048000,
      "rowLimit": 10000
     },
     "inputWidgets": {},
     "nuid": "eebe3955-e321-4f6c-aa98-53074a800634",
     "showTitle": false,
     "tableResultSettingsMap": {},
     "title": ""
    }
   },
   "outputs": [
    {
     "output_type": "stream",
     "name": "stdout",
     "output_type": "stream",
     "text": [
      "Wrote 440 bytes.\nSimulated new review file written to dbfs:/FileStore/BDAProject/AdvancedStreamingSimulation/input_texts/new_single_review_batch_3.csv\n"
     ]
    }
   ],
   "source": [
    "advanced_streaming_path = \"dbfs:/FileStore/BDAProject/AdvancedStreamingSimulation\"\n",
    "advanced_streaming_input_path = os.path.join(advanced_streaming_path, \"input_texts\")\n",
    "\n",
    "new_review_data = \"\"\"review_id,rating,review_text,parent_asin,user_id,timestamp,helpful_vote,timestamp_dt,year,month,day,day_of_week,hour\n",
    "new_review_007,1.0,\"Terrible experience, the device stopped working after a week.\",new_asin_007,new_user_007,1672790400,0,\"2023-01-04T00:00:00.000+0000\",2023,1,4,4,0\n",
    "new_review_008,4.0,\"Pretty good headphones, sound quality is impressive.\",new_asin_008,new_user_008,1672790401,4,\"2023-01-04T00:00:01.000+0000\",2023,1,4,4,0\n",
    "\"\"\"\n",
    "dbutils.fs.put(os.path.join(advanced_streaming_input_path, \"new_single_review_batch_3.csv\"), new_review_data, overwrite=True)\n",
    "print(f\"Simulated new review file written to {os.path.join(advanced_streaming_input_path, 'new_single_review_batch_3.csv')}\")"
   ]
  },
  {
   "cell_type": "code",
   "execution_count": 0,
   "metadata": {
    "application/vnd.databricks.v1+cell": {
     "cellMetadata": {
      "byteLimit": 2048000,
      "implicitDf": true,
      "rowLimit": 10000
     },
     "inputWidgets": {},
     "nuid": "940dcfaa-5c70-402e-902e-155024092ec0",
     "showTitle": false,
     "tableResultSettingsMap": {},
     "title": ""
    }
   },
   "outputs": [
    {
     "output_type": "display_data",
     "data": {
      "text/html": [
       "<style scoped>\n",
       "  .table-result-container {\n",
       "    max-height: 300px;\n",
       "    overflow: auto;\n",
       "  }\n",
       "  table, th, td {\n",
       "    border: 1px solid black;\n",
       "    border-collapse: collapse;\n",
       "  }\n",
       "  th, td {\n",
       "    padding: 5px;\n",
       "  }\n",
       "  th {\n",
       "    text-align: left;\n",
       "  }\n",
       "</style><div class='table-result-container'><table class='table-result'><thead style='background-color: white'><tr><th>review_id</th><th>SentimentLabel</th><th>SentimentScore</th></tr></thead><tbody><tr><td>new_review_001</td><td>Positive</td><td>0.9916028380393982</td></tr><tr><td>new_review_002</td><td>Negative</td><td>0.9736137986183167</td></tr><tr><td>new_review_005</td><td>Positive</td><td>0.9478766918182373</td></tr><tr><td>new_review_007</td><td>Negative</td><td>0.9797434210777283</td></tr><tr><td>new_review_008</td><td>Positive</td><td>0.987636148929596</td></tr><tr><td>new_review_006</td><td>Negative</td><td>0.8762170672416687</td></tr></tbody></table></div>"
      ]
     },
     "metadata": {
      "application/vnd.databricks.v1+output": {
       "addedWidgets": {},
       "aggData": [],
       "aggError": "",
       "aggOverflow": false,
       "aggSchema": [],
       "aggSeriesLimitReached": false,
       "aggType": "",
       "arguments": {},
       "columnCustomDisplayInfos": {},
       "data": [
        [
         "new_review_001",
         "Positive",
         0.9916028380393982
        ],
        [
         "new_review_002",
         "Negative",
         0.9736137986183167
        ],
        [
         "new_review_005",
         "Positive",
         0.9478766918182373
        ],
        [
         "new_review_007",
         "Negative",
         0.9797434210777283
        ],
        [
         "new_review_008",
         "Positive",
         0.987636148929596
        ],
        [
         "new_review_006",
         "Negative",
         0.8762170672416687
        ]
       ],
       "datasetInfos": [],
       "dbfsResultPath": null,
       "isJsonSchema": true,
       "metadata": {},
       "overflow": false,
       "plotOptions": {
        "customPlotOptions": {},
        "displayType": "table",
        "pivotAggregation": null,
        "pivotColumns": null,
        "xColumns": null,
        "yColumns": null
       },
       "removedWidgets": [],
       "schema": [
        {
         "metadata": "{}",
         "name": "review_id",
         "type": "\"string\""
        },
        {
         "metadata": "{}",
         "name": "SentimentLabel",
         "type": "\"string\""
        },
        {
         "metadata": "{}",
         "name": "SentimentScore",
         "type": "\"double\""
        }
       ],
       "type": "table"
      }
     },
     "output_type": "display_data"
    }
   ],
   "source": [
    "%sql\n",
    "SELECT * FROM live_sentiment_results_table;"
   ]
  },
  {
   "cell_type": "code",
   "execution_count": 0,
   "metadata": {
    "application/vnd.databricks.v1+cell": {
     "cellMetadata": {
      "byteLimit": 2048000,
      "implicitDf": true,
      "rowLimit": 10000
     },
     "inputWidgets": {},
     "nuid": "2973201d-52e8-4c5b-8a3b-8bb547768120",
     "showTitle": false,
     "tableResultSettingsMap": {},
     "title": ""
    }
   },
   "outputs": [
    {
     "output_type": "display_data",
     "data": {
      "text/html": [
       "<style scoped>\n",
       "  .table-result-container {\n",
       "    max-height: 300px;\n",
       "    overflow: auto;\n",
       "  }\n",
       "  table, th, td {\n",
       "    border: 1px solid black;\n",
       "    border-collapse: collapse;\n",
       "  }\n",
       "  th, td {\n",
       "    padding: 5px;\n",
       "  }\n",
       "  th {\n",
       "    text-align: left;\n",
       "  }\n",
       "</style><div class='table-result-container'><table class='table-result'><thead style='background-color: white'><tr><th>SentimentLabel</th><th>Review_Count</th></tr></thead><tbody><tr><td>Positive</td><td>3</td></tr><tr><td>Negative</td><td>3</td></tr></tbody></table></div>"
      ]
     },
     "metadata": {
      "application/vnd.databricks.v1+output": {
       "addedWidgets": {},
       "aggData": [],
       "aggError": "",
       "aggOverflow": false,
       "aggSchema": [],
       "aggSeriesLimitReached": false,
       "aggType": "",
       "arguments": {},
       "columnCustomDisplayInfos": {},
       "data": [
        [
         "Positive",
         3
        ],
        [
         "Negative",
         3
        ]
       ],
       "datasetInfos": [],
       "dbfsResultPath": null,
       "isJsonSchema": true,
       "metadata": {},
       "overflow": false,
       "plotOptions": {
        "customPlotOptions": {},
        "displayType": "table",
        "pivotAggregation": null,
        "pivotColumns": null,
        "xColumns": null,
        "yColumns": null
       },
       "removedWidgets": [],
       "schema": [
        {
         "metadata": "{}",
         "name": "SentimentLabel",
         "type": "\"string\""
        },
        {
         "metadata": "{}",
         "name": "Review_Count",
         "type": "\"long\""
        }
       ],
       "type": "table"
      }
     },
     "output_type": "display_data"
    }
   ],
   "source": [
    "%sql\n",
    "SELECT SentimentLabel, COUNT(*) as Review_Count\n",
    "FROM live_sentiment_results_table\n",
    "GROUP BY SentimentLabel\n",
    "ORDER BY Review_Count DESC;"
   ]
  },
  {
   "cell_type": "markdown",
   "metadata": {
    "application/vnd.databricks.v1+cell": {
     "cellMetadata": {
      "byteLimit": 2048000,
      "rowLimit": 10000
     },
     "inputWidgets": {},
     "nuid": "5a189269-476f-425c-94a6-3b119e8fade0",
     "showTitle": false,
     "tableResultSettingsMap": {},
     "title": ""
    }
   },
   "source": [
    "---"
   ]
  },
  {
   "cell_type": "markdown",
   "metadata": {
    "application/vnd.databricks.v1+cell": {
     "cellMetadata": {
      "byteLimit": 2048000,
      "rowLimit": 10000
     },
     "inputWidgets": {},
     "nuid": "45db6962-2742-4d3d-8190-d13888818cda",
     "showTitle": false,
     "tableResultSettingsMap": {},
     "title": ""
    }
   },
   "source": [
    "## **Chunk 4:** New Reviews (January 5, 2023)\n",
    "This cell writes a fourth CSV file with two new reviews. Run this after the third chunk has been processed."
   ]
  },
  {
   "cell_type": "code",
   "execution_count": 0,
   "metadata": {
    "application/vnd.databricks.v1+cell": {
     "cellMetadata": {
      "byteLimit": 2048000,
      "rowLimit": 10000
     },
     "inputWidgets": {},
     "nuid": "af944d50-0fde-4fea-8b68-3c8db45774a5",
     "showTitle": false,
     "tableResultSettingsMap": {},
     "title": ""
    }
   },
   "outputs": [
    {
     "output_type": "stream",
     "name": "stdout",
     "output_type": "stream",
     "text": [
      "Wrote 438 bytes.\nSimulated new review file written to dbfs:/FileStore/BDAProject/AdvancedStreamingSimulation/input_texts/new_single_review_batch_4.csv\n"
     ]
    }
   ],
   "source": [
    "advanced_streaming_path = \"dbfs:/FileStore/BDAProject/AdvancedStreamingSimulation\"\n",
    "advanced_streaming_input_path = os.path.join(advanced_streaming_path, \"input_texts\")\n",
    "\n",
    "new_review_data = \"\"\"review_id,rating,review_text,parent_asin,user_id,timestamp,helpful_vote,timestamp_dt,year,month,day,day_of_week,hour\n",
    "new_review_009,3.0,\"The keyboard is okay but the keys feel a bit cheap.\",new_asin_009,new_user_009,1672876800,1,\"2023-01-05T00:00:00.000+0000\",2023,1,5,5,0\n",
    "new_review_010,5.0,\"Love this smart speaker, integrates well with my home setup!\",new_asin_010,new_user_010,1672876801,6,\"2023-01-05T00:00:01.000+0000\",2023,1,5,5,0\n",
    "\"\"\"\n",
    "dbutils.fs.put(os.path.join(advanced_streaming_input_path, \"new_single_review_batch_4.csv\"), new_review_data, overwrite=True)\n",
    "print(f\"Simulated new review file written to {os.path.join(advanced_streaming_input_path, 'new_single_review_batch_4.csv')}\")"
   ]
  },
  {
   "cell_type": "code",
   "execution_count": 0,
   "metadata": {
    "application/vnd.databricks.v1+cell": {
     "cellMetadata": {
      "byteLimit": 2048000,
      "implicitDf": true,
      "rowLimit": 10000
     },
     "inputWidgets": {},
     "nuid": "7726fbdc-6baa-4bf8-9eff-a00b79484624",
     "showTitle": false,
     "tableResultSettingsMap": {},
     "title": ""
    }
   },
   "outputs": [
    {
     "output_type": "display_data",
     "data": {
      "text/html": [
       "<style scoped>\n",
       "  .table-result-container {\n",
       "    max-height: 300px;\n",
       "    overflow: auto;\n",
       "  }\n",
       "  table, th, td {\n",
       "    border: 1px solid black;\n",
       "    border-collapse: collapse;\n",
       "  }\n",
       "  th, td {\n",
       "    padding: 5px;\n",
       "  }\n",
       "  th {\n",
       "    text-align: left;\n",
       "  }\n",
       "</style><div class='table-result-container'><table class='table-result'><thead style='background-color: white'><tr><th>review_id</th><th>SentimentLabel</th><th>SentimentScore</th></tr></thead><tbody><tr><td>new_review_001</td><td>Positive</td><td>0.9916028380393982</td></tr><tr><td>new_review_002</td><td>Negative</td><td>0.9736137986183167</td></tr><tr><td>new_review_005</td><td>Positive</td><td>0.9478766918182373</td></tr><tr><td>new_review_007</td><td>Negative</td><td>0.9797434210777283</td></tr><tr><td>new_review_008</td><td>Positive</td><td>0.987636148929596</td></tr><tr><td>new_review_009</td><td>Negative</td><td>0.7507771253585815</td></tr><tr><td>new_review_010</td><td>Positive</td><td>0.9913573265075684</td></tr><tr><td>new_review_006</td><td>Negative</td><td>0.8762170672416687</td></tr></tbody></table></div>"
      ]
     },
     "metadata": {
      "application/vnd.databricks.v1+output": {
       "addedWidgets": {},
       "aggData": [],
       "aggError": "",
       "aggOverflow": false,
       "aggSchema": [],
       "aggSeriesLimitReached": false,
       "aggType": "",
       "arguments": {},
       "columnCustomDisplayInfos": {},
       "data": [
        [
         "new_review_001",
         "Positive",
         0.9916028380393982
        ],
        [
         "new_review_002",
         "Negative",
         0.9736137986183167
        ],
        [
         "new_review_005",
         "Positive",
         0.9478766918182373
        ],
        [
         "new_review_007",
         "Negative",
         0.9797434210777283
        ],
        [
         "new_review_008",
         "Positive",
         0.987636148929596
        ],
        [
         "new_review_009",
         "Negative",
         0.7507771253585815
        ],
        [
         "new_review_010",
         "Positive",
         0.9913573265075684
        ],
        [
         "new_review_006",
         "Negative",
         0.8762170672416687
        ]
       ],
       "datasetInfos": [],
       "dbfsResultPath": null,
       "isJsonSchema": true,
       "metadata": {},
       "overflow": false,
       "plotOptions": {
        "customPlotOptions": {},
        "displayType": "table",
        "pivotAggregation": null,
        "pivotColumns": null,
        "xColumns": null,
        "yColumns": null
       },
       "removedWidgets": [],
       "schema": [
        {
         "metadata": "{}",
         "name": "review_id",
         "type": "\"string\""
        },
        {
         "metadata": "{}",
         "name": "SentimentLabel",
         "type": "\"string\""
        },
        {
         "metadata": "{}",
         "name": "SentimentScore",
         "type": "\"double\""
        }
       ],
       "type": "table"
      }
     },
     "output_type": "display_data"
    }
   ],
   "source": [
    "%sql\n",
    "SELECT * FROM live_sentiment_results_table;"
   ]
  },
  {
   "cell_type": "code",
   "execution_count": 0,
   "metadata": {
    "application/vnd.databricks.v1+cell": {
     "cellMetadata": {
      "byteLimit": 2048000,
      "implicitDf": true,
      "rowLimit": 10000
     },
     "inputWidgets": {},
     "nuid": "abd67a15-4d92-4293-8a97-d336704ff09d",
     "showTitle": false,
     "tableResultSettingsMap": {},
     "title": ""
    }
   },
   "outputs": [
    {
     "output_type": "display_data",
     "data": {
      "text/html": [
       "<style scoped>\n",
       "  .table-result-container {\n",
       "    max-height: 300px;\n",
       "    overflow: auto;\n",
       "  }\n",
       "  table, th, td {\n",
       "    border: 1px solid black;\n",
       "    border-collapse: collapse;\n",
       "  }\n",
       "  th, td {\n",
       "    padding: 5px;\n",
       "  }\n",
       "  th {\n",
       "    text-align: left;\n",
       "  }\n",
       "</style><div class='table-result-container'><table class='table-result'><thead style='background-color: white'><tr><th>SentimentLabel</th><th>Review_Count</th></tr></thead><tbody><tr><td>Positive</td><td>4</td></tr><tr><td>Negative</td><td>4</td></tr></tbody></table></div>"
      ]
     },
     "metadata": {
      "application/vnd.databricks.v1+output": {
       "addedWidgets": {},
       "aggData": [],
       "aggError": "",
       "aggOverflow": false,
       "aggSchema": [],
       "aggSeriesLimitReached": false,
       "aggType": "",
       "arguments": {},
       "columnCustomDisplayInfos": {},
       "data": [
        [
         "Positive",
         4
        ],
        [
         "Negative",
         4
        ]
       ],
       "datasetInfos": [],
       "dbfsResultPath": null,
       "isJsonSchema": true,
       "metadata": {},
       "overflow": false,
       "plotOptions": {
        "customPlotOptions": {},
        "displayType": "table",
        "pivotAggregation": null,
        "pivotColumns": null,
        "xColumns": null,
        "yColumns": null
       },
       "removedWidgets": [],
       "schema": [
        {
         "metadata": "{}",
         "name": "SentimentLabel",
         "type": "\"string\""
        },
        {
         "metadata": "{}",
         "name": "Review_Count",
         "type": "\"long\""
        }
       ],
       "type": "table"
      }
     },
     "output_type": "display_data"
    }
   ],
   "source": [
    "%sql\n",
    "SELECT SentimentLabel, COUNT(*) as Review_Count\n",
    "FROM live_sentiment_results_table\n",
    "GROUP BY SentimentLabel\n",
    "ORDER BY Review_Count DESC;"
   ]
  },
  {
   "cell_type": "markdown",
   "metadata": {
    "application/vnd.databricks.v1+cell": {
     "cellMetadata": {
      "byteLimit": 2048000,
      "rowLimit": 10000
     },
     "inputWidgets": {},
     "nuid": "eae15762-a8d7-41f1-8f59-d12bdf0eec97",
     "showTitle": false,
     "tableResultSettingsMap": {},
     "title": ""
    }
   },
   "source": [
    "### **Final Notes**\n",
    "Run each chunk cell sequentially, waiting 10–15 seconds between runs to ensure the streaming query processes each file. You can extend this notebook by adding more chunks with different review data if needed."
   ]
  }
 ],
 "metadata": {
  "application/vnd.databricks.v1+notebook": {
   "computePreferences": null,
   "dashboards": [],
   "environmentMetadata": {
    "base_environment": "",
    "environment_version": "1"
   },
   "inputWidgetPreferences": null,
   "language": "python",
   "notebookMetadata": {
    "mostRecentlyExecutedCommandWithImplicitDF": {
     "commandId": 2255758064833996,
     "dataframes": [
      "_sqldf"
     ]
    },
    "pythonIndentUnit": 4
   },
   "notebookName": "3.1_ModellingStreamingSimulation (Examples to Check Streaming Working)_BDAProject_Group37_Databricks",
   "widgets": {}
  }
 },
 "nbformat": 4,
 "nbformat_minor": 0
}